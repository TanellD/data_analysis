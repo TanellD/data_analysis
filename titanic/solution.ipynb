{
 "cells": [
  {
   "cell_type": "code",
   "execution_count": 26,
   "id": "initial_id",
   "metadata": {
    "collapsed": true,
    "ExecuteTime": {
     "end_time": "2024-03-08T03:35:12.981588800Z",
     "start_time": "2024-03-08T03:35:12.848559800Z"
    }
   },
   "outputs": [],
   "source": [
    "import pandas as pd\n",
    "import numpy as np\n",
    "import seaborn as sns\n",
    "import matplotlib.pyplot as plt"
   ]
  },
  {
   "cell_type": "code",
   "execution_count": 27,
   "outputs": [],
   "source": [
    "train = pd.read_csv('train.csv')\n",
    "test = pd.read_csv('test.csv')"
   ],
   "metadata": {
    "collapsed": false,
    "ExecuteTime": {
     "end_time": "2024-03-08T03:35:12.981588800Z",
     "start_time": "2024-03-08T03:35:12.869564600Z"
    }
   },
   "id": "2285b2282db9cf4f"
  },
  {
   "cell_type": "code",
   "execution_count": 28,
   "outputs": [],
   "source": [
    "X_train = train.drop(columns=['Name', 'Survived', 'Ticket', 'Cabin', 'PassengerId'])\n",
    "X_test = test.drop(columns=['Name', 'Ticket', 'Cabin', 'PassengerId'])\n",
    "y_train = train['Survived']"
   ],
   "metadata": {
    "collapsed": false,
    "ExecuteTime": {
     "end_time": "2024-03-08T03:35:12.982589600Z",
     "start_time": "2024-03-08T03:35:12.884566800Z"
    }
   },
   "id": "8b81c729017731da"
  },
  {
   "cell_type": "code",
   "execution_count": 29,
   "outputs": [
    {
     "data": {
      "text/plain": "   Pclass Sex   Age  SibSp  Parch     Fare Embarked\n0       3   1  22.0      1      0   7.2500        1\n1       1   0  38.0      1      0  71.2833        3\n2       3   0  26.0      0      0   7.9250        1\n3       1   0  35.0      1      0  53.1000        1\n4       3   1  35.0      0      0   8.0500        1",
      "text/html": "<div>\n<style scoped>\n    .dataframe tbody tr th:only-of-type {\n        vertical-align: middle;\n    }\n\n    .dataframe tbody tr th {\n        vertical-align: top;\n    }\n\n    .dataframe thead th {\n        text-align: right;\n    }\n</style>\n<table border=\"1\" class=\"dataframe\">\n  <thead>\n    <tr style=\"text-align: right;\">\n      <th></th>\n      <th>Pclass</th>\n      <th>Sex</th>\n      <th>Age</th>\n      <th>SibSp</th>\n      <th>Parch</th>\n      <th>Fare</th>\n      <th>Embarked</th>\n    </tr>\n  </thead>\n  <tbody>\n    <tr>\n      <th>0</th>\n      <td>3</td>\n      <td>1</td>\n      <td>22.0</td>\n      <td>1</td>\n      <td>0</td>\n      <td>7.2500</td>\n      <td>1</td>\n    </tr>\n    <tr>\n      <th>1</th>\n      <td>1</td>\n      <td>0</td>\n      <td>38.0</td>\n      <td>1</td>\n      <td>0</td>\n      <td>71.2833</td>\n      <td>3</td>\n    </tr>\n    <tr>\n      <th>2</th>\n      <td>3</td>\n      <td>0</td>\n      <td>26.0</td>\n      <td>0</td>\n      <td>0</td>\n      <td>7.9250</td>\n      <td>1</td>\n    </tr>\n    <tr>\n      <th>3</th>\n      <td>1</td>\n      <td>0</td>\n      <td>35.0</td>\n      <td>1</td>\n      <td>0</td>\n      <td>53.1000</td>\n      <td>1</td>\n    </tr>\n    <tr>\n      <th>4</th>\n      <td>3</td>\n      <td>1</td>\n      <td>35.0</td>\n      <td>0</td>\n      <td>0</td>\n      <td>8.0500</td>\n      <td>1</td>\n    </tr>\n  </tbody>\n</table>\n</div>"
     },
     "execution_count": 29,
     "metadata": {},
     "output_type": "execute_result"
    }
   ],
   "source": [
    "X_train.loc[X_train['Embarked'] == 'S', 'Embarked'] = 1\n",
    "X_train.loc[X_train['Embarked'] == 'Q', 'Embarked'] = 2\n",
    "X_train.loc[X_train['Embarked'] == 'C', 'Embarked'] = 3\n",
    "\n",
    "X_test.loc[X_test['Embarked'] == 'S', 'Embarked'] = 1\n",
    "X_test.loc[X_test['Embarked'] == 'Q', 'Embarked'] = 2\n",
    "X_test.loc[X_test['Embarked'] == 'C', 'Embarked'] = 3\n",
    "\n",
    "X_train.loc[X_train['Sex'] == 'male', 'Sex'] = 1\n",
    "X_train.loc[X_train['Sex'] == 'female', 'Sex'] = 0\n",
    "\n",
    "X_test.loc[X_test['Sex'] == 'male', 'Sex'] = 1\n",
    "X_test.loc[X_test['Sex'] == 'female', 'Sex'] = 0\n",
    "X_train.head()"
   ],
   "metadata": {
    "collapsed": false,
    "ExecuteTime": {
     "end_time": "2024-03-08T03:35:12.983587400Z",
     "start_time": "2024-03-08T03:35:12.900572100Z"
    }
   },
   "id": "f6cd600df6d1af23"
  },
  {
   "cell_type": "code",
   "execution_count": 30,
   "outputs": [
    {
     "data": {
      "text/plain": "            Pclass       Sex       Age     SibSp     Parch      Fare  Embarked\nPclass    1.000000  0.131900 -0.369226  0.083081  0.018443 -0.549500 -0.164681\nSex       0.131900  1.000000  0.093254 -0.114631 -0.245489 -0.182333 -0.110320\nAge      -0.369226  0.093254  1.000000 -0.308247 -0.189119  0.096067  0.032565\nSibSp     0.083081 -0.114631 -0.308247  1.000000  0.414838  0.159651 -0.068900\nParch     0.018443 -0.245489 -0.189119  0.414838  1.000000  0.216225 -0.040449\nFare     -0.549500 -0.182333  0.096067  0.159651  0.216225  1.000000  0.226311\nEmbarked -0.164681 -0.110320  0.032565 -0.068900 -0.040449  0.226311  1.000000",
      "text/html": "<div>\n<style scoped>\n    .dataframe tbody tr th:only-of-type {\n        vertical-align: middle;\n    }\n\n    .dataframe tbody tr th {\n        vertical-align: top;\n    }\n\n    .dataframe thead th {\n        text-align: right;\n    }\n</style>\n<table border=\"1\" class=\"dataframe\">\n  <thead>\n    <tr style=\"text-align: right;\">\n      <th></th>\n      <th>Pclass</th>\n      <th>Sex</th>\n      <th>Age</th>\n      <th>SibSp</th>\n      <th>Parch</th>\n      <th>Fare</th>\n      <th>Embarked</th>\n    </tr>\n  </thead>\n  <tbody>\n    <tr>\n      <th>Pclass</th>\n      <td>1.000000</td>\n      <td>0.131900</td>\n      <td>-0.369226</td>\n      <td>0.083081</td>\n      <td>0.018443</td>\n      <td>-0.549500</td>\n      <td>-0.164681</td>\n    </tr>\n    <tr>\n      <th>Sex</th>\n      <td>0.131900</td>\n      <td>1.000000</td>\n      <td>0.093254</td>\n      <td>-0.114631</td>\n      <td>-0.245489</td>\n      <td>-0.182333</td>\n      <td>-0.110320</td>\n    </tr>\n    <tr>\n      <th>Age</th>\n      <td>-0.369226</td>\n      <td>0.093254</td>\n      <td>1.000000</td>\n      <td>-0.308247</td>\n      <td>-0.189119</td>\n      <td>0.096067</td>\n      <td>0.032565</td>\n    </tr>\n    <tr>\n      <th>SibSp</th>\n      <td>0.083081</td>\n      <td>-0.114631</td>\n      <td>-0.308247</td>\n      <td>1.000000</td>\n      <td>0.414838</td>\n      <td>0.159651</td>\n      <td>-0.068900</td>\n    </tr>\n    <tr>\n      <th>Parch</th>\n      <td>0.018443</td>\n      <td>-0.245489</td>\n      <td>-0.189119</td>\n      <td>0.414838</td>\n      <td>1.000000</td>\n      <td>0.216225</td>\n      <td>-0.040449</td>\n    </tr>\n    <tr>\n      <th>Fare</th>\n      <td>-0.549500</td>\n      <td>-0.182333</td>\n      <td>0.096067</td>\n      <td>0.159651</td>\n      <td>0.216225</td>\n      <td>1.000000</td>\n      <td>0.226311</td>\n    </tr>\n    <tr>\n      <th>Embarked</th>\n      <td>-0.164681</td>\n      <td>-0.110320</td>\n      <td>0.032565</td>\n      <td>-0.068900</td>\n      <td>-0.040449</td>\n      <td>0.226311</td>\n      <td>1.000000</td>\n    </tr>\n  </tbody>\n</table>\n</div>"
     },
     "execution_count": 30,
     "metadata": {},
     "output_type": "execute_result"
    }
   ],
   "source": [
    "X_train.corr()"
   ],
   "metadata": {
    "collapsed": false,
    "ExecuteTime": {
     "end_time": "2024-03-08T03:35:12.984586300Z",
     "start_time": "2024-03-08T03:35:12.930578300Z"
    }
   },
   "id": "d647bafa8e776310"
  },
  {
   "cell_type": "code",
   "execution_count": 31,
   "outputs": [
    {
     "data": {
      "text/plain": "['Age', 'Embarked']"
     },
     "execution_count": 31,
     "metadata": {},
     "output_type": "execute_result"
    }
   ],
   "source": [
    "from sklearn.preprocessing import StandardScaler\n",
    "from sklearn.impute import SimpleImputer\n",
    "\n",
    "def missing_value_columns(X):\n",
    "    miss_col_names = []\n",
    "    for col in X.columns:\n",
    "        if any(X[col].isnull()):\n",
    "            miss_col_names.append(col)\n",
    "    return miss_col_names\n",
    "\n",
    "missing_value_columns(X_train)"
   ],
   "metadata": {
    "collapsed": false,
    "ExecuteTime": {
     "end_time": "2024-03-08T03:35:12.994590700Z",
     "start_time": "2024-03-08T03:35:12.945579700Z"
    }
   },
   "id": "9390b88902a07074"
  },
  {
   "cell_type": "code",
   "execution_count": 32,
   "outputs": [],
   "source": [
    "imputer = SimpleImputer(strategy='median')\n",
    "concat_train_test = pd.concat([X_test, X_train])\n",
    "miss = missing_value_columns(concat_train_test)\n",
    "imputer.fit(concat_train_test[miss])\n",
    "X_train[miss] = imputer.transform(X_train[miss])\n",
    "X_test[miss] = imputer.transform(X_test[miss])\n",
    "concat_train_test[miss] = imputer.transform(concat_train_test[miss])\n"
   ],
   "metadata": {
    "collapsed": false,
    "ExecuteTime": {
     "end_time": "2024-03-08T03:35:13.020595800Z",
     "start_time": "2024-03-08T03:35:12.961583800Z"
    }
   },
   "id": "b2d3e64cec27688b"
  },
  {
   "cell_type": "code",
   "execution_count": 32,
   "outputs": [],
   "source": [],
   "metadata": {
    "collapsed": false,
    "ExecuteTime": {
     "end_time": "2024-03-08T03:35:13.079609200Z",
     "start_time": "2024-03-08T03:35:12.993592300Z"
    }
   },
   "id": "7bd5cdffd4c05705"
  },
  {
   "cell_type": "markdown",
   "source": [],
   "metadata": {
    "collapsed": false
   },
   "id": "f2f90a03958e2b78"
  },
  {
   "cell_type": "code",
   "execution_count": 38,
   "outputs": [],
   "source": [
    "scaler = StandardScaler()\n",
    "scaler.fit(concat_train_test[['Age', 'Fare']])\n",
    "X_test[['Age', 'Fare']] = scaler.transform(X_test[['Age', 'Fare']])\n",
    "X_train[['Age', 'Fare']] = scaler.transform(X_train[['Age', 'Fare']])"
   ],
   "metadata": {
    "collapsed": false,
    "ExecuteTime": {
     "end_time": "2024-03-08T03:37:25.198435200Z",
     "start_time": "2024-03-08T03:37:25.175413500Z"
    }
   },
   "id": "80fdc66cba588c24"
  },
  {
   "cell_type": "code",
   "execution_count": 39,
   "outputs": [
    {
     "name": "stdout",
     "output_type": "stream",
     "text": [
      "{'metric': 'manhattan', 'n_neighbors': 20, 'weights': 'uniform'}\n",
      "0.835016835016835\n"
     ]
    }
   ],
   "source": [
    "from sklearn.model_selection import GridSearchCV\n",
    "from sklearn.neighbors import KNeighborsClassifier\n",
    "from sklearn.linear_model import LogisticRegression\n",
    "from sklearn.metrics import accuracy_score\n",
    "\n",
    "params = {'n_neighbors': range(2, 35), 'weights': ('distance', 'uniform'), 'metric': ('cosine', 'euclidean', 'manhattan')}\n",
    "\n",
    "search = GridSearchCV(KNeighborsClassifier(), params)\n",
    "search.fit(X_train, y_train)\n",
    "print(search.best_params_)\n",
    "print(accuracy_score(y_train, search.predict(X_train)))"
   ],
   "metadata": {
    "collapsed": false,
    "ExecuteTime": {
     "end_time": "2024-03-08T03:37:37.526626700Z",
     "start_time": "2024-03-08T03:37:27.847281700Z"
    }
   },
   "id": "b2209a1528956f70"
  },
  {
   "cell_type": "code",
   "execution_count": 34,
   "outputs": [],
   "source": [],
   "metadata": {
    "collapsed": false,
    "ExecuteTime": {
     "end_time": "2024-03-08T03:35:23.093099800Z",
     "start_time": "2024-03-08T03:35:23.049059800Z"
    }
   },
   "id": "e25bed77ec64d74d"
  },
  {
   "cell_type": "code",
   "execution_count": 40,
   "outputs": [],
   "source": [
    "from sklearn.tree import DecisionTreeClassifier\n",
    "\n",
    "tree = DecisionTreeClassifier()\n",
    "tree.fit(X_train, y_train)\n",
    "accuracy_score(y_train, tree.predict(X_train))\n",
    "live_or_not = search.predict(X_test)\n",
    "df = pd.DataFrame(columns=['PassengerId', 'Survived'])\n",
    "df['PassengerId'] = test['PassengerId']\n",
    "df['Survived'] = live_or_not\n",
    "df.to_csv('gender_submission.csv', index=False)"
   ],
   "metadata": {
    "collapsed": false,
    "ExecuteTime": {
     "end_time": "2024-03-08T03:37:47.098717600Z",
     "start_time": "2024-03-08T03:37:47.052703700Z"
    }
   },
   "id": "9c80e5e3cb17f6c9"
  },
  {
   "cell_type": "code",
   "execution_count": 35,
   "outputs": [],
   "source": [],
   "metadata": {
    "collapsed": false,
    "ExecuteTime": {
     "end_time": "2024-03-08T03:35:23.121111600Z",
     "start_time": "2024-03-08T03:35:23.098094600Z"
    }
   },
   "id": "c71037268bf510c3"
  }
 ],
 "metadata": {
  "kernelspec": {
   "display_name": "Python 3",
   "language": "python",
   "name": "python3"
  },
  "language_info": {
   "codemirror_mode": {
    "name": "ipython",
    "version": 2
   },
   "file_extension": ".py",
   "mimetype": "text/x-python",
   "name": "python",
   "nbconvert_exporter": "python",
   "pygments_lexer": "ipython2",
   "version": "2.7.6"
  }
 },
 "nbformat": 4,
 "nbformat_minor": 5
}
