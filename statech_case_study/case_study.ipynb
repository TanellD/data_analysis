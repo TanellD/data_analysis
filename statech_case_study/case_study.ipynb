{
 "cells": [
  {
   "cell_type": "code",
   "execution_count": 4,
   "outputs": [],
   "source": [
    "import pandas as pd\n",
    "import numpy as np\n",
    "import matplotlib.pyplot as plt\n",
    "import seaborn as sns\n",
    "from scipy import stats"
   ],
   "metadata": {
    "collapsed": false,
    "ExecuteTime": {
     "end_time": "2024-03-09T15:59:06.123504Z",
     "start_time": "2024-03-09T15:59:06.089496300Z"
    }
   },
   "id": "103cda54a476ce79"
  },
  {
   "cell_type": "code",
   "execution_count": 5,
   "id": "b75f7b0f927b7208",
   "metadata": {
    "collapsed": false,
    "ExecuteTime": {
     "end_time": "2024-03-09T17:58:44.383856300Z",
     "start_time": "2024-03-09T17:58:44.329027900Z"
    }
   },
   "outputs": [],
   "source": [
    "ml_players_data = pd.read_csv('ML_players.csv')\n",
    "player_details_data = pd.read_csv('Player_details.csv')"
   ]
  },
  {
   "cell_type": "code",
   "execution_count": 18,
   "outputs": [
    {
     "data": {
      "text/plain": "     Unnamed: 0  Nationality               Birth_date    Status  \\\n0             0       Brunei  April 11, 1997 (age 25)  Inactive   \n1             1     Cambodia                      NaN    Active   \n2             2     Cambodia                      NaN    Active   \n3             3     Cambodia                      NaN    Active   \n4             4     Cambodia                      NaN    Active   \n..          ...          ...                      ...       ...   \n226         226     Malaysia                      NaN    Active   \n227         227     Malaysia                      NaN    Active   \n228         228     Malaysia   July  7, 1997 (age 25)   Retired   \n229         229  South Korea   June  9, 1992 (age 30)    Active   \n230         230     Malaysia                      NaN   Retired   \n\n               Laner Earnings  \n0         Gold Laner  $70,849  \n1             Roamer   $6,399  \n2          EXP Laner   $8,473  \n3                NaN   $8,933  \n4             Roamer  $12,475  \n..               ...      ...  \n226  Mid LanerRoamer   $7,976  \n227           Roamer   $1,080  \n228              NaN   $6,320  \n229            Coach   $1,140  \n230              NaN   $6,402  \n\n[231 rows x 6 columns]",
      "text/html": "<div>\n<style scoped>\n    .dataframe tbody tr th:only-of-type {\n        vertical-align: middle;\n    }\n\n    .dataframe tbody tr th {\n        vertical-align: top;\n    }\n\n    .dataframe thead th {\n        text-align: right;\n    }\n</style>\n<table border=\"1\" class=\"dataframe\">\n  <thead>\n    <tr style=\"text-align: right;\">\n      <th></th>\n      <th>Unnamed: 0</th>\n      <th>Nationality</th>\n      <th>Birth_date</th>\n      <th>Status</th>\n      <th>Laner</th>\n      <th>Earnings</th>\n    </tr>\n  </thead>\n  <tbody>\n    <tr>\n      <th>0</th>\n      <td>0</td>\n      <td>Brunei</td>\n      <td>April 11, 1997 (age 25)</td>\n      <td>Inactive</td>\n      <td>Gold Laner</td>\n      <td>$70,849</td>\n    </tr>\n    <tr>\n      <th>1</th>\n      <td>1</td>\n      <td>Cambodia</td>\n      <td>NaN</td>\n      <td>Active</td>\n      <td>Roamer</td>\n      <td>$6,399</td>\n    </tr>\n    <tr>\n      <th>2</th>\n      <td>2</td>\n      <td>Cambodia</td>\n      <td>NaN</td>\n      <td>Active</td>\n      <td>EXP Laner</td>\n      <td>$8,473</td>\n    </tr>\n    <tr>\n      <th>3</th>\n      <td>3</td>\n      <td>Cambodia</td>\n      <td>NaN</td>\n      <td>Active</td>\n      <td>NaN</td>\n      <td>$8,933</td>\n    </tr>\n    <tr>\n      <th>4</th>\n      <td>4</td>\n      <td>Cambodia</td>\n      <td>NaN</td>\n      <td>Active</td>\n      <td>Roamer</td>\n      <td>$12,475</td>\n    </tr>\n    <tr>\n      <th>...</th>\n      <td>...</td>\n      <td>...</td>\n      <td>...</td>\n      <td>...</td>\n      <td>...</td>\n      <td>...</td>\n    </tr>\n    <tr>\n      <th>226</th>\n      <td>226</td>\n      <td>Malaysia</td>\n      <td>NaN</td>\n      <td>Active</td>\n      <td>Mid LanerRoamer</td>\n      <td>$7,976</td>\n    </tr>\n    <tr>\n      <th>227</th>\n      <td>227</td>\n      <td>Malaysia</td>\n      <td>NaN</td>\n      <td>Active</td>\n      <td>Roamer</td>\n      <td>$1,080</td>\n    </tr>\n    <tr>\n      <th>228</th>\n      <td>228</td>\n      <td>Malaysia</td>\n      <td>July  7, 1997 (age 25)</td>\n      <td>Retired</td>\n      <td>NaN</td>\n      <td>$6,320</td>\n    </tr>\n    <tr>\n      <th>229</th>\n      <td>229</td>\n      <td>South Korea</td>\n      <td>June  9, 1992 (age 30)</td>\n      <td>Active</td>\n      <td>Coach</td>\n      <td>$1,140</td>\n    </tr>\n    <tr>\n      <th>230</th>\n      <td>230</td>\n      <td>Malaysia</td>\n      <td>NaN</td>\n      <td>Retired</td>\n      <td>NaN</td>\n      <td>$6,402</td>\n    </tr>\n  </tbody>\n</table>\n<p>231 rows × 6 columns</p>\n</div>"
     },
     "execution_count": 18,
     "metadata": {},
     "output_type": "execute_result"
    }
   ],
   "source": [
    "player_details_data.head(231)"
   ],
   "metadata": {
    "collapsed": false,
    "ExecuteTime": {
     "end_time": "2024-03-09T18:02:46.214543500Z",
     "start_time": "2024-03-09T18:02:46.174535100Z"
    }
   },
   "id": "8e93d2ddefaf0ddf"
  },
  {
   "cell_type": "code",
   "execution_count": 16,
   "outputs": [
    {
     "data": {
      "text/plain": "False"
     },
     "execution_count": 16,
     "metadata": {},
     "output_type": "execute_result"
    }
   ],
   "source": [
    "player_details_data['Earnings'][230] == np.NAN"
   ],
   "metadata": {
    "collapsed": false,
    "ExecuteTime": {
     "end_time": "2024-03-09T18:02:23.838833700Z",
     "start_time": "2024-03-09T18:02:23.817830900Z"
    }
   },
   "id": "e870b7eb410577fe"
  },
  {
   "cell_type": "markdown",
   "source": [],
   "metadata": {
    "collapsed": false
   },
   "id": "ab5947fc17ca787f"
  }
 ],
 "metadata": {
  "kernelspec": {
   "display_name": "Python 3 (ipykernel)",
   "language": "python",
   "name": "python3"
  },
  "language_info": {
   "codemirror_mode": {
    "name": "ipython",
    "version": 3
   },
   "file_extension": ".py",
   "mimetype": "text/x-python",
   "name": "python",
   "nbconvert_exporter": "python",
   "pygments_lexer": "ipython3",
   "version": "3.9.13"
  }
 },
 "nbformat": 4,
 "nbformat_minor": 5
}
