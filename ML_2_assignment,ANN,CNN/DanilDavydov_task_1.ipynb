{
 "cells": [
  {
   "cell_type": "markdown",
   "id": "dbaf3527-69bc-4c9a-8138-f376d0b89365",
   "metadata": {
    "tags": [],
    "id": "dbaf3527-69bc-4c9a-8138-f376d0b89365"
   },
   "source": [
    "# Assignment 2\n",
    "\n",
    "This assignment serves as a comprehensive evaluation of your machine learning skills, encompassing not only the technical aspects of model development but also your ability to analyze, interpret, and present data insights effectively. As such, it's essential to ensure that your submission is complete, functional, and devoid of any obvious gaps, as if you were delivering this project to a client.\n",
    "\n",
    "To achieve this, leverage the full capabilities of Markdown and the interactive visualization tools available in Jupyter notebooks to craft a well-structured and visually appealing report of your findings. Your report should clearly communicate the insights you've gained from the exploratory data analysis, the rationale behind your data preprocessing and feature engineering decisions, and a thorough analysis of feature importance. High-quality visualizations and well-organized documentation will not only support your analysis but also make your results more accessible and understandable to your audience.\n",
    "\n",
    "Remember, the ability to present complex results in an intuitive and engaging manner is a crucial skill, almost as important as the technical proficiency in model building and data analysis. Treat this assignment as an opportunity to showcase your skills in both areas.\n",
    "\n",
    "## Instructions\n",
    "- Your submission should be a `.ipynb` file with your name,\n",
    "  like `FirstnameLastname.ipynb`. It should include the answers to the questions in markdown cells, your data analysis and results.\n",
    "- You are expected to follow the best practices for code writing and model\n",
    "training. Poor coding style will be penalized.\n",
    "- You are allowed to discuss ideas with your peers, but no sharing of code.\n",
    "Plagiarism in the code will result in failing. If you use code from the\n",
    "internet, cite it by adding the source of the code as a comment in the first line of the code cell. [Academic misconduct policy](https://wiki.innopolis.university/display/DOE/Academic+misconduct+policy)\n",
    "- In real life clients can give unclear goals or requirements. So, if the instructions seem vague, use common sense to make reasonable assumptions and decisions.\n",
    "\n",
    "## Self-Reliance and Exploration\n",
    "In this task, you're encouraged to rely on your resourcefulness and creativity. Dive into available resources, experiment with various solutions, and learn from every outcome. While our team is here to clarify task details and offer conceptual guidance, we encourage you to first seek answers independently. This approach is vital for developing your problem-solving skills in machine learning.\n",
    "\n"
   ]
  },
  {
   "cell_type": "markdown",
   "id": "7f7e3afb-5c53-4595-b8bd-d6c23989aa54",
   "metadata": {
    "id": "7f7e3afb-5c53-4595-b8bd-d6c23989aa54"
   },
   "source": [
    "# Task 1: [Where's Waldo?](https://www.wikihow.com/Find-Waldo) (50%)\n",
    "\n",
    "## Fingerprinting\n",
    "Browser fingerprinting is a technique used to identify and track individuals based on unique characteristics of their web browser configuration. These characteristics can include the browser type, version, installed plugins, and screen resolution, among others. By combining these attributes, websites can create a digital fingerprint that can be used to track user behavior across multiple sites, even if they clear their cookies or use different devices. This has raised concerns about privacy and the potential for this technology to be used for targeted advertising, surveillance, and other purposes.\n",
    "\n",
    "[Read more about Fingerprinting](https://datadome.co/learning-center/browser-fingerprinting-techniques/)\n",
    "\n",
    "\n",
    "## What You Need to Do\n",
    "In this task, you are required to employ a fully connected feed-forward Artificial Neural Network (ANN) to tackle a classification problem. This involves several key steps, each critical to the development and performance of your model:\n",
    "\n",
    "- **Exploratory Data Analysis (EDA) (10%)**: Begin by conducting a thorough exploratory analysis of the provided dataset. Your goal here is to uncover patterns, anomalies, relationships, or trends that could influence your modeling decisions. **Share the insights** you gather from this process and explain how they informed your subsequent steps.\n",
    "  \n",
    "- **Data Preprocessing and Feature Engineering (10%)**: Based on your EDA insights, choose and implement the most appropriate data preprocessing steps and feature engineering techniques. This may include handling missing values, encoding categorical variables, normalizing data, and creating new features that could enhance your model's ability to learn from the data.\n",
    "  \n",
    "- **Model Design and Training (10%)**: Design a fully connected feed-forward ANN model. You will need to experiment with different architectures, layer configurations, and hyperparameters to find the most effective solution for the classification problem at hand.\n",
    "\n",
    "- **Feature Importance Analysis (10%)**: After developing your model, analyze which features are most important for making predictions. Discuss how this analysis aligns with your initial EDA insights and what it reveals about the characteristics most indicative of specific user behaviors or identities.\n",
    "\n",
    "- **Evaluation (10%)**: You will be required to submit your model prediction on a hidden data set.\n",
    "\n",
    "### Data\n",
    "You will be using the data in `Task_1.json` to identify Waldo (`user_id=0`). The dataset includes:\n",
    "- **\"browser\", \"os\" and \"locale\"**: Information about the software used.\n",
    "- **\"user_id\"**: A unique identifier for each user.\n",
    "- **\"location\"**: Geolocation based on the IP address used.\n",
    "- **\"sites\"**: A list of visited URLs and the time spent there in seconds.\n",
    "- **\"time\" and \"date\"**: When the session started in GMT.\n",
    "\n",
    "\n",
    "### Evaluation\n",
    "After training, evaluate your model by printing the classification report on your test set. Then, predict whether each user in `task_1_verify.json` is Waldo or not, by adding the boolean `is_waldo` property to the `task_1_verify.json`:\n",
    "\n",
    "```diff\n",
    "  [\n",
    "    {\n",
    "+     \"is_waldo\": false,\n",
    "      \"browser\": \"Chrome\",\n",
    "      \"os\": \"Debian\",\n",
    "      \"locale\": \"ur-PK\",\n",
    "      \"location\": \"Russia/Moscow\",\n",
    "      \"sites\": [\n",
    "          // ...\n",
    "      ],\n",
    "      \"time\": \"04:12:00\",\n",
    "      \"date\":\"2017-06-29\"\n",
    "    }\n",
    "    // ...\n",
    "  ]\n",
    "\n",
    "```\n",
    "\n",
    "## Learning Objectives\n",
    "\n",
    "- **Exploratory Data Analysis**: Apply suitable analysis techniques to gain insights and better understand the dataset.\n",
    "- **Classification Approach**: Identify the most appropriate method for the given problem.\n",
    "- **Data Preprocessing**: Select and execute proper preprocessing and encoding techniques.\n",
    "- **Model Implementation**: Utilize ANNs to address a classification problem, including training, validation, and testing phases.\n",
    "- **Feature Importance Analysis**: Determine and report which features are most critical for the model's predictions to uncover insights into specific user behaviors."
   ]
  },
  {
   "cell_type": "markdown",
   "source": [
    "### Solution"
   ],
   "metadata": {
    "collapsed": false,
    "id": "22c51512c83a09e5"
   },
   "id": "22c51512c83a09e5"
  },
  {
   "cell_type": "code",
   "source": [
    "import pandas as pd\n",
    "import numpy as np\n",
    "import matplotlib.pyplot as plt\n",
    "from datetime import timedelta"
   ],
   "metadata": {
    "id": "423b3cd9a24c97e1",
    "ExecuteTime": {
     "end_time": "2024-04-29T15:54:55.257981Z",
     "start_time": "2024-04-29T15:54:55.248987Z"
    }
   },
   "id": "423b3cd9a24c97e1",
   "outputs": [],
   "execution_count": 123
  },
  {
   "cell_type": "markdown",
   "source": [
    "**Exploratory Data Analysis (EDA)**\n",
    "First, I need to understand the given dataset, by looking for Waldo's features."
   ],
   "metadata": {
    "collapsed": false,
    "id": "354e1b60ac345d50"
   },
   "id": "354e1b60ac345d50"
  },
  {
   "cell_type": "markdown",
   "source": [
    "Let's first look at the datatset before any transformations"
   ],
   "metadata": {
    "collapsed": false,
    "id": "7a90a1236fd479bb"
   },
   "id": "7a90a1236fd479bb"
  },
  {
   "cell_type": "code",
   "source": [
    "train_data = pd.read_json(\"task_1_train_data.json\")\n",
    "train_data.head()"
   ],
   "metadata": {
    "colab": {
     "base_uri": "https://localhost:8080/",
     "height": 206
    },
    "id": "368a7092573fd3f3",
    "outputId": "b9eb4047-4fc0-45ca-e459-933310fe5209",
    "ExecuteTime": {
     "end_time": "2024-04-29T15:54:58.975455Z",
     "start_time": "2024-04-29T15:54:56.958667Z"
    }
   },
   "id": "368a7092573fd3f3",
   "outputs": [
    {
     "data": {
      "text/plain": [
       "   browser         os locale  user_id           location  \\\n",
       "0   Chrome     Debian  ur-PK      116      Russia/Moscow   \n",
       "1  Firefox  Windows 8  uk-UA      155       France/Paris   \n",
       "2   Safari      MacOS  fr-FR       39        Japan/Tokyo   \n",
       "3   Chrome  Windows 8  nl-NL      175   Australia/Sydney   \n",
       "4  Firefox     Ubuntu  ro-RO       50  USA/San Francisco   \n",
       "\n",
       "                                               sites      time       date  \n",
       "0  [{'site': 'bing.net', 'length': 52}, {'site': ...  04:12:00 2017-06-29  \n",
       "1  [{'site': 'yahoo.com', 'length': 46}, {'site':...  03:57:00 2016-03-23  \n",
       "2            [{'site': 'oracle.com', 'length': 335}]  05:26:00 2016-11-17  \n",
       "3  [{'site': 'mail.google.com', 'length': 192}, {...  00:05:00 2016-08-23  \n",
       "4  [{'site': 'mail.google.com', 'length': 266}, {...  22:55:00 2016-07-23  "
      ],
      "text/html": [
       "<div>\n",
       "<style scoped>\n",
       "    .dataframe tbody tr th:only-of-type {\n",
       "        vertical-align: middle;\n",
       "    }\n",
       "\n",
       "    .dataframe tbody tr th {\n",
       "        vertical-align: top;\n",
       "    }\n",
       "\n",
       "    .dataframe thead th {\n",
       "        text-align: right;\n",
       "    }\n",
       "</style>\n",
       "<table border=\"1\" class=\"dataframe\">\n",
       "  <thead>\n",
       "    <tr style=\"text-align: right;\">\n",
       "      <th></th>\n",
       "      <th>browser</th>\n",
       "      <th>os</th>\n",
       "      <th>locale</th>\n",
       "      <th>user_id</th>\n",
       "      <th>location</th>\n",
       "      <th>sites</th>\n",
       "      <th>time</th>\n",
       "      <th>date</th>\n",
       "    </tr>\n",
       "  </thead>\n",
       "  <tbody>\n",
       "    <tr>\n",
       "      <th>0</th>\n",
       "      <td>Chrome</td>\n",
       "      <td>Debian</td>\n",
       "      <td>ur-PK</td>\n",
       "      <td>116</td>\n",
       "      <td>Russia/Moscow</td>\n",
       "      <td>[{'site': 'bing.net', 'length': 52}, {'site': ...</td>\n",
       "      <td>04:12:00</td>\n",
       "      <td>2017-06-29</td>\n",
       "    </tr>\n",
       "    <tr>\n",
       "      <th>1</th>\n",
       "      <td>Firefox</td>\n",
       "      <td>Windows 8</td>\n",
       "      <td>uk-UA</td>\n",
       "      <td>155</td>\n",
       "      <td>France/Paris</td>\n",
       "      <td>[{'site': 'yahoo.com', 'length': 46}, {'site':...</td>\n",
       "      <td>03:57:00</td>\n",
       "      <td>2016-03-23</td>\n",
       "    </tr>\n",
       "    <tr>\n",
       "      <th>2</th>\n",
       "      <td>Safari</td>\n",
       "      <td>MacOS</td>\n",
       "      <td>fr-FR</td>\n",
       "      <td>39</td>\n",
       "      <td>Japan/Tokyo</td>\n",
       "      <td>[{'site': 'oracle.com', 'length': 335}]</td>\n",
       "      <td>05:26:00</td>\n",
       "      <td>2016-11-17</td>\n",
       "    </tr>\n",
       "    <tr>\n",
       "      <th>3</th>\n",
       "      <td>Chrome</td>\n",
       "      <td>Windows 8</td>\n",
       "      <td>nl-NL</td>\n",
       "      <td>175</td>\n",
       "      <td>Australia/Sydney</td>\n",
       "      <td>[{'site': 'mail.google.com', 'length': 192}, {...</td>\n",
       "      <td>00:05:00</td>\n",
       "      <td>2016-08-23</td>\n",
       "    </tr>\n",
       "    <tr>\n",
       "      <th>4</th>\n",
       "      <td>Firefox</td>\n",
       "      <td>Ubuntu</td>\n",
       "      <td>ro-RO</td>\n",
       "      <td>50</td>\n",
       "      <td>USA/San Francisco</td>\n",
       "      <td>[{'site': 'mail.google.com', 'length': 266}, {...</td>\n",
       "      <td>22:55:00</td>\n",
       "      <td>2016-07-23</td>\n",
       "    </tr>\n",
       "  </tbody>\n",
       "</table>\n",
       "</div>"
      ]
     },
     "execution_count": 124,
     "metadata": {},
     "output_type": "execute_result"
    }
   ],
   "execution_count": 124
  },
  {
   "cell_type": "markdown",
   "source": [
    "Field sites is a complex structure, thus I need to reformat it in simpler way to analyze the field deeply."
   ],
   "metadata": {
    "collapsed": false,
    "id": "87cb12c049232ba1"
   },
   "id": "87cb12c049232ba1"
  },
  {
   "cell_type": "code",
   "id": "3d3fbfb4-b60d-449d-83bd-b9b8d9e10f96",
   "metadata": {
    "colab": {
     "base_uri": "https://localhost:8080/",
     "height": 206
    },
    "id": "3d3fbfb4-b60d-449d-83bd-b9b8d9e10f96",
    "outputId": "cbd5f61a-8dc1-46ee-a932-bef40d2507d0",
    "ExecuteTime": {
     "end_time": "2024-04-29T15:54:59.256451Z",
     "start_time": "2024-04-29T15:54:58.978455Z"
    }
   },
   "source": [
    "# transform robust structure into simpler and more convenient array of tuples\n",
    "def simplify_sites(array_of_dict):\n",
    "    res = {}\n",
    "    for el in array_of_dict:\n",
    "        if el[\"site\"] in res.keys():\n",
    "            res[el[\"site\"]] += el[\"length\"]\n",
    "        else:\n",
    "            res[el[\"site\"]] = el[\"length\"]\n",
    "    returned = list(zip(res.keys(), res.values()))\n",
    "    return returned\n",
    "\n",
    "\n",
    "#transforming it\n",
    "train_data[\"sites\"] = train_data[\"sites\"].apply(simplify_sites)\n",
    "train_data.head()"
   ],
   "outputs": [
    {
     "data": {
      "text/plain": [
       "   browser         os locale  user_id           location  \\\n",
       "0   Chrome     Debian  ur-PK      116      Russia/Moscow   \n",
       "1  Firefox  Windows 8  uk-UA      155       France/Paris   \n",
       "2   Safari      MacOS  fr-FR       39        Japan/Tokyo   \n",
       "3   Chrome  Windows 8  nl-NL      175   Australia/Sydney   \n",
       "4  Firefox     Ubuntu  ro-RO       50  USA/San Francisco   \n",
       "\n",
       "                                               sites      time       date  \n",
       "0  [(bing.net, 52), (live.com, 52), (twitter.com,...  04:12:00 2017-06-29  \n",
       "1  [(yahoo.com, 46), (baidu.com, 134), (wikimedia...  03:57:00 2016-03-23  \n",
       "2                                [(oracle.com, 335)]  05:26:00 2016-11-17  \n",
       "3  [(mail.google.com, 192), (slack.com, 88), (you...  00:05:00 2016-08-23  \n",
       "4  [(mail.google.com, 434), (toptal.com, 214), (o...  22:55:00 2016-07-23  "
      ],
      "text/html": [
       "<div>\n",
       "<style scoped>\n",
       "    .dataframe tbody tr th:only-of-type {\n",
       "        vertical-align: middle;\n",
       "    }\n",
       "\n",
       "    .dataframe tbody tr th {\n",
       "        vertical-align: top;\n",
       "    }\n",
       "\n",
       "    .dataframe thead th {\n",
       "        text-align: right;\n",
       "    }\n",
       "</style>\n",
       "<table border=\"1\" class=\"dataframe\">\n",
       "  <thead>\n",
       "    <tr style=\"text-align: right;\">\n",
       "      <th></th>\n",
       "      <th>browser</th>\n",
       "      <th>os</th>\n",
       "      <th>locale</th>\n",
       "      <th>user_id</th>\n",
       "      <th>location</th>\n",
       "      <th>sites</th>\n",
       "      <th>time</th>\n",
       "      <th>date</th>\n",
       "    </tr>\n",
       "  </thead>\n",
       "  <tbody>\n",
       "    <tr>\n",
       "      <th>0</th>\n",
       "      <td>Chrome</td>\n",
       "      <td>Debian</td>\n",
       "      <td>ur-PK</td>\n",
       "      <td>116</td>\n",
       "      <td>Russia/Moscow</td>\n",
       "      <td>[(bing.net, 52), (live.com, 52), (twitter.com,...</td>\n",
       "      <td>04:12:00</td>\n",
       "      <td>2017-06-29</td>\n",
       "    </tr>\n",
       "    <tr>\n",
       "      <th>1</th>\n",
       "      <td>Firefox</td>\n",
       "      <td>Windows 8</td>\n",
       "      <td>uk-UA</td>\n",
       "      <td>155</td>\n",
       "      <td>France/Paris</td>\n",
       "      <td>[(yahoo.com, 46), (baidu.com, 134), (wikimedia...</td>\n",
       "      <td>03:57:00</td>\n",
       "      <td>2016-03-23</td>\n",
       "    </tr>\n",
       "    <tr>\n",
       "      <th>2</th>\n",
       "      <td>Safari</td>\n",
       "      <td>MacOS</td>\n",
       "      <td>fr-FR</td>\n",
       "      <td>39</td>\n",
       "      <td>Japan/Tokyo</td>\n",
       "      <td>[(oracle.com, 335)]</td>\n",
       "      <td>05:26:00</td>\n",
       "      <td>2016-11-17</td>\n",
       "    </tr>\n",
       "    <tr>\n",
       "      <th>3</th>\n",
       "      <td>Chrome</td>\n",
       "      <td>Windows 8</td>\n",
       "      <td>nl-NL</td>\n",
       "      <td>175</td>\n",
       "      <td>Australia/Sydney</td>\n",
       "      <td>[(mail.google.com, 192), (slack.com, 88), (you...</td>\n",
       "      <td>00:05:00</td>\n",
       "      <td>2016-08-23</td>\n",
       "    </tr>\n",
       "    <tr>\n",
       "      <th>4</th>\n",
       "      <td>Firefox</td>\n",
       "      <td>Ubuntu</td>\n",
       "      <td>ro-RO</td>\n",
       "      <td>50</td>\n",
       "      <td>USA/San Francisco</td>\n",
       "      <td>[(mail.google.com, 434), (toptal.com, 214), (o...</td>\n",
       "      <td>22:55:00</td>\n",
       "      <td>2016-07-23</td>\n",
       "    </tr>\n",
       "  </tbody>\n",
       "</table>\n",
       "</div>"
      ]
     },
     "execution_count": 125,
     "metadata": {},
     "output_type": "execute_result"
    }
   ],
   "execution_count": 125
  },
  {
   "cell_type": "markdown",
   "source": [
    "Now it looks simpler after agregating all sites to one list of tuples with information about total time spent on a site in a whole session."
   ],
   "metadata": {
    "collapsed": false,
    "id": "84eca11265031fb1"
   },
   "id": "84eca11265031fb1"
  },
  {
   "cell_type": "markdown",
   "source": [
    "The target is user_id field. Since I have to classify users whereas are they Waldo or not, I need to change field, such that Waldo has positive class mark (1) and others have negative class mark (0)."
   ],
   "metadata": {
    "collapsed": false,
    "id": "14d47407126653cd"
   },
   "id": "14d47407126653cd"
  },
  {
   "cell_type": "code",
   "source": [
    "train_data.loc[train_data['user_id'] != 0, 'user_id'] = 1\n",
    "train_data['user_id'] = 1 - train_data['user_id']\n",
    "train_data.head()"
   ],
   "metadata": {
    "colab": {
     "base_uri": "https://localhost:8080/",
     "height": 206
    },
    "id": "f33b4eb39c37569e",
    "outputId": "48f743c3-2d01-43f5-f3ac-ba967e8e9897",
    "ExecuteTime": {
     "end_time": "2024-04-29T15:54:59.304450Z",
     "start_time": "2024-04-29T15:54:59.258457Z"
    }
   },
   "id": "f33b4eb39c37569e",
   "outputs": [
    {
     "data": {
      "text/plain": [
       "   browser         os locale  user_id           location  \\\n",
       "0   Chrome     Debian  ur-PK        0      Russia/Moscow   \n",
       "1  Firefox  Windows 8  uk-UA        0       France/Paris   \n",
       "2   Safari      MacOS  fr-FR        0        Japan/Tokyo   \n",
       "3   Chrome  Windows 8  nl-NL        0   Australia/Sydney   \n",
       "4  Firefox     Ubuntu  ro-RO        0  USA/San Francisco   \n",
       "\n",
       "                                               sites      time       date  \n",
       "0  [(bing.net, 52), (live.com, 52), (twitter.com,...  04:12:00 2017-06-29  \n",
       "1  [(yahoo.com, 46), (baidu.com, 134), (wikimedia...  03:57:00 2016-03-23  \n",
       "2                                [(oracle.com, 335)]  05:26:00 2016-11-17  \n",
       "3  [(mail.google.com, 192), (slack.com, 88), (you...  00:05:00 2016-08-23  \n",
       "4  [(mail.google.com, 434), (toptal.com, 214), (o...  22:55:00 2016-07-23  "
      ],
      "text/html": [
       "<div>\n",
       "<style scoped>\n",
       "    .dataframe tbody tr th:only-of-type {\n",
       "        vertical-align: middle;\n",
       "    }\n",
       "\n",
       "    .dataframe tbody tr th {\n",
       "        vertical-align: top;\n",
       "    }\n",
       "\n",
       "    .dataframe thead th {\n",
       "        text-align: right;\n",
       "    }\n",
       "</style>\n",
       "<table border=\"1\" class=\"dataframe\">\n",
       "  <thead>\n",
       "    <tr style=\"text-align: right;\">\n",
       "      <th></th>\n",
       "      <th>browser</th>\n",
       "      <th>os</th>\n",
       "      <th>locale</th>\n",
       "      <th>user_id</th>\n",
       "      <th>location</th>\n",
       "      <th>sites</th>\n",
       "      <th>time</th>\n",
       "      <th>date</th>\n",
       "    </tr>\n",
       "  </thead>\n",
       "  <tbody>\n",
       "    <tr>\n",
       "      <th>0</th>\n",
       "      <td>Chrome</td>\n",
       "      <td>Debian</td>\n",
       "      <td>ur-PK</td>\n",
       "      <td>0</td>\n",
       "      <td>Russia/Moscow</td>\n",
       "      <td>[(bing.net, 52), (live.com, 52), (twitter.com,...</td>\n",
       "      <td>04:12:00</td>\n",
       "      <td>2017-06-29</td>\n",
       "    </tr>\n",
       "    <tr>\n",
       "      <th>1</th>\n",
       "      <td>Firefox</td>\n",
       "      <td>Windows 8</td>\n",
       "      <td>uk-UA</td>\n",
       "      <td>0</td>\n",
       "      <td>France/Paris</td>\n",
       "      <td>[(yahoo.com, 46), (baidu.com, 134), (wikimedia...</td>\n",
       "      <td>03:57:00</td>\n",
       "      <td>2016-03-23</td>\n",
       "    </tr>\n",
       "    <tr>\n",
       "      <th>2</th>\n",
       "      <td>Safari</td>\n",
       "      <td>MacOS</td>\n",
       "      <td>fr-FR</td>\n",
       "      <td>0</td>\n",
       "      <td>Japan/Tokyo</td>\n",
       "      <td>[(oracle.com, 335)]</td>\n",
       "      <td>05:26:00</td>\n",
       "      <td>2016-11-17</td>\n",
       "    </tr>\n",
       "    <tr>\n",
       "      <th>3</th>\n",
       "      <td>Chrome</td>\n",
       "      <td>Windows 8</td>\n",
       "      <td>nl-NL</td>\n",
       "      <td>0</td>\n",
       "      <td>Australia/Sydney</td>\n",
       "      <td>[(mail.google.com, 192), (slack.com, 88), (you...</td>\n",
       "      <td>00:05:00</td>\n",
       "      <td>2016-08-23</td>\n",
       "    </tr>\n",
       "    <tr>\n",
       "      <th>4</th>\n",
       "      <td>Firefox</td>\n",
       "      <td>Ubuntu</td>\n",
       "      <td>ro-RO</td>\n",
       "      <td>0</td>\n",
       "      <td>USA/San Francisco</td>\n",
       "      <td>[(mail.google.com, 434), (toptal.com, 214), (o...</td>\n",
       "      <td>22:55:00</td>\n",
       "      <td>2016-07-23</td>\n",
       "    </tr>\n",
       "  </tbody>\n",
       "</table>\n",
       "</div>"
      ]
     },
     "execution_count": 126,
     "metadata": {},
     "output_type": "execute_result"
    }
   ],
   "execution_count": 126
  },
  {
   "cell_type": "markdown",
   "source": [
    "How many Waldo entries do I have?"
   ],
   "metadata": {
    "collapsed": false,
    "id": "706eec089af4512c"
   },
   "id": "706eec089af4512c"
  },
  {
   "cell_type": "code",
   "source": [
    "print(\"Number of Waldo entries: \", train_data['user_id'].sum())\n",
    "print(\"Total number of entries: \", train_data['user_id'].shape[0])"
   ],
   "metadata": {
    "colab": {
     "base_uri": "https://localhost:8080/"
    },
    "id": "594903147081dde2",
    "outputId": "6fe611ed-774c-428c-ed7e-15e15b6aa62b",
    "ExecuteTime": {
     "end_time": "2024-04-29T15:54:59.320461Z",
     "start_time": "2024-04-29T15:54:59.308459Z"
    }
   },
   "id": "594903147081dde2",
   "outputs": [
    {
     "name": "stdout",
     "output_type": "stream",
     "text": [
      "Number of Waldo entries:  200\n",
      "Total number of entries:  40000\n"
     ]
    }
   ],
   "execution_count": 127
  },
  {
   "cell_type": "markdown",
   "source": [
    "The dataset is totally unbalanced, I will need to balance in somehow later."
   ],
   "metadata": {
    "collapsed": false,
    "id": "9a311c375e130f26"
   },
   "id": "9a311c375e130f26"
  },
  {
   "cell_type": "code",
   "source": [
    "train_data.info()"
   ],
   "metadata": {
    "colab": {
     "base_uri": "https://localhost:8080/"
    },
    "id": "21c47ded5c6c8425",
    "outputId": "4d5331bc-b7e5-4faf-98a3-f508d34552a5",
    "ExecuteTime": {
     "end_time": "2024-04-29T15:54:59.384461Z",
     "start_time": "2024-04-29T15:54:59.323462Z"
    }
   },
   "id": "21c47ded5c6c8425",
   "outputs": [
    {
     "name": "stdout",
     "output_type": "stream",
     "text": [
      "<class 'pandas.core.frame.DataFrame'>\n",
      "RangeIndex: 40000 entries, 0 to 39999\n",
      "Data columns (total 8 columns):\n",
      " #   Column    Non-Null Count  Dtype         \n",
      "---  ------    --------------  -----         \n",
      " 0   browser   40000 non-null  object        \n",
      " 1   os        40000 non-null  object        \n",
      " 2   locale    40000 non-null  object        \n",
      " 3   user_id   40000 non-null  int64         \n",
      " 4   location  40000 non-null  object        \n",
      " 5   sites     40000 non-null  object        \n",
      " 6   time      40000 non-null  object        \n",
      " 7   date      40000 non-null  datetime64[ns]\n",
      "dtypes: datetime64[ns](1), int64(1), object(6)\n",
      "memory usage: 2.4+ MB\n"
     ]
    }
   ],
   "execution_count": 128
  },
  {
   "cell_type": "markdown",
   "source": [
    "All fields are non-null, and in total I have 40000 entries in dataset."
   ],
   "metadata": {
    "collapsed": false,
    "id": "fabbd2efa9d5efc8"
   },
   "id": "fabbd2efa9d5efc8"
  },
  {
   "cell_type": "markdown",
   "source": [
    "Fine, now I have all features done to begin the analysis."
   ],
   "metadata": {
    "collapsed": false,
    "id": "e340f4b67babcba0"
   },
   "id": "e340f4b67babcba0"
  },
  {
   "cell_type": "code",
   "source": [
    "# which properties does Waldo have\n",
    "waldo = train_data.loc[train_data['user_id'] == 1]\n",
    "\n",
    "fig, ax = plt.subplots(2, 2)\n",
    "plt.suptitle(\"Histograms of Waldo's browser, os, locale, and location\")\n",
    "ax[0][0].hist(waldo['browser'])\n",
    "ax[0][1].hist(waldo['os'])\n",
    "ax[1][0].hist(waldo['locale'])\n",
    "ax[1][1].hist(waldo['location'])\n",
    "\n",
    "plt.show()\n",
    "\n",
    "print(\"Printed values showed on histograms\")\n",
    "print(waldo['browser'].value_counts())\n",
    "print(waldo['os'].value_counts())\n",
    "print(waldo['locale'].value_counts())\n",
    "print(waldo['location'].value_counts())"
   ],
   "metadata": {
    "colab": {
     "base_uri": "https://localhost:8080/",
     "height": 773
    },
    "id": "c6bfabe29130e24",
    "outputId": "722f5d17-dfb9-4c8d-8f3a-82c3fb284d6a",
    "ExecuteTime": {
     "end_time": "2024-04-29T15:54:59.886470Z",
     "start_time": "2024-04-29T15:54:59.386456Z"
    }
   },
   "id": "c6bfabe29130e24",
   "outputs": [
    {
     "data": {
      "text/plain": [
       "<Figure size 640x480 with 4 Axes>"
      ],
      "image/png": "[encoded data removed]"
     },
     "metadata": {},
     "output_type": "display_data"
    },
    {
     "name": "stdout",
     "output_type": "stream",
     "text": [
      "Printed values showed on histograms\n",
      "browser\n",
      "Firefox    101\n",
      "Chrome      99\n",
      "Name: count, dtype: int64\n",
      "os\n",
      "Ubuntu        112\n",
      "Windows 10     88\n",
      "Name: count, dtype: int64\n",
      "locale\n",
      "ru_RU    200\n",
      "Name: count, dtype: int64\n",
      "location\n",
      "France/Paris      82\n",
      "USA/Chicago       76\n",
      "Canada/Toronto    42\n",
      "Name: count, dtype: int64\n"
     ]
    }
   ],
   "execution_count": 129
  },
  {
   "cell_type": "markdown",
   "source": [
    "I chose 'browser', 'os', 'locale', and 'location' features for determine unique values in them. The most valuable insight is that Waldo's locale is always ru_RU. Waldo, typically uses two browsers, two OS, and he enters the network from three locations."
   ],
   "metadata": {
    "collapsed": false,
    "id": "7eb01e7f61f0510b"
   },
   "id": "7eb01e7f61f0510b"
  },
  {
   "cell_type": "markdown",
   "source": [
    "The question arises: is there any relationship between OS and browser or OS and location?"
   ],
   "metadata": {
    "collapsed": false,
    "id": "129956dec8e35a37"
   },
   "id": "129956dec8e35a37"
  },
  {
   "cell_type": "markdown",
   "source": [
    "Let's try to catch some patterns in using certain browser on a OS from a certain location."
   ],
   "metadata": {
    "collapsed": false,
    "id": "e21d4b0e31ea89e1"
   },
   "id": "e21d4b0e31ea89e1"
  },
  {
   "cell_type": "code",
   "source": [
    "print(waldo[[\"os\", \"browser\"]].groupby(by=[\"os\", \"browser\"]).value_counts())"
   ],
   "metadata": {
    "colab": {
     "base_uri": "https://localhost:8080/"
    },
    "id": "9e89cc4d42839d30",
    "outputId": "e8633c22-4489-4aa8-bb96-c7b520521969",
    "ExecuteTime": {
     "end_time": "2024-04-29T15:54:59.902448Z",
     "start_time": "2024-04-29T15:54:59.888458Z"
    }
   },
   "id": "9e89cc4d42839d30",
   "outputs": [
    {
     "name": "stdout",
     "output_type": "stream",
     "text": [
      "os          browser\n",
      "Ubuntu      Chrome     58\n",
      "            Firefox    54\n",
      "Windows 10  Chrome     41\n",
      "            Firefox    47\n",
      "Name: count, dtype: int64\n"
     ]
    }
   ],
   "execution_count": 130
  },
  {
   "cell_type": "markdown",
   "source": [
    "So, apparently not. Waldo choice of browser is not dependent from the OS, since it is equally distributed."
   ],
   "metadata": {
    "collapsed": false,
    "id": "220d7307567d7235"
   },
   "id": "220d7307567d7235"
  },
  {
   "cell_type": "code",
   "source": [
    "print(waldo[[\"location\", \"os\"]].groupby(by=[\"location\", \"os\"]).value_counts())"
   ],
   "metadata": {
    "colab": {
     "base_uri": "https://localhost:8080/"
    },
    "id": "bd818f5f678efbca",
    "outputId": "087dd2f6-46f8-4e34-f0ae-4467ded51116",
    "ExecuteTime": {
     "end_time": "2024-04-29T15:54:59.918456Z",
     "start_time": "2024-04-29T15:54:59.905454Z"
    }
   },
   "id": "bd818f5f678efbca",
   "outputs": [
    {
     "name": "stdout",
     "output_type": "stream",
     "text": [
      "location        os        \n",
      "Canada/Toronto  Ubuntu        26\n",
      "                Windows 10    16\n",
      "France/Paris    Ubuntu        38\n",
      "                Windows 10    44\n",
      "USA/Chicago     Ubuntu        48\n",
      "                Windows 10    28\n",
      "Name: count, dtype: int64\n"
     ]
    }
   ],
   "execution_count": 131
  },
  {
   "cell_type": "markdown",
   "source": [
    "And again not. I have not enough data to assume the dependency between OS and location of Waldo, probably they are independent."
   ],
   "metadata": {
    "collapsed": false,
    "id": "9ff823dbb7c38692"
   },
   "id": "9ff823dbb7c38692"
  },
  {
   "cell_type": "markdown",
   "source": [
    "Let's try to analyze the time spent by Waldo on each unique site during all sessions."
   ],
   "metadata": {
    "collapsed": false,
    "id": "39e2866f0ea85cdd"
   },
   "id": "39e2866f0ea85cdd"
  },
  {
   "cell_type": "code",
   "source": [
    "def find_unique_sites(user):\n",
    "    \"\"\"\n",
    "    Function to aggregate time spent on sites.\n",
    "    It simplifies the structure of a list of visited site and time spent on them;\n",
    "    :param user pandas.DataFrame that has column 'sites' with an array of dictionaries site-length\n",
    "    :return tuple of sites and total length spent on each of site\n",
    "    \"\"\"\n",
    "    unique_sites = {}\n",
    "    for cell in user[\"sites\"]:\n",
    "        for site, length in cell:\n",
    "            if site in unique_sites.keys():\n",
    "                unique_sites[site] += length\n",
    "            else:\n",
    "                unique_sites[site] = length\n",
    "    unique_sites = list(zip(unique_sites.keys(), unique_sites.values()))\n",
    "    unique_sites.sort(key= lambda x: x[1])\n",
    "    unzipped_sites = [i[0] for i in unique_sites]\n",
    "    unzipped_lengths = [i[1] for i in unique_sites]\n",
    "    return unzipped_sites, unzipped_lengths\n",
    "\n",
    "#plotting time spent by Waldo on top 10 most viewed sites\n",
    "sites, lengths = find_unique_sites(waldo)\n",
    "sites_hist = np.array(lengths[-10:])\n",
    "sites_hist = np.append(sites_hist, np.sum(lengths[:-10]))\n",
    "sites_labels = np.array(sites[-10:])\n",
    "sites_labels = np.append(sites_labels, \"other\")\n",
    "plt.barh(sites_labels, sites_hist)\n",
    "plt.title(\"Time spent by Waldo (in seconds)\")\n",
    "plt.show()\n"
   ],
   "metadata": {
    "colab": {
     "base_uri": "https://localhost:8080/",
     "height": 452
    },
    "id": "9a6e48027521ce1b",
    "outputId": "ca05fc5d-429b-48d7-f63f-8797debbd4d2",
    "ExecuteTime": {
     "end_time": "2024-04-29T15:55:00.201474Z",
     "start_time": "2024-04-29T15:54:59.921459Z"
    }
   },
   "id": "9a6e48027521ce1b",
   "outputs": [
    {
     "data": {
      "text/plain": [
       "<Figure size 640x480 with 1 Axes>"
      ],
      "image/png": "[encoded data removed]"
     },
     "metadata": {},
     "output_type": "display_data"
    }
   ],
   "execution_count": 132
  },
  {
   "cell_type": "markdown",
   "source": [
    "Let's try to plot charts for Waldo in different locations. What if charts would be different?"
   ],
   "metadata": {
    "collapsed": false,
    "id": "f5a091f3b5833505"
   },
   "id": "f5a091f3b5833505"
  },
  {
   "cell_type": "code",
   "source": [
    "#plotting time spent by Waldo from France/Paris on top 10 most viewed sites\n",
    "waldo_france = waldo.loc[waldo[\"location\"] == 'France/Paris']\n",
    "sites, lengths = find_unique_sites(waldo_france)\n",
    "sites_hist = np.array(lengths[-10:])\n",
    "sites_hist = np.append(sites_hist, np.sum(lengths[:-10]))\n",
    "sites_labels = np.array(sites[-10:])\n",
    "print(sites[-10:])\n",
    "sites_labels = np.append(sites_labels, \"other\")\n",
    "plt.barh(sites_labels, sites_hist)\n",
    "plt.title(\"Time spent by Waldo from France/Paris (in seconds)\")\n",
    "plt.show()"
   ],
   "metadata": {
    "colab": {
     "base_uri": "https://localhost:8080/",
     "height": 489
    },
    "id": "30a93292ab1846bf",
    "outputId": "cf2f4570-387b-4d59-a2b5-3facbafc24c2",
    "ExecuteTime": {
     "end_time": "2024-04-29T15:55:00.609465Z",
     "start_time": "2024-04-29T15:55:00.206457Z"
    }
   },
   "id": "30a93292ab1846bf",
   "outputs": [
    {
     "name": "stdout",
     "output_type": "stream",
     "text": [
      "['annonceetudiant.com', 'jeux-mini.com', 'starbucks.com', 'crous-clermont.fr', 'vk.com', 'mail.google.com', 'slack.com', 'youtube.com', 'toptal.com', 'lenta.ru']\n"
     ]
    },
    {
     "data": {
      "text/plain": [
       "<Figure size 640x480 with 1 Axes>"
      ],
      "image/png": "[encoded data removed]"
     },
     "metadata": {},
     "output_type": "display_data"
    }
   ],
   "execution_count": 133
  },
  {
   "cell_type": "code",
   "source": [
    "#plotting time spent by Waldo in Canada/Toronto on top 10 most viewed sites\n",
    "waldo_canada = waldo.loc[waldo[\"location\"] == 'Canada/Toronto']\n",
    "sites, lengths = find_unique_sites(waldo_canada)\n",
    "sites_hist = np.array(lengths[-10:])\n",
    "sites_hist = np.append(sites_hist, np.sum(lengths[:-10]))\n",
    "sites_labels = np.array(sites[-10:])\n",
    "sites_labels = np.append(sites_labels, \"other\")\n",
    "plt.barh(sites_labels, sites_hist)\n",
    "plt.title(\"Time spent by Waldo from Canada/Toronto (in seconds)\")\n",
    "plt.show()"
   ],
   "metadata": {
    "colab": {
     "base_uri": "https://localhost:8080/",
     "height": 452
    },
    "id": "fee88a0aa92e11e",
    "outputId": "e334494f-5beb-414b-fc52-38a62d640153",
    "ExecuteTime": {
     "end_time": "2024-04-29T15:55:00.908468Z",
     "start_time": "2024-04-29T15:55:00.612458Z"
    }
   },
   "id": "fee88a0aa92e11e",
   "outputs": [
    {
     "data": {
      "text/plain": [
       "<Figure size 640x480 with 1 Axes>"
      ],
      "image/png": "[encoded data removed]"
     },
     "metadata": {},
     "output_type": "display_data"
    }
   ],
   "execution_count": 134
  },
  {
   "cell_type": "code",
   "source": [
    "#plotting time spent by Waldo in USA/Chicago on top 10 most viewed sites\n",
    "waldo_usa = waldo.loc[waldo[\"location\"] == 'USA/Chicago']\n",
    "sites, lengths = find_unique_sites(waldo_usa)\n",
    "sites_hist = np.array(lengths[-10:])\n",
    "sites_hist = np.append(sites_hist, np.sum(lengths[:-10]))\n",
    "sites_labels = np.array(sites[-10:])\n",
    "sites_labels = np.append(sites_labels, \"other\")\n",
    "plt.barh(sites_labels, sites_hist)\n",
    "plt.title(\"Time spent by Waldo from USA/Chicago (in seconds)\")\n",
    "plt.show()"
   ],
   "metadata": {
    "colab": {
     "base_uri": "https://localhost:8080/",
     "height": 452
    },
    "id": "beb4548eed3febb4",
    "outputId": "a79f2d1b-5139-4e79-9c4c-dca76f0b4e5f",
    "ExecuteTime": {
     "end_time": "2024-04-29T15:55:01.188450Z",
     "start_time": "2024-04-29T15:55:00.913466Z"
    }
   },
   "id": "beb4548eed3febb4",
   "outputs": [
    {
     "data": {
      "text/plain": [
       "<Figure size 640x480 with 1 Axes>"
      ],
      "image/png": "[encoded data removed]"
     },
     "metadata": {},
     "output_type": "display_data"
    }
   ],
   "execution_count": 135
  },
  {
   "cell_type": "markdown",
   "source": [
    "The charts look very similar. Can I standing on them decide is a user Waldo or not?"
   ],
   "metadata": {
    "collapsed": false,
    "id": "240cecbe241e225f"
   },
   "id": "240cecbe241e225f"
  },
  {
   "cell_type": "markdown",
   "source": [
    "There are six most viewed by Waldo sites. But do they make sense? Because, they probably also the most viewed sites for other users."
   ],
   "metadata": {
    "collapsed": false,
    "id": "2c68cf39d7ec0ef"
   },
   "id": "2c68cf39d7ec0ef"
  },
  {
   "cell_type": "code",
   "source": [
    "#plotting time spent not by Waldo on top 10 most viewed sites\n",
    "non_waldo = train_data[train_data[\"user_id\"] == 0]\n",
    "sites, lengths = find_unique_sites(non_waldo)\n",
    "sites_hist = np.array(lengths[-10:])\n",
    "sites_hist = np.append(sites_hist, np.sum(lengths[:-10]))\n",
    "sites_labels = np.array(sites[-10:])\n",
    "sites_labels = np.append(sites_labels, \"other\")\n",
    "plt.barh(sites_labels, sites_hist)\n",
    "plt.title(\"Time spent not by Waldo (in seconds)\")\n",
    "plt.show()"
   ],
   "metadata": {
    "colab": {
     "base_uri": "https://localhost:8080/",
     "height": 470
    },
    "id": "d3f055adc0a832a8",
    "outputId": "941d7d8a-b2ef-45b7-d1c4-a9df6ad202e3",
    "ExecuteTime": {
     "end_time": "2024-04-29T15:55:01.672452Z",
     "start_time": "2024-04-29T15:55:01.189457Z"
    }
   },
   "id": "d3f055adc0a832a8",
   "outputs": [
    {
     "data": {
      "text/plain": [
       "<Figure size 640x480 with 1 Axes>"
      ],
      "image/png": "[encoded data removed]"
     },
     "metadata": {},
     "output_type": "display_data"
    }
   ],
   "execution_count": 136
  },
  {
   "cell_type": "markdown",
   "source": [
    "The top most viewed sites for Waldo and not a Waldo users are similar. Many users visit popular sites as does Waldo. Thus, I cannot decide is a user Waldo looking on most viewed sites. Also, encoding those sites is a hard problem, which I avoid.\n",
    "After all, field 'sites' is useless in classification and hard to encode. Therefore, I will not use this field in my model."
   ],
   "metadata": {
    "collapsed": false,
    "id": "c6c3685eaff467dc"
   },
   "id": "c6c3685eaff467dc"
  },
  {
   "cell_type": "markdown",
   "source": [
    "Start dealing with time!"
   ],
   "metadata": {
    "collapsed": false,
    "id": "1e9754bf40052360"
   },
   "id": "1e9754bf40052360"
  },
  {
   "cell_type": "markdown",
   "source": [
    "I aim to determine the patterns of starting the session by Waldo from different locations."
   ],
   "metadata": {
    "collapsed": false,
    "id": "274af6eaf29ab3f0"
   },
   "id": "274af6eaf29ab3f0"
  },
  {
   "cell_type": "code",
   "source": [
    "import matplotlib.pyplot as plt\n",
    "import matplotlib.dates as mdates\n",
    "from datetime import datetime\n",
    "\n",
    "\n",
    "waldo_time = waldo[\"time\"].apply(lambda x: datetime.strptime(x, f'%H:%M:%S'))\n",
    "\n",
    "# Plotting Waldo's network entry time\n",
    "plt.hist(waldo_time, bins=30, edgecolor='black')  # Adjust bins as needed\n",
    "plt.xlabel('Time')\n",
    "plt.ylabel('Frequency')\n",
    "plt.title('Waldo Network Entry Times')\n",
    "plt.gca().xaxis.set_major_formatter(mdates.DateFormatter('%H:%M'))  # Format x-axis as time\n",
    "plt.gca().xaxis.set_major_locator(mdates.HourLocator(interval=1))  # Set hour interval on x-axis\n",
    "plt.xticks(rotation=45)\n",
    "plt.tight_layout()\n",
    "plt.show()"
   ],
   "metadata": {
    "colab": {
     "base_uri": "https://localhost:8080/",
     "height": 487
    },
    "id": "280158c3fbf501ee",
    "outputId": "f5c6dec0-1fa3-41f2-b784-44700208ede0",
    "ExecuteTime": {
     "end_time": "2024-04-29T15:55:02.127456Z",
     "start_time": "2024-04-29T15:55:01.674457Z"
    }
   },
   "id": "280158c3fbf501ee",
   "outputs": [
    {
     "data": {
      "text/plain": [
       "<Figure size 640x480 with 1 Axes>"
      ],
      "image/png": "[encoded data removed]"
     },
     "metadata": {},
     "output_type": "display_data"
    }
   ],
   "execution_count": 137
  },
  {
   "cell_type": "markdown",
   "source": [
    "On a chart I have a histogram with three peaks! This is a good pattern, but is it all?"
   ],
   "metadata": {
    "collapsed": false,
    "id": "bb562640a522d372"
   },
   "id": "bb562640a522d372"
  },
  {
   "cell_type": "markdown",
   "source": [
    "Let's plot histograms for Waldo in different locations."
   ],
   "metadata": {
    "collapsed": false,
    "id": "2f25d44290393258"
   },
   "id": "2f25d44290393258"
  },
  {
   "cell_type": "code",
   "source": [
    "waldo_time_usa = waldo_usa['time'].apply(lambda x: datetime.strptime(x, f'%H:%M:%S'))\n",
    "\n",
    "# Plotting Waldo's network entry time when he in USA\n",
    "plt.hist(waldo_time_usa, bins=24, edgecolor='black')  # Adjust bins as needed\n",
    "plt.xlabel('Time')\n",
    "plt.ylabel('Frequency')\n",
    "plt.title('WaldoUSA Network Entry Times')\n",
    "plt.gca().xaxis.set_major_formatter(mdates.DateFormatter('%H:%M'))  # Format x-axis as time\n",
    "plt.gca().xaxis.set_major_locator(mdates.HourLocator(interval=1))  # Set hour interval on x-axis\n",
    "plt.xticks(rotation=45)\n",
    "plt.tight_layout()\n",
    "plt.show()"
   ],
   "metadata": {
    "colab": {
     "base_uri": "https://localhost:8080/",
     "height": 487
    },
    "id": "5d6acd5bd8fde427",
    "outputId": "8f6f5787-e479-4516-f4bc-15ffe582abee",
    "ExecuteTime": {
     "end_time": "2024-04-29T15:55:02.477167Z",
     "start_time": "2024-04-29T15:55:02.129464Z"
    }
   },
   "id": "5d6acd5bd8fde427",
   "outputs": [
    {
     "data": {
      "text/plain": [
       "<Figure size 640x480 with 1 Axes>"
      ],
      "image/png": "[encoded data removed]"
     },
     "metadata": {},
     "output_type": "display_data"
    }
   ],
   "execution_count": 138
  },
  {
   "cell_type": "code",
   "source": [
    "waldo_time_canada = waldo_canada[\"time\"].apply(lambda x: datetime.strptime(x, f'%H:%M:%S'))\n",
    "\n",
    "# Plotting Waldo's network entry time when he in Canada\n",
    "plt.hist(waldo_time_canada, bins=30, edgecolor='black')  # Adjust bins as needed\n",
    "plt.xlabel('Time')\n",
    "plt.ylabel('Frequency')\n",
    "plt.title('WaldoCanada Network Entry Times')\n",
    "plt.gca().xaxis.set_major_formatter(mdates.DateFormatter('%H:%M'))  # Format x-axis as time\n",
    "plt.gca().xaxis.set_major_locator(mdates.HourLocator(interval=1))  # Set hour interval on x-axis\n",
    "plt.xticks(rotation=45)\n",
    "plt.tight_layout()\n",
    "plt.show()"
   ],
   "metadata": {
    "colab": {
     "base_uri": "https://localhost:8080/",
     "height": 487
    },
    "id": "b39607900d1eb742",
    "outputId": "95ba7193-7eec-4abd-d565-aa9663a71d4c",
    "ExecuteTime": {
     "end_time": "2024-04-29T15:55:02.831154Z",
     "start_time": "2024-04-29T15:55:02.479148Z"
    }
   },
   "id": "b39607900d1eb742",
   "outputs": [
    {
     "data": {
      "text/plain": [
       "<Figure size 640x480 with 1 Axes>"
      ],
      "image/png": "[encoded data removed]"
     },
     "metadata": {},
     "output_type": "display_data"
    }
   ],
   "execution_count": 139
  },
  {
   "cell_type": "code",
   "source": [
    "waldo_time_france = waldo_france[\"time\"].apply(lambda x: datetime.strptime(x, f'%H:%M:%S'))\n",
    "\n",
    "# Plotting Waldo's network entry time when he in France\n",
    "plt.hist(waldo_time_france, bins=30, edgecolor='black')  # Adjust bins as needed\n",
    "plt.xlabel('Time')\n",
    "plt.ylabel('Frequency')\n",
    "plt.title('WaldoFrance Network Entry Times')\n",
    "plt.gca().xaxis.set_major_formatter(mdates.DateFormatter('%H:%M'))  # Format x-axis as time\n",
    "plt.gca().xaxis.set_major_locator(mdates.HourLocator(interval=1))  # Set hour interval on x-axis\n",
    "plt.xticks(rotation=45)\n",
    "plt.tight_layout()\n",
    "plt.show()"
   ],
   "metadata": {
    "colab": {
     "base_uri": "https://localhost:8080/",
     "height": 487
    },
    "id": "9c4e6906851e935e",
    "outputId": "bc2f69a5-0fde-4b92-e1f4-35923199ee47",
    "ExecuteTime": {
     "end_time": "2024-04-29T15:55:03.168162Z",
     "start_time": "2024-04-29T15:55:02.833154Z"
    }
   },
   "id": "9c4e6906851e935e",
   "outputs": [
    {
     "data": {
      "text/plain": [
       "<Figure size 640x480 with 1 Axes>"
      ],
      "image/png": "[encoded data removed]"
     },
     "metadata": {},
     "output_type": "display_data"
    }
   ],
   "execution_count": 140
  },
  {
   "cell_type": "markdown",
   "source": [
    "Hmm, Waldo in different locations have only two peaks on charts. What about local time? What if Waldo typically enters the network at the same time but in different timezones?"
   ],
   "metadata": {
    "collapsed": false,
    "id": "a96ed4d6119b04d6"
   },
   "id": "a96ed4d6119b04d6"
  },
  {
   "cell_type": "markdown",
   "source": [],
   "metadata": {
    "collapsed": false,
    "id": "5fa61cbbb8c8715a"
   },
   "id": "5fa61cbbb8c8715a"
  },
  {
   "cell_type": "code",
   "source": [
    "\n",
    "def get_shift(location):\n",
    "    if location == \"USA/Chicago\":\n",
    "        return timedelta(seconds=-6*3600)\n",
    "    elif location == \"France/Paris\":\n",
    "        return timedelta(seconds=2*3600)\n",
    "    elif location == \"Canada/Toronto\":\n",
    "        return timedelta(seconds=-5*3600)\n",
    "\n",
    "\n",
    "\n",
    "local_time = waldo[\"time\"].apply(lambda x: datetime.strptime(x, f'%H:%M:%S')) + waldo[\"location\"].apply(get_shift)\n",
    "\n",
    "local_time = local_time.apply(lambda x: datetime.strptime(f'{x.hour}:{x.minute}:{x.second}', f'%H:%M:%S'))\n",
    "\n",
    "# Plotting Waldo's network entry time but localized\n",
    "plt.hist(local_time, bins=30, edgecolor='black')  # Adjust bins as needed\n",
    "plt.xlabel('Time')\n",
    "plt.ylabel('Frequency')\n",
    "plt.title('Waldo Network Entry Local Times')\n",
    "plt.gca().xaxis.set_major_formatter(mdates.DateFormatter('%H:%M'))  # Format x-axis as time\n",
    "plt.gca().xaxis.set_major_locator(mdates.HourLocator(interval=1))  # Set hour interval on x-axis\n",
    "plt.xticks(rotation=45)\n",
    "plt.tight_layout()\n",
    "plt.show()\n"
   ],
   "metadata": {
    "colab": {
     "base_uri": "https://localhost:8080/",
     "height": 487
    },
    "id": "28dc5e1c4376d7a0",
    "outputId": "293c5580-5d79-4624-bc1b-5220fe9d9a6b",
    "ExecuteTime": {
     "end_time": "2024-04-29T15:55:03.530149Z",
     "start_time": "2024-04-29T15:55:03.170158Z"
    }
   },
   "id": "28dc5e1c4376d7a0",
   "outputs": [
    {
     "data": {
      "text/plain": [
       "<Figure size 640x480 with 1 Axes>"
      ],
      "image/png": "[encoded data removed]"
     },
     "metadata": {},
     "output_type": "display_data"
    }
   ],
   "execution_count": 141
  },
  {
   "cell_type": "markdown",
   "source": [
    "Yes! Waldo has a schedule entering between 11 and 14 and 20 and 23 at a local time of his location."
   ],
   "metadata": {
    "collapsed": false,
    "id": "f09892078a73862e"
   },
   "id": "f09892078a73862e"
  },
  {
   "cell_type": "markdown",
   "source": [
    "Maybe, it works the same for the week day?"
   ],
   "metadata": {
    "collapsed": false,
    "id": "afb866561dd5ce89"
   },
   "id": "afb866561dd5ce89"
  },
  {
   "cell_type": "code",
   "source": [
    "def convert_date_to_str(date):\n",
    "    \"\"\"\n",
    "    Converts a datetime object to a string\n",
    "    :param date: date\n",
    "    :return: datetime object in string\n",
    "    \"\"\"\n",
    "    return datetime.strftime(date, f'%Y-%m-%d')\n",
    "\n",
    "\n",
    "def convert_str_to_datetime(str):\n",
    "    \"\"\"\n",
    "    Converts a string to a datetime object\n",
    "    :param str: date in string format\n",
    "    :return: datetime object\n",
    "    \"\"\"\n",
    "    return datetime.strptime(str, f'%Y-%m-%d %H:%M:%S')\n",
    "\n",
    "# getting localized time for Waldo\n",
    "waldo_date_time_utc = waldo[\"date\"].apply(convert_date_to_str) + ' ' + waldo[\"time\"]\n",
    "waldo_date_time_utc = waldo_date_time_utc.apply(convert_str_to_datetime)\n",
    "\n",
    "waldo_date_time_local = waldo_date_time_utc + waldo[\"location\"].apply(get_shift)\n",
    "waldo.loc[:,\"loc_time\"] = waldo_date_time_local\n"
   ],
   "metadata": {
    "colab": {
     "base_uri": "https://localhost:8080/"
    },
    "id": "d5227298ef490edc",
    "outputId": "b50f18dc-0065-4d01-dde2-8e1c485dcc7d",
    "ExecuteTime": {
     "end_time": "2024-04-29T15:55:03.546150Z",
     "start_time": "2024-04-29T15:55:03.532152Z"
    }
   },
   "id": "d5227298ef490edc",
   "outputs": [
    {
     "name": "stderr",
     "output_type": "stream",
     "text": [
      "C:\\Users\\danil\\AppData\\Local\\Temp\\ipykernel_6476\\1672831588.py:23: SettingWithCopyWarning: \n",
      "A value is trying to be set on a copy of a slice from a DataFrame.\n",
      "Try using .loc[row_indexer,col_indexer] = value instead\n",
      "\n",
      "See the caveats in the documentation: https://pandas.pydata.org/pandas-docs/stable/user_guide/indexing.html#returning-a-view-versus-a-copy\n",
      "  waldo.loc[:,\"loc_time\"] = waldo_date_time_local\n"
     ]
    }
   ],
   "execution_count": 142
  },
  {
   "cell_type": "code",
   "source": [
    "def get_weekday_from_date(date):\n",
    "    \"\"\"\n",
    "    Getting the weekday from date\n",
    "    :param date: datetime object\n",
    "    :return: number of the week from 0 to 6 inclusively\n",
    "    \"\"\"\n",
    "    x = date.weekday()\n",
    "    return x"
   ],
   "metadata": {
    "id": "b5d526ce53027fb5",
    "ExecuteTime": {
     "end_time": "2024-04-29T15:55:03.561152Z",
     "start_time": "2024-04-29T15:55:03.550151Z"
    }
   },
   "id": "b5d526ce53027fb5",
   "outputs": [],
   "execution_count": 143
  },
  {
   "cell_type": "code",
   "source": [
    "waldo_date = waldo_date_time_local.apply(get_weekday_from_date)\n",
    "# Plotting histogram of Waldo entry weekdays\n",
    "heights = waldo_date.value_counts().sort_index()\n",
    "plt.bar(heights.index, heights.values, edgecolor='black')  # Adjust bins as needed\n",
    "plt.xlabel('Weekday')\n",
    "plt.ylabel('Frequency')\n",
    "plt.title('Waldo Network Entry Week Days')\n",
    "plt.show()"
   ],
   "metadata": {
    "colab": {
     "base_uri": "https://localhost:8080/",
     "height": 472
    },
    "id": "5a4b3b5ba46553d2",
    "outputId": "dada7a6c-96cf-40f6-ca3c-14f54f556f76",
    "ExecuteTime": {
     "end_time": "2024-04-29T15:55:03.779162Z",
     "start_time": "2024-04-29T15:55:03.563152Z"
    }
   },
   "id": "5a4b3b5ba46553d2",
   "outputs": [
    {
     "data": {
      "text/plain": [
       "<Figure size 640x480 with 1 Axes>"
      ],
      "image/png": "[encoded data removed]"
     },
     "metadata": {},
     "output_type": "display_data"
    }
   ],
   "execution_count": 144
  },
  {
   "cell_type": "code",
   "source": [
    "waldo_date_time_local_USA = waldo.loc[waldo[\"location\"] == \"USA/Chicago\", \"loc_time\"]\n",
    "waldo_date = waldo_date_time_local_USA.apply(get_weekday_from_date)\n",
    "# Plotting histogram of Waldo entries weekdays for Waldo in USA\n",
    "heights = waldo_date.value_counts().sort_index()\n",
    "plt.bar(heights.index, heights.values, edgecolor='black')  # Adjust bins as needed\n",
    "plt.xlabel('Weekday')\n",
    "plt.ylabel('Frequency')\n",
    "plt.title('WaldoUSA Network Entry Week Days')\n",
    "plt.show()"
   ],
   "metadata": {
    "colab": {
     "base_uri": "https://localhost:8080/",
     "height": 472
    },
    "id": "ed865c1ef12d4585",
    "outputId": "15d6ed50-d775-4176-ddfc-fea04e9c2f30",
    "ExecuteTime": {
     "end_time": "2024-04-29T15:55:03.965151Z",
     "start_time": "2024-04-29T15:55:03.781146Z"
    }
   },
   "id": "ed865c1ef12d4585",
   "outputs": [
    {
     "data": {
      "text/plain": [
       "<Figure size 640x480 with 1 Axes>"
      ],
      "image/png": "[encoded data removed]"
     },
     "metadata": {},
     "output_type": "display_data"
    }
   ],
   "execution_count": 145
  },
  {
   "cell_type": "code",
   "source": [
    "waldo_date_time_local_Canada = waldo.loc[waldo[\"location\"] == \"Canada/Toronto\", \"loc_time\"]\n",
    "waldo_date = waldo_date_time_local_Canada.apply(get_weekday_from_date)\n",
    "# Plotting histogram of Waldo entries weekdays for Waldo in Canada\n",
    "heights = waldo_date.value_counts().sort_index()\n",
    "plt.bar(heights.index, heights.values, edgecolor='black')  # Adjust bins as needed\n",
    "plt.xlabel('Weekday')\n",
    "plt.ylabel('Frequency')\n",
    "plt.title('WaldoCanada Network Entry Week Days')\n",
    "plt.show()"
   ],
   "metadata": {
    "colab": {
     "base_uri": "https://localhost:8080/",
     "height": 472
    },
    "id": "fcb2c46efe479afc",
    "outputId": "b9fb2e30-9edf-41aa-fdd1-e948ab6fda05",
    "ExecuteTime": {
     "end_time": "2024-04-29T15:55:04.152159Z",
     "start_time": "2024-04-29T15:55:03.967151Z"
    }
   },
   "id": "fcb2c46efe479afc",
   "outputs": [
    {
     "data": {
      "text/plain": [
       "<Figure size 640x480 with 1 Axes>"
      ],
      "image/png": "[encoded data removed]"
     },
     "metadata": {},
     "output_type": "display_data"
    }
   ],
   "execution_count": 146
  },
  {
   "cell_type": "code",
   "source": [
    "# Plotting histogram of Waldo entries weekdays for Waldo in France\n",
    "waldo_date_time_local_France = waldo.loc[waldo[\"location\"] == \"France/Paris\", \"loc_time\"]\n",
    "waldo_date = waldo_date_time_local_France.apply(get_weekday_from_date)\n",
    "heights = waldo_date.value_counts().sort_index()\n",
    "plt.bar(heights.index, heights.values, edgecolor='black')  # Adjust bins as needed\n",
    "plt.xlabel('Weekday')\n",
    "plt.ylabel('Frequency')\n",
    "plt.title('WaldoFrance Network Entry Week Days')\n",
    "plt.show()"
   ],
   "metadata": {
    "colab": {
     "base_uri": "https://localhost:8080/",
     "height": 472
    },
    "id": "ecfb435c225d34a7",
    "outputId": "e1cd4703-7691-4a10-b63b-9ecf6a13a35a",
    "ExecuteTime": {
     "end_time": "2024-04-29T15:55:04.338152Z",
     "start_time": "2024-04-29T15:55:04.154149Z"
    }
   },
   "id": "ecfb435c225d34a7",
   "outputs": [
    {
     "data": {
      "text/plain": [
       "<Figure size 640x480 with 1 Axes>"
      ],
      "image/png": "[encoded data removed]"
     },
     "metadata": {},
     "output_type": "display_data"
    }
   ],
   "execution_count": 147
  },
  {
   "cell_type": "markdown",
   "source": [
    "Waldo enters the network every day equally. There are no patterns, so I cannot decide looking on this feature only."
   ],
   "metadata": {
    "collapsed": false,
    "id": "21657f5682c4b667"
   },
   "id": "21657f5682c4b667"
  },
  {
   "cell_type": "markdown",
   "source": [
    "Maybe there are pattern in month and day Waldo enters?"
   ],
   "metadata": {
    "collapsed": false,
    "id": "d0be11dffdc358f"
   },
   "id": "d0be11dffdc358f"
  },
  {
   "cell_type": "code",
   "source": [
    "def get_month_from_date(date):\n",
    "    x = date.month\n",
    "    return x\n",
    "waldo_month = waldo['date'].apply(get_month_from_date)\n",
    "# Plotting histogram\n",
    "heights = waldo_month.value_counts().sort_index()\n",
    "plt.bar(heights.index, heights.values, edgecolor='black')  # Adjust bins as needed\n",
    "plt.xlabel('Month')\n",
    "plt.ylabel('Frequency')\n",
    "plt.title('Waldo Network Entry Months')\n",
    "plt.show()"
   ],
   "metadata": {
    "colab": {
     "base_uri": "https://localhost:8080/",
     "height": 472
    },
    "id": "57737bdc35d75e0e",
    "outputId": "e88ec229-5ec4-4842-ac01-f2ad2dfa2574",
    "ExecuteTime": {
     "end_time": "2024-04-29T15:55:04.557146Z",
     "start_time": "2024-04-29T15:55:04.340150Z"
    }
   },
   "id": "57737bdc35d75e0e",
   "outputs": [
    {
     "data": {
      "text/plain": [
       "<Figure size 640x480 with 1 Axes>"
      ],
      "image/png": "[encoded data removed]"
     },
     "metadata": {},
     "output_type": "display_data"
    }
   ],
   "execution_count": 148
  },
  {
   "cell_type": "code",
   "source": [
    "\n",
    "smallest_date = waldo['date'].min()\n",
    "# Plotting histogram\n",
    "waldo_within_a_year = waldo.loc[waldo[\"date\"] < timedelta(days=365)+smallest_date]\n",
    "\n",
    "waldo_month_within_a_year = waldo_within_a_year[\"date\"].apply(get_month_from_date)\n",
    "heights = waldo_month_within_a_year.value_counts().sort_index()\n",
    "plt.bar(heights.index, heights.values, edgecolor='black')  # Adjust bins as needed\n",
    "plt.xlabel('Month')\n",
    "plt.ylabel('Frequency')\n",
    "plt.title('Waldo Network Entry Months within a year')\n",
    "plt.show()"
   ],
   "metadata": {
    "colab": {
     "base_uri": "https://localhost:8080/",
     "height": 472
    },
    "id": "YQhocjmWHlhU",
    "outputId": "249178d9-ac40-48eb-cd13-8b0fc1654d92",
    "ExecuteTime": {
     "end_time": "2024-04-29T15:55:04.855303Z",
     "start_time": "2024-04-29T15:55:04.559153Z"
    }
   },
   "id": "YQhocjmWHlhU",
   "outputs": [
    {
     "data": {
      "text/plain": [
       "<Figure size 640x480 with 1 Axes>"
      ],
      "image/png": "[encoded data removed]"
     },
     "metadata": {},
     "output_type": "display_data"
    }
   ],
   "execution_count": 149
  },
  {
   "cell_type": "markdown",
   "source": [
    "The date looks like it has a pattern, but this is due the time interval the dataset covers."
   ],
   "metadata": {
    "collapsed": false,
    "id": "460a5649f6ed690a"
   },
   "id": "460a5649f6ed690a"
  },
  {
   "cell_type": "code",
   "source": [
    "print(\"The earliest date in datatset: \", train_data[\"date\"].min())\n",
    "print(\"The latest date in datatset: \", train_data[\"date\"].max())"
   ],
   "metadata": {
    "colab": {
     "base_uri": "https://localhost:8080/"
    },
    "id": "deabfd8805df3c95",
    "outputId": "524d4484-6c6b-4cb7-f28d-0aa88178452b",
    "ExecuteTime": {
     "end_time": "2024-04-29T15:55:04.871296Z",
     "start_time": "2024-04-29T15:55:04.857305Z"
    }
   },
   "id": "deabfd8805df3c95",
   "outputs": [
    {
     "name": "stdout",
     "output_type": "stream",
     "text": [
      "The earliest date in datatset:  2016-01-14 00:00:00\n",
      "The latest date in datatset:  2017-09-28 00:00:00\n"
     ]
    }
   ],
   "execution_count": 150
  },
  {
   "cell_type": "markdown",
   "source": [
    "So dataset contains information about ~1.5 years, which is not enough to make any decision on pattern in the dataset related to year. But analyzis of the distribution of entries within a year gives me an insight that session month plays a role in finding Waldo."
   ],
   "metadata": {
    "collapsed": false,
    "id": "c3c4d50fe2e0cd5e"
   },
   "id": "c3c4d50fe2e0cd5e"
  },
  {
   "cell_type": "markdown",
   "source": [
    "Probably the day in month plays a role?"
   ],
   "metadata": {
    "collapsed": false,
    "id": "72a3d39305623"
   },
   "id": "72a3d39305623"
  },
  {
   "cell_type": "code",
   "source": [
    "waldo_days_entered = waldo_date_time_local.apply(lambda x: x.day)\n",
    "\n",
    "plt.hist(waldo_days_entered, bins=30, edgecolor='black', align='mid')  # Adjust bins as needed\n",
    "plt.xlabel('Day')\n",
    "plt.ylabel('Frequency')\n",
    "plt.title('Waldo Network Entry Days')\n",
    "plt.show()\n"
   ],
   "metadata": {
    "colab": {
     "base_uri": "https://localhost:8080/",
     "height": 472
    },
    "id": "a6bbeec8e290b40e",
    "outputId": "1411807c-f019-4d07-d1cf-34edaa77ee63",
    "ExecuteTime": {
     "end_time": "2024-04-29T15:55:05.153296Z",
     "start_time": "2024-04-29T15:55:04.873306Z"
    }
   },
   "id": "a6bbeec8e290b40e",
   "outputs": [
    {
     "data": {
      "text/plain": [
       "<Figure size 640x480 with 1 Axes>"
      ],
      "image/png": "[encoded data removed]"
     },
     "metadata": {},
     "output_type": "display_data"
    }
   ],
   "execution_count": 151
  },
  {
   "cell_type": "markdown",
   "source": [
    "Looks messy, I will try to smooth the histogram."
   ],
   "metadata": {
    "collapsed": false,
    "id": "9e9fcbe1ff448e26"
   },
   "id": "9e9fcbe1ff448e26"
  },
  {
   "cell_type": "code",
   "source": [
    "# heights = waldo_days_entered.value_counts().sort_index()\n",
    "plt.hist(waldo_days_entered, bins=10, edgecolor='black', align='mid')  # Adjust bins as needed\n",
    "plt.xlabel('Day')\n",
    "plt.ylabel('Frequency')\n",
    "plt.title('Waldo Network Entry Days')\n",
    "plt.show()"
   ],
   "metadata": {
    "colab": {
     "base_uri": "https://localhost:8080/",
     "height": 472
    },
    "id": "cae17590a4550eba",
    "outputId": "67335c60-c6bb-4e25-a29f-364e04324195",
    "ExecuteTime": {
     "end_time": "2024-04-29T15:55:05.338809Z",
     "start_time": "2024-04-29T15:55:05.155304Z"
    }
   },
   "id": "cae17590a4550eba",
   "outputs": [
    {
     "data": {
      "text/plain": [
       "<Figure size 640x480 with 1 Axes>"
      ],
      "image/png": "[encoded data removed]"
     },
     "metadata": {},
     "output_type": "display_data"
    }
   ],
   "execution_count": 152
  },
  {
   "cell_type": "code",
   "source": [
    "waldo_days_entered = waldo_date_time_local.loc[waldo_date_time_local < timedelta(days=365)+smallest_date].apply(lambda x: x.day)\n",
    "\n",
    "plt.hist(waldo_days_entered, bins=30, edgecolor='black', align='mid')  # Adjust bins as needed\n",
    "plt.xlabel('Day')\n",
    "plt.ylabel('Frequency')\n",
    "plt.title('Waldo Network Entry Days')\n",
    "plt.show()\n"
   ],
   "metadata": {
    "colab": {
     "base_uri": "https://localhost:8080/",
     "height": 472
    },
    "id": "llfBpzJr6SMG",
    "outputId": "3bdeec60-a8cf-42b1-ee91-4c0ff2d102b7",
    "ExecuteTime": {
     "end_time": "2024-04-29T15:55:05.540815Z",
     "start_time": "2024-04-29T15:55:05.341814Z"
    }
   },
   "id": "llfBpzJr6SMG",
   "outputs": [
    {
     "data": {
      "text/plain": [
       "<Figure size 640x480 with 1 Axes>"
      ],
      "image/png": "[encoded data removed]"
     },
     "metadata": {},
     "output_type": "display_data"
    }
   ],
   "execution_count": 153
  },
  {
   "cell_type": "code",
   "source": [
    "plt.hist(waldo_days_entered, bins=10, edgecolor='black', align='mid')  # Adjust bins as needed\n",
    "plt.xlabel('Day')\n",
    "plt.ylabel('Frequency')\n",
    "plt.title('Waldo Network Entry Days')\n",
    "plt.show()"
   ],
   "metadata": {
    "colab": {
     "base_uri": "https://localhost:8080/",
     "height": 472
    },
    "id": "qia31Oay6rFM",
    "outputId": "928ee116-23ae-48a3-8e5a-21961c36e0ea",
    "ExecuteTime": {
     "end_time": "2024-04-29T15:55:05.743817Z",
     "start_time": "2024-04-29T15:55:05.542814Z"
    }
   },
   "id": "qia31Oay6rFM",
   "outputs": [
    {
     "data": {
      "text/plain": [
       "<Figure size 640x480 with 1 Axes>"
      ],
      "image/png": "[encoded data removed]"
     },
     "metadata": {},
     "output_type": "display_data"
    }
   ],
   "execution_count": 154
  },
  {
   "cell_type": "markdown",
   "source": [
    "Looks more understandable, I aggregated days by three. But the histogram does not provide any insight about Waldo. Thus, I will not include this feature into my model."
   ],
   "metadata": {
    "collapsed": false,
    "id": "215ecbb1b73e75a2"
   },
   "id": "215ecbb1b73e75a2"
  },
  {
   "cell_type": "markdown",
   "source": [
    "### Insights based on EDA\n",
    "\n",
    "After analyzing the dataset I determined:\n",
    "\n",
    "- The dataset is fulfilled, there are no null fields.\n",
    "- The dataset is unbalanced, I have 200 Waldo out of 40000.\n",
    "- I will remove 'sites', 'date' columns\n",
    "- I will use 'os', 'locale', 'browser', 'location', 'time' columns as features and 'user_id' as a target.\n",
    "- Waldo's 'locale' feature is always ru_RU.\n",
    "- I will localize the time for each entry."
   ],
   "metadata": {
    "collapsed": false,
    "id": "4d1efadc49fe1fad"
   },
   "id": "4d1efadc49fe1fad"
  },
  {
   "cell_type": "markdown",
   "source": [
    "### Preprocessing"
   ],
   "metadata": {
    "collapsed": false,
    "id": "b98a90a4a4ad12dc"
   },
   "id": "b98a90a4a4ad12dc"
  },
  {
   "cell_type": "code",
   "source": [
    "!pip install torchmetrics\n",
    "!pip install captum"
   ],
   "metadata": {
    "colab": {
     "base_uri": "https://localhost:8080/"
    },
    "id": "Y60QhXNulXS0",
    "outputId": "78d55b0c-dd9f-4408-c39a-42a6921e92e5",
    "ExecuteTime": {
     "end_time": "2024-04-29T15:55:12.510356Z",
     "start_time": "2024-04-29T15:55:05.745818Z"
    }
   },
   "id": "Y60QhXNulXS0",
   "outputs": [
    {
     "name": "stdout",
     "output_type": "stream",
     "text": [
      "Requirement already satisfied: torchmetrics in c:\\users\\danil\\appdata\\local\\programs\\python\\python38\\lib\\site-packages (1.3.2)\n",
      "Requirement already satisfied: numpy>1.20.0 in c:\\users\\danil\\appdata\\local\\programs\\python\\python38\\lib\\site-packages (from torchmetrics) (1.24.3)\n",
      "Requirement already satisfied: packaging>17.1 in c:\\users\\danil\\appdata\\local\\programs\\python\\python38\\lib\\site-packages (from torchmetrics) (23.2)\n",
      "Requirement already satisfied: torch>=1.10.0 in c:\\users\\danil\\appdata\\local\\programs\\python\\python38\\lib\\site-packages (from torchmetrics) (2.2.2)\n",
      "Requirement already satisfied: lightning-utilities>=0.8.0 in c:\\users\\danil\\appdata\\local\\programs\\python\\python38\\lib\\site-packages (from torchmetrics) (0.11.2)\n",
      "Requirement already satisfied: typing-extensions in c:\\users\\danil\\appdata\\local\\programs\\python\\python38\\lib\\site-packages (from torchmetrics) (4.11.0)\n",
      "Requirement already satisfied: setuptools in c:\\users\\danil\\appdata\\local\\programs\\python\\python38\\lib\\site-packages (from lightning-utilities>=0.8.0->torchmetrics) (41.2.0)\n",
      "Requirement already satisfied: filelock in c:\\users\\danil\\appdata\\local\\programs\\python\\python38\\lib\\site-packages (from torch>=1.10.0->torchmetrics) (3.13.4)\n",
      "Requirement already satisfied: sympy in c:\\users\\danil\\appdata\\local\\programs\\python\\python38\\lib\\site-packages (from torch>=1.10.0->torchmetrics) (1.12)\n",
      "Requirement already satisfied: networkx in c:\\users\\danil\\appdata\\local\\programs\\python\\python38\\lib\\site-packages (from torch>=1.10.0->torchmetrics) (3.1)\n",
      "Requirement already satisfied: jinja2 in c:\\users\\danil\\appdata\\local\\programs\\python\\python38\\lib\\site-packages (from torch>=1.10.0->torchmetrics) (3.1.3)\n",
      "Requirement already satisfied: fsspec in c:\\users\\danil\\appdata\\local\\programs\\python\\python38\\lib\\site-packages (from torch>=1.10.0->torchmetrics) (2024.3.1)\n",
      "Requirement already satisfied: MarkupSafe>=2.0 in c:\\users\\danil\\appdata\\local\\programs\\python\\python38\\lib\\site-packages (from jinja2->torch>=1.10.0->torchmetrics) (2.1.5)\n",
      "Requirement already satisfied: mpmath>=0.19 in c:\\users\\danil\\appdata\\local\\programs\\python\\python38\\lib\\site-packages (from sympy->torch>=1.10.0->torchmetrics) (1.3.0)\n",
      "Requirement already satisfied: captum in c:\\users\\danil\\appdata\\local\\programs\\python\\python38\\lib\\site-packages (0.7.0)\n",
      "Requirement already satisfied: matplotlib in c:\\users\\danil\\appdata\\local\\programs\\python\\python38\\lib\\site-packages (from captum) (3.7.4)\n",
      "Requirement already satisfied: numpy in c:\\users\\danil\\appdata\\local\\programs\\python\\python38\\lib\\site-packages (from captum) (1.24.3)\n",
      "Requirement already satisfied: torch>=1.6 in c:\\users\\danil\\appdata\\local\\programs\\python\\python38\\lib\\site-packages (from captum) (2.2.2)\n",
      "Requirement already satisfied: tqdm in c:\\users\\danil\\appdata\\local\\programs\\python\\python38\\lib\\site-packages (from captum) (4.66.2)\n",
      "Requirement already satisfied: filelock in c:\\users\\danil\\appdata\\local\\programs\\python\\python38\\lib\\site-packages (from torch>=1.6->captum) (3.13.4)\n",
      "Requirement already satisfied: typing-extensions>=4.8.0 in c:\\users\\danil\\appdata\\local\\programs\\python\\python38\\lib\\site-packages (from torch>=1.6->captum) (4.11.0)\n",
      "Requirement already satisfied: sympy in c:\\users\\danil\\appdata\\local\\programs\\python\\python38\\lib\\site-packages (from torch>=1.6->captum) (1.12)\n",
      "Requirement already satisfied: networkx in c:\\users\\danil\\appdata\\local\\programs\\python\\python38\\lib\\site-packages (from torch>=1.6->captum) (3.1)\n",
      "Requirement already satisfied: jinja2 in c:\\users\\danil\\appdata\\local\\programs\\python\\python38\\lib\\site-packages (from torch>=1.6->captum) (3.1.3)\n",
      "Requirement already satisfied: fsspec in c:\\users\\danil\\appdata\\local\\programs\\python\\python38\\lib\\site-packages (from torch>=1.6->captum) (2024.3.1)\n",
      "Requirement already satisfied: contourpy>=1.0.1 in c:\\users\\danil\\appdata\\local\\programs\\python\\python38\\lib\\site-packages (from matplotlib->captum) (1.1.1)\n",
      "Requirement already satisfied: cycler>=0.10 in c:\\users\\danil\\appdata\\local\\programs\\python\\python38\\lib\\site-packages (from matplotlib->captum) (0.12.1)\n",
      "Requirement already satisfied: fonttools>=4.22.0 in c:\\users\\danil\\appdata\\local\\programs\\python\\python38\\lib\\site-packages (from matplotlib->captum) (4.46.0)\n",
      "Requirement already satisfied: kiwisolver>=1.0.1 in c:\\users\\danil\\appdata\\local\\programs\\python\\python38\\lib\\site-packages (from matplotlib->captum) (1.4.5)\n",
      "Requirement already satisfied: packaging>=20.0 in c:\\users\\danil\\appdata\\local\\programs\\python\\python38\\lib\\site-packages (from matplotlib->captum) (23.2)\n",
      "Requirement already satisfied: pillow>=6.2.0 in c:\\users\\danil\\appdata\\local\\programs\\python\\python38\\lib\\site-packages (from matplotlib->captum) (10.1.0)\n",
      "Requirement already satisfied: pyparsing>=2.3.1 in c:\\users\\danil\\appdata\\local\\programs\\python\\python38\\lib\\site-packages (from matplotlib->captum) (3.1.1)\n",
      "Requirement already satisfied: python-dateutil>=2.7 in c:\\users\\danil\\appdata\\local\\programs\\python\\python38\\lib\\site-packages (from matplotlib->captum) (2.8.2)\n",
      "Requirement already satisfied: importlib-resources>=3.2.0 in c:\\users\\danil\\appdata\\local\\programs\\python\\python38\\lib\\site-packages (from matplotlib->captum) (6.1.1)\n",
      "Requirement already satisfied: colorama in c:\\users\\danil\\appdata\\local\\programs\\python\\python38\\lib\\site-packages (from tqdm->captum) (0.4.6)\n",
      "Requirement already satisfied: zipp>=3.1.0 in c:\\users\\danil\\appdata\\local\\programs\\python\\python38\\lib\\site-packages (from importlib-resources>=3.2.0->matplotlib->captum) (3.17.0)\n",
      "Requirement already satisfied: six>=1.5 in c:\\users\\danil\\appdata\\local\\programs\\python\\python38\\lib\\site-packages (from python-dateutil>=2.7->matplotlib->captum) (1.16.0)\n",
      "Requirement already satisfied: MarkupSafe>=2.0 in c:\\users\\danil\\appdata\\local\\programs\\python\\python38\\lib\\site-packages (from jinja2->torch>=1.6->captum) (2.1.5)\n",
      "Requirement already satisfied: mpmath>=0.19 in c:\\users\\danil\\appdata\\local\\programs\\python\\python38\\lib\\site-packages (from sympy->torch>=1.6->captum) (1.3.0)\n"
     ]
    }
   ],
   "execution_count": 155
  },
  {
   "cell_type": "code",
   "source": [
    "import pytz\n",
    "import torch\n",
    "import torch.nn as nn\n",
    "from torch.utils.data import Dataset, DataLoader, TensorDataset\n",
    "import pandas as pd\n",
    "from sklearn.preprocessing import OneHotEncoder\n",
    "from sklearn.model_selection import train_test_split\n",
    "from sklearn.impute import SimpleImputer\n",
    "import torch.nn.functional as F\n",
    "from tqdm import tqdm\n",
    "from sklearn.metrics import precision_score, recall_score, f1_score, accuracy_score\n",
    "from torchmetrics import Accuracy, Precision, Recall, F1Score\n",
    "from sklearn.utils import class_weight\n",
    "import torch.optim as optim\n",
    "from sklearn.metrics import classification_report\n",
    "from captum.attr import IntegratedGradients"
   ],
   "metadata": {
    "id": "xlRbiWvqX2rS",
    "ExecuteTime": {
     "end_time": "2024-04-29T15:55:12.526355Z",
     "start_time": "2024-04-29T15:55:12.513354Z"
    }
   },
   "id": "xlRbiWvqX2rS",
   "outputs": [],
   "execution_count": 156
  },
  {
   "cell_type": "markdown",
   "source": [
    "Initial dataset"
   ],
   "metadata": {
    "collapsed": false,
    "id": "df7155d7325c7ad6"
   },
   "id": "df7155d7325c7ad6"
  },
  {
   "cell_type": "code",
   "source": [
    "train_data.head()"
   ],
   "metadata": {
    "colab": {
     "base_uri": "https://localhost:8080/",
     "height": 206
    },
    "id": "48b25f5eaef5ba56",
    "outputId": "e45a59b2-a80a-4773-a65c-b5cde5764205",
    "ExecuteTime": {
     "end_time": "2024-04-29T15:55:12.558356Z",
     "start_time": "2024-04-29T15:55:12.533358Z"
    }
   },
   "id": "48b25f5eaef5ba56",
   "outputs": [
    {
     "data": {
      "text/plain": [
       "   browser         os locale  user_id           location  \\\n",
       "0   Chrome     Debian  ur-PK        0      Russia/Moscow   \n",
       "1  Firefox  Windows 8  uk-UA        0       France/Paris   \n",
       "2   Safari      MacOS  fr-FR        0        Japan/Tokyo   \n",
       "3   Chrome  Windows 8  nl-NL        0   Australia/Sydney   \n",
       "4  Firefox     Ubuntu  ro-RO        0  USA/San Francisco   \n",
       "\n",
       "                                               sites      time       date  \n",
       "0  [(bing.net, 52), (live.com, 52), (twitter.com,...  04:12:00 2017-06-29  \n",
       "1  [(yahoo.com, 46), (baidu.com, 134), (wikimedia...  03:57:00 2016-03-23  \n",
       "2                                [(oracle.com, 335)]  05:26:00 2016-11-17  \n",
       "3  [(mail.google.com, 192), (slack.com, 88), (you...  00:05:00 2016-08-23  \n",
       "4  [(mail.google.com, 434), (toptal.com, 214), (o...  22:55:00 2016-07-23  "
      ],
      "text/html": [
       "<div>\n",
       "<style scoped>\n",
       "    .dataframe tbody tr th:only-of-type {\n",
       "        vertical-align: middle;\n",
       "    }\n",
       "\n",
       "    .dataframe tbody tr th {\n",
       "        vertical-align: top;\n",
       "    }\n",
       "\n",
       "    .dataframe thead th {\n",
       "        text-align: right;\n",
       "    }\n",
       "</style>\n",
       "<table border=\"1\" class=\"dataframe\">\n",
       "  <thead>\n",
       "    <tr style=\"text-align: right;\">\n",
       "      <th></th>\n",
       "      <th>browser</th>\n",
       "      <th>os</th>\n",
       "      <th>locale</th>\n",
       "      <th>user_id</th>\n",
       "      <th>location</th>\n",
       "      <th>sites</th>\n",
       "      <th>time</th>\n",
       "      <th>date</th>\n",
       "    </tr>\n",
       "  </thead>\n",
       "  <tbody>\n",
       "    <tr>\n",
       "      <th>0</th>\n",
       "      <td>Chrome</td>\n",
       "      <td>Debian</td>\n",
       "      <td>ur-PK</td>\n",
       "      <td>0</td>\n",
       "      <td>Russia/Moscow</td>\n",
       "      <td>[(bing.net, 52), (live.com, 52), (twitter.com,...</td>\n",
       "      <td>04:12:00</td>\n",
       "      <td>2017-06-29</td>\n",
       "    </tr>\n",
       "    <tr>\n",
       "      <th>1</th>\n",
       "      <td>Firefox</td>\n",
       "      <td>Windows 8</td>\n",
       "      <td>uk-UA</td>\n",
       "      <td>0</td>\n",
       "      <td>France/Paris</td>\n",
       "      <td>[(yahoo.com, 46), (baidu.com, 134), (wikimedia...</td>\n",
       "      <td>03:57:00</td>\n",
       "      <td>2016-03-23</td>\n",
       "    </tr>\n",
       "    <tr>\n",
       "      <th>2</th>\n",
       "      <td>Safari</td>\n",
       "      <td>MacOS</td>\n",
       "      <td>fr-FR</td>\n",
       "      <td>0</td>\n",
       "      <td>Japan/Tokyo</td>\n",
       "      <td>[(oracle.com, 335)]</td>\n",
       "      <td>05:26:00</td>\n",
       "      <td>2016-11-17</td>\n",
       "    </tr>\n",
       "    <tr>\n",
       "      <th>3</th>\n",
       "      <td>Chrome</td>\n",
       "      <td>Windows 8</td>\n",
       "      <td>nl-NL</td>\n",
       "      <td>0</td>\n",
       "      <td>Australia/Sydney</td>\n",
       "      <td>[(mail.google.com, 192), (slack.com, 88), (you...</td>\n",
       "      <td>00:05:00</td>\n",
       "      <td>2016-08-23</td>\n",
       "    </tr>\n",
       "    <tr>\n",
       "      <th>4</th>\n",
       "      <td>Firefox</td>\n",
       "      <td>Ubuntu</td>\n",
       "      <td>ro-RO</td>\n",
       "      <td>0</td>\n",
       "      <td>USA/San Francisco</td>\n",
       "      <td>[(mail.google.com, 434), (toptal.com, 214), (o...</td>\n",
       "      <td>22:55:00</td>\n",
       "      <td>2016-07-23</td>\n",
       "    </tr>\n",
       "  </tbody>\n",
       "</table>\n",
       "</div>"
      ]
     },
     "execution_count": 157,
     "metadata": {},
     "output_type": "execute_result"
    }
   ],
   "execution_count": 157
  },
  {
   "cell_type": "markdown",
   "source": [
    "First, removing columns that determined to be useless in EDA stage."
   ],
   "metadata": {
    "collapsed": false,
    "id": "95387721193d225f"
   },
   "id": "95387721193d225f"
  },
  {
   "cell_type": "code",
   "source": [
    "train_data = train_data.drop(columns=[\"sites\"])\n",
    "train_data.head()"
   ],
   "metadata": {
    "colab": {
     "base_uri": "https://localhost:8080/",
     "height": 206
    },
    "id": "6cUfuAbAmPxZ",
    "outputId": "b68e33b6-1336-4837-e921-5c8aba307198",
    "ExecuteTime": {
     "end_time": "2024-04-29T15:55:12.589354Z",
     "start_time": "2024-04-29T15:55:12.560360Z"
    }
   },
   "id": "6cUfuAbAmPxZ",
   "outputs": [
    {
     "data": {
      "text/plain": [
       "   browser         os locale  user_id           location      time       date\n",
       "0   Chrome     Debian  ur-PK        0      Russia/Moscow  04:12:00 2017-06-29\n",
       "1  Firefox  Windows 8  uk-UA        0       France/Paris  03:57:00 2016-03-23\n",
       "2   Safari      MacOS  fr-FR        0        Japan/Tokyo  05:26:00 2016-11-17\n",
       "3   Chrome  Windows 8  nl-NL        0   Australia/Sydney  00:05:00 2016-08-23\n",
       "4  Firefox     Ubuntu  ro-RO        0  USA/San Francisco  22:55:00 2016-07-23"
      ],
      "text/html": [
       "<div>\n",
       "<style scoped>\n",
       "    .dataframe tbody tr th:only-of-type {\n",
       "        vertical-align: middle;\n",
       "    }\n",
       "\n",
       "    .dataframe tbody tr th {\n",
       "        vertical-align: top;\n",
       "    }\n",
       "\n",
       "    .dataframe thead th {\n",
       "        text-align: right;\n",
       "    }\n",
       "</style>\n",
       "<table border=\"1\" class=\"dataframe\">\n",
       "  <thead>\n",
       "    <tr style=\"text-align: right;\">\n",
       "      <th></th>\n",
       "      <th>browser</th>\n",
       "      <th>os</th>\n",
       "      <th>locale</th>\n",
       "      <th>user_id</th>\n",
       "      <th>location</th>\n",
       "      <th>time</th>\n",
       "      <th>date</th>\n",
       "    </tr>\n",
       "  </thead>\n",
       "  <tbody>\n",
       "    <tr>\n",
       "      <th>0</th>\n",
       "      <td>Chrome</td>\n",
       "      <td>Debian</td>\n",
       "      <td>ur-PK</td>\n",
       "      <td>0</td>\n",
       "      <td>Russia/Moscow</td>\n",
       "      <td>04:12:00</td>\n",
       "      <td>2017-06-29</td>\n",
       "    </tr>\n",
       "    <tr>\n",
       "      <th>1</th>\n",
       "      <td>Firefox</td>\n",
       "      <td>Windows 8</td>\n",
       "      <td>uk-UA</td>\n",
       "      <td>0</td>\n",
       "      <td>France/Paris</td>\n",
       "      <td>03:57:00</td>\n",
       "      <td>2016-03-23</td>\n",
       "    </tr>\n",
       "    <tr>\n",
       "      <th>2</th>\n",
       "      <td>Safari</td>\n",
       "      <td>MacOS</td>\n",
       "      <td>fr-FR</td>\n",
       "      <td>0</td>\n",
       "      <td>Japan/Tokyo</td>\n",
       "      <td>05:26:00</td>\n",
       "      <td>2016-11-17</td>\n",
       "    </tr>\n",
       "    <tr>\n",
       "      <th>3</th>\n",
       "      <td>Chrome</td>\n",
       "      <td>Windows 8</td>\n",
       "      <td>nl-NL</td>\n",
       "      <td>0</td>\n",
       "      <td>Australia/Sydney</td>\n",
       "      <td>00:05:00</td>\n",
       "      <td>2016-08-23</td>\n",
       "    </tr>\n",
       "    <tr>\n",
       "      <th>4</th>\n",
       "      <td>Firefox</td>\n",
       "      <td>Ubuntu</td>\n",
       "      <td>ro-RO</td>\n",
       "      <td>0</td>\n",
       "      <td>USA/San Francisco</td>\n",
       "      <td>22:55:00</td>\n",
       "      <td>2016-07-23</td>\n",
       "    </tr>\n",
       "  </tbody>\n",
       "</table>\n",
       "</div>"
      ]
     },
     "execution_count": 158,
     "metadata": {},
     "output_type": "execute_result"
    }
   ],
   "execution_count": 158
  },
  {
   "cell_type": "markdown",
   "source": [
    "Getting the actual date and time in one cell"
   ],
   "metadata": {
    "id": "2lq47aGSmcBm"
   },
   "id": "2lq47aGSmcBm"
  },
  {
   "cell_type": "code",
   "source": [
    "def merge_date_time(date_time):\n",
    "  '''\n",
    "  Function to merge time and date in task1 dataset\n",
    "  @param date_time Series of values from two columns: date and time\n",
    "  @return actual_date datetime object that contains both vlues of time and date\n",
    "  '''\n",
    "  time, date = date_time.loc['time'], date_time.loc['date']\n",
    "  time_datetime_obj = datetime.strptime(time, f\"%H:%M:%S\")\n",
    "  h = time_datetime_obj.hour\n",
    "  m = time_datetime_obj.minute\n",
    "  s = time_datetime_obj.second\n",
    "  actual_date = datetime(year=date.year, month=date.month, day=date.day, hour=h, minute=m, second=s)\n",
    "  return actual_date"
   ],
   "metadata": {
    "id": "K1M1JR3QMYi8",
    "ExecuteTime": {
     "end_time": "2024-04-29T15:55:12.604350Z",
     "start_time": "2024-04-29T15:55:12.592355Z"
    }
   },
   "id": "K1M1JR3QMYi8",
   "outputs": [],
   "execution_count": 159
  },
  {
   "cell_type": "code",
   "source": [
    "timezone_from_location = {\n",
    "    'Russia/Moscow': 'Europe/Moscow',\n",
    "    'France/Paris': 'Europe/Paris',\n",
    "    'Japan/Tokyo': 'Asia/Tokyo',\n",
    "    'Australia/Sydney': 'Australia/Sydney',\n",
    "    'USA/San Francisco': 'America/Los_Angeles',  # San Francisco is in the Los Angeles time zone\n",
    "    'Canada/Vancouver': 'America/Vancouver',\n",
    "    'UK/London': 'Europe/London',\n",
    "    'Canada/Toronto': 'America/Toronto',\n",
    "    'Malaysia/Kuala Lumpur': 'Asia/Kuala_Lumpur',\n",
    "    'USA/Miami': 'America/New_York',  # Miami is in the New York time zone\n",
    "    'Italy/Rome': 'Europe/Rome',\n",
    "    'Spain/Madrid': 'Europe/Madrid',\n",
    "    'USA/Chicago': 'America/Chicago',\n",
    "    'Germany/Berlin': 'Europe/Berlin',\n",
    "    'China/Shanghai': 'Asia/Shanghai',\n",
    "    'India/Delhi': 'Asia/Kolkata',  # Delhi is in the Kolkata time zone\n",
    "    'Brazil/Rio de Janeiro': 'America/Sao_Paulo',  # Rio de Janeiro is in the Sao Paulo time zone\n",
    "    'Singapore/Singapore': 'Asia/Singapore',\n",
    "    'Netherlands/Amsterdam': 'Europe/Amsterdam',\n",
    "    'USA/New York': 'America/New_York',\n",
    "    'New Zealand/Auckland': 'Pacific/Auckland'\n",
    "}"
   ],
   "metadata": {
    "id": "RhgehsLDdx7I",
    "ExecuteTime": {
     "end_time": "2024-04-29T15:55:12.619360Z",
     "start_time": "2024-04-29T15:55:12.606351Z"
    }
   },
   "id": "RhgehsLDdx7I",
   "outputs": [],
   "execution_count": 160
  },
  {
   "cell_type": "code",
   "source": [
    "def localize(date_location):\n",
    "  \"\"\"\n",
    "  Time localization from UTC to a time in a given location\n",
    "  \"\"\"\n",
    "  date = date_location.loc[\"act_date\"]\n",
    "  location = date_location.loc[\"location\"]\n",
    "  timezone = timezone_from_location[location]\n",
    "  timezone = pytz.timezone(timezone)\n",
    "  date = date.replace(tzinfo=pytz.utc)\n",
    "  localized_date = date.astimezone(timezone)\n",
    "  return localized_date, location"
   ],
   "metadata": {
    "id": "M5ZZ4xfadb6n",
    "ExecuteTime": {
     "end_time": "2024-04-29T15:55:12.635354Z",
     "start_time": "2024-04-29T15:55:12.621353Z"
    }
   },
   "id": "M5ZZ4xfadb6n",
   "outputs": [],
   "execution_count": 161
  },
  {
   "cell_type": "code",
   "source": [
    "# getting full date and localize it\n",
    "train_data[\"act_date\"] = train_data[[\"date\", \"time\"]].apply(merge_date_time, axis=1, result_type=\"reduce\")\n",
    "train_data[[\"act_date\", \"location\"]] = train_data[[\"act_date\", \"location\"]].apply(localize, axis=1, result_type='broadcast')"
   ],
   "metadata": {
    "id": "-U4emlFJV3aI",
    "ExecuteTime": {
     "end_time": "2024-04-29T15:55:19.623741Z",
     "start_time": "2024-04-29T15:55:12.637360Z"
    }
   },
   "id": "-U4emlFJV3aI",
   "outputs": [],
   "execution_count": 162
  },
  {
   "cell_type": "code",
   "source": [
    "train_data.head()"
   ],
   "metadata": {
    "id": "57e12f7d60ecfefe",
    "colab": {
     "base_uri": "https://localhost:8080/",
     "height": 206
    },
    "outputId": "8b29c8c1-5379-4106-f0b7-64f963281c96",
    "ExecuteTime": {
     "end_time": "2024-04-29T15:55:19.654762Z",
     "start_time": "2024-04-29T15:55:19.625751Z"
    }
   },
   "id": "57e12f7d60ecfefe",
   "outputs": [
    {
     "data": {
      "text/plain": [
       "   browser         os locale  user_id           location      time       date  \\\n",
       "0   Chrome     Debian  ur-PK        0      Russia/Moscow  04:12:00 2017-06-29   \n",
       "1  Firefox  Windows 8  uk-UA        0       France/Paris  03:57:00 2016-03-23   \n",
       "2   Safari      MacOS  fr-FR        0        Japan/Tokyo  05:26:00 2016-11-17   \n",
       "3   Chrome  Windows 8  nl-NL        0   Australia/Sydney  00:05:00 2016-08-23   \n",
       "4  Firefox     Ubuntu  ro-RO        0  USA/San Francisco  22:55:00 2016-07-23   \n",
       "\n",
       "                    act_date  \n",
       "0  2017-06-29 07:12:00+03:00  \n",
       "1  2016-03-23 04:57:00+01:00  \n",
       "2  2016-11-17 14:26:00+09:00  \n",
       "3  2016-08-23 10:05:00+10:00  \n",
       "4  2016-07-23 15:55:00-07:00  "
      ],
      "text/html": [
       "<div>\n",
       "<style scoped>\n",
       "    .dataframe tbody tr th:only-of-type {\n",
       "        vertical-align: middle;\n",
       "    }\n",
       "\n",
       "    .dataframe tbody tr th {\n",
       "        vertical-align: top;\n",
       "    }\n",
       "\n",
       "    .dataframe thead th {\n",
       "        text-align: right;\n",
       "    }\n",
       "</style>\n",
       "<table border=\"1\" class=\"dataframe\">\n",
       "  <thead>\n",
       "    <tr style=\"text-align: right;\">\n",
       "      <th></th>\n",
       "      <th>browser</th>\n",
       "      <th>os</th>\n",
       "      <th>locale</th>\n",
       "      <th>user_id</th>\n",
       "      <th>location</th>\n",
       "      <th>time</th>\n",
       "      <th>date</th>\n",
       "      <th>act_date</th>\n",
       "    </tr>\n",
       "  </thead>\n",
       "  <tbody>\n",
       "    <tr>\n",
       "      <th>0</th>\n",
       "      <td>Chrome</td>\n",
       "      <td>Debian</td>\n",
       "      <td>ur-PK</td>\n",
       "      <td>0</td>\n",
       "      <td>Russia/Moscow</td>\n",
       "      <td>04:12:00</td>\n",
       "      <td>2017-06-29</td>\n",
       "      <td>2017-06-29 07:12:00+03:00</td>\n",
       "    </tr>\n",
       "    <tr>\n",
       "      <th>1</th>\n",
       "      <td>Firefox</td>\n",
       "      <td>Windows 8</td>\n",
       "      <td>uk-UA</td>\n",
       "      <td>0</td>\n",
       "      <td>France/Paris</td>\n",
       "      <td>03:57:00</td>\n",
       "      <td>2016-03-23</td>\n",
       "      <td>2016-03-23 04:57:00+01:00</td>\n",
       "    </tr>\n",
       "    <tr>\n",
       "      <th>2</th>\n",
       "      <td>Safari</td>\n",
       "      <td>MacOS</td>\n",
       "      <td>fr-FR</td>\n",
       "      <td>0</td>\n",
       "      <td>Japan/Tokyo</td>\n",
       "      <td>05:26:00</td>\n",
       "      <td>2016-11-17</td>\n",
       "      <td>2016-11-17 14:26:00+09:00</td>\n",
       "    </tr>\n",
       "    <tr>\n",
       "      <th>3</th>\n",
       "      <td>Chrome</td>\n",
       "      <td>Windows 8</td>\n",
       "      <td>nl-NL</td>\n",
       "      <td>0</td>\n",
       "      <td>Australia/Sydney</td>\n",
       "      <td>00:05:00</td>\n",
       "      <td>2016-08-23</td>\n",
       "      <td>2016-08-23 10:05:00+10:00</td>\n",
       "    </tr>\n",
       "    <tr>\n",
       "      <th>4</th>\n",
       "      <td>Firefox</td>\n",
       "      <td>Ubuntu</td>\n",
       "      <td>ro-RO</td>\n",
       "      <td>0</td>\n",
       "      <td>USA/San Francisco</td>\n",
       "      <td>22:55:00</td>\n",
       "      <td>2016-07-23</td>\n",
       "      <td>2016-07-23 15:55:00-07:00</td>\n",
       "    </tr>\n",
       "  </tbody>\n",
       "</table>\n",
       "</div>"
      ]
     },
     "execution_count": 163,
     "metadata": {},
     "output_type": "execute_result"
    }
   ],
   "execution_count": 163
  },
  {
   "cell_type": "markdown",
   "source": [
    "Getting the valuable features from actual date"
   ],
   "metadata": {
    "id": "kn2GvAN3mhRz"
   },
   "id": "kn2GvAN3mhRz"
  },
  {
   "cell_type": "code",
   "source": [
    "# getting features as month, day, and hour from localized date\n",
    "train_data[\"month\"] = train_data[\"act_date\"].apply(get_month_from_date)\n",
    "train_data[\"day\"] = train_data[\"act_date\"].apply(lambda x: x.day)\n",
    "train_data[\"hour\"] = train_data[\"act_date\"].apply(lambda x: x.hour+x.minute/60)\n",
    "train_data.head()"
   ],
   "metadata": {
    "colab": {
     "base_uri": "https://localhost:8080/",
     "height": 206
    },
    "id": "a5c0c35309069db4",
    "outputId": "dda7c04d-f83b-44e0-d243-b47a45181c7c",
    "ExecuteTime": {
     "end_time": "2024-04-29T15:55:19.718760Z",
     "start_time": "2024-04-29T15:55:19.657747Z"
    }
   },
   "id": "a5c0c35309069db4",
   "outputs": [
    {
     "data": {
      "text/plain": [
       "   browser         os locale  user_id           location      time       date  \\\n",
       "0   Chrome     Debian  ur-PK        0      Russia/Moscow  04:12:00 2017-06-29   \n",
       "1  Firefox  Windows 8  uk-UA        0       France/Paris  03:57:00 2016-03-23   \n",
       "2   Safari      MacOS  fr-FR        0        Japan/Tokyo  05:26:00 2016-11-17   \n",
       "3   Chrome  Windows 8  nl-NL        0   Australia/Sydney  00:05:00 2016-08-23   \n",
       "4  Firefox     Ubuntu  ro-RO        0  USA/San Francisco  22:55:00 2016-07-23   \n",
       "\n",
       "                    act_date  month  day       hour  \n",
       "0  2017-06-29 07:12:00+03:00      6   29   7.200000  \n",
       "1  2016-03-23 04:57:00+01:00      3   23   4.950000  \n",
       "2  2016-11-17 14:26:00+09:00     11   17  14.433333  \n",
       "3  2016-08-23 10:05:00+10:00      8   23  10.083333  \n",
       "4  2016-07-23 15:55:00-07:00      7   23  15.916667  "
      ],
      "text/html": [
       "<div>\n",
       "<style scoped>\n",
       "    .dataframe tbody tr th:only-of-type {\n",
       "        vertical-align: middle;\n",
       "    }\n",
       "\n",
       "    .dataframe tbody tr th {\n",
       "        vertical-align: top;\n",
       "    }\n",
       "\n",
       "    .dataframe thead th {\n",
       "        text-align: right;\n",
       "    }\n",
       "</style>\n",
       "<table border=\"1\" class=\"dataframe\">\n",
       "  <thead>\n",
       "    <tr style=\"text-align: right;\">\n",
       "      <th></th>\n",
       "      <th>browser</th>\n",
       "      <th>os</th>\n",
       "      <th>locale</th>\n",
       "      <th>user_id</th>\n",
       "      <th>location</th>\n",
       "      <th>time</th>\n",
       "      <th>date</th>\n",
       "      <th>act_date</th>\n",
       "      <th>month</th>\n",
       "      <th>day</th>\n",
       "      <th>hour</th>\n",
       "    </tr>\n",
       "  </thead>\n",
       "  <tbody>\n",
       "    <tr>\n",
       "      <th>0</th>\n",
       "      <td>Chrome</td>\n",
       "      <td>Debian</td>\n",
       "      <td>ur-PK</td>\n",
       "      <td>0</td>\n",
       "      <td>Russia/Moscow</td>\n",
       "      <td>04:12:00</td>\n",
       "      <td>2017-06-29</td>\n",
       "      <td>2017-06-29 07:12:00+03:00</td>\n",
       "      <td>6</td>\n",
       "      <td>29</td>\n",
       "      <td>7.200000</td>\n",
       "    </tr>\n",
       "    <tr>\n",
       "      <th>1</th>\n",
       "      <td>Firefox</td>\n",
       "      <td>Windows 8</td>\n",
       "      <td>uk-UA</td>\n",
       "      <td>0</td>\n",
       "      <td>France/Paris</td>\n",
       "      <td>03:57:00</td>\n",
       "      <td>2016-03-23</td>\n",
       "      <td>2016-03-23 04:57:00+01:00</td>\n",
       "      <td>3</td>\n",
       "      <td>23</td>\n",
       "      <td>4.950000</td>\n",
       "    </tr>\n",
       "    <tr>\n",
       "      <th>2</th>\n",
       "      <td>Safari</td>\n",
       "      <td>MacOS</td>\n",
       "      <td>fr-FR</td>\n",
       "      <td>0</td>\n",
       "      <td>Japan/Tokyo</td>\n",
       "      <td>05:26:00</td>\n",
       "      <td>2016-11-17</td>\n",
       "      <td>2016-11-17 14:26:00+09:00</td>\n",
       "      <td>11</td>\n",
       "      <td>17</td>\n",
       "      <td>14.433333</td>\n",
       "    </tr>\n",
       "    <tr>\n",
       "      <th>3</th>\n",
       "      <td>Chrome</td>\n",
       "      <td>Windows 8</td>\n",
       "      <td>nl-NL</td>\n",
       "      <td>0</td>\n",
       "      <td>Australia/Sydney</td>\n",
       "      <td>00:05:00</td>\n",
       "      <td>2016-08-23</td>\n",
       "      <td>2016-08-23 10:05:00+10:00</td>\n",
       "      <td>8</td>\n",
       "      <td>23</td>\n",
       "      <td>10.083333</td>\n",
       "    </tr>\n",
       "    <tr>\n",
       "      <th>4</th>\n",
       "      <td>Firefox</td>\n",
       "      <td>Ubuntu</td>\n",
       "      <td>ro-RO</td>\n",
       "      <td>0</td>\n",
       "      <td>USA/San Francisco</td>\n",
       "      <td>22:55:00</td>\n",
       "      <td>2016-07-23</td>\n",
       "      <td>2016-07-23 15:55:00-07:00</td>\n",
       "      <td>7</td>\n",
       "      <td>23</td>\n",
       "      <td>15.916667</td>\n",
       "    </tr>\n",
       "  </tbody>\n",
       "</table>\n",
       "</div>"
      ]
     },
     "execution_count": 164,
     "metadata": {},
     "output_type": "execute_result"
    }
   ],
   "execution_count": 164
  },
  {
   "cell_type": "markdown",
   "source": [
    "Now I can get rid of 'time_zone' and 'act_date' since I will use 'time' in minutes past 00:00 and month number."
   ],
   "metadata": {
    "collapsed": false,
    "id": "4ed629b823b61de0"
   },
   "id": "4ed629b823b61de0"
  },
  {
   "cell_type": "code",
   "source": [
    "train_data = train_data.drop(columns=[\"date\", \"time\", \"act_date\"])\n",
    "train_data.head()"
   ],
   "metadata": {
    "id": "6e57fb0c2c4e6a24",
    "colab": {
     "base_uri": "https://localhost:8080/",
     "height": 206
    },
    "outputId": "afdd1b90-8242-4f38-883c-429d1bbe5670",
    "ExecuteTime": {
     "end_time": "2024-04-29T15:55:19.749747Z",
     "start_time": "2024-04-29T15:55:19.720749Z"
    }
   },
   "id": "6e57fb0c2c4e6a24",
   "outputs": [
    {
     "data": {
      "text/plain": [
       "   browser         os locale  user_id           location  month  day  \\\n",
       "0   Chrome     Debian  ur-PK        0      Russia/Moscow      6   29   \n",
       "1  Firefox  Windows 8  uk-UA        0       France/Paris      3   23   \n",
       "2   Safari      MacOS  fr-FR        0        Japan/Tokyo     11   17   \n",
       "3   Chrome  Windows 8  nl-NL        0   Australia/Sydney      8   23   \n",
       "4  Firefox     Ubuntu  ro-RO        0  USA/San Francisco      7   23   \n",
       "\n",
       "        hour  \n",
       "0   7.200000  \n",
       "1   4.950000  \n",
       "2  14.433333  \n",
       "3  10.083333  \n",
       "4  15.916667  "
      ],
      "text/html": [
       "<div>\n",
       "<style scoped>\n",
       "    .dataframe tbody tr th:only-of-type {\n",
       "        vertical-align: middle;\n",
       "    }\n",
       "\n",
       "    .dataframe tbody tr th {\n",
       "        vertical-align: top;\n",
       "    }\n",
       "\n",
       "    .dataframe thead th {\n",
       "        text-align: right;\n",
       "    }\n",
       "</style>\n",
       "<table border=\"1\" class=\"dataframe\">\n",
       "  <thead>\n",
       "    <tr style=\"text-align: right;\">\n",
       "      <th></th>\n",
       "      <th>browser</th>\n",
       "      <th>os</th>\n",
       "      <th>locale</th>\n",
       "      <th>user_id</th>\n",
       "      <th>location</th>\n",
       "      <th>month</th>\n",
       "      <th>day</th>\n",
       "      <th>hour</th>\n",
       "    </tr>\n",
       "  </thead>\n",
       "  <tbody>\n",
       "    <tr>\n",
       "      <th>0</th>\n",
       "      <td>Chrome</td>\n",
       "      <td>Debian</td>\n",
       "      <td>ur-PK</td>\n",
       "      <td>0</td>\n",
       "      <td>Russia/Moscow</td>\n",
       "      <td>6</td>\n",
       "      <td>29</td>\n",
       "      <td>7.200000</td>\n",
       "    </tr>\n",
       "    <tr>\n",
       "      <th>1</th>\n",
       "      <td>Firefox</td>\n",
       "      <td>Windows 8</td>\n",
       "      <td>uk-UA</td>\n",
       "      <td>0</td>\n",
       "      <td>France/Paris</td>\n",
       "      <td>3</td>\n",
       "      <td>23</td>\n",
       "      <td>4.950000</td>\n",
       "    </tr>\n",
       "    <tr>\n",
       "      <th>2</th>\n",
       "      <td>Safari</td>\n",
       "      <td>MacOS</td>\n",
       "      <td>fr-FR</td>\n",
       "      <td>0</td>\n",
       "      <td>Japan/Tokyo</td>\n",
       "      <td>11</td>\n",
       "      <td>17</td>\n",
       "      <td>14.433333</td>\n",
       "    </tr>\n",
       "    <tr>\n",
       "      <th>3</th>\n",
       "      <td>Chrome</td>\n",
       "      <td>Windows 8</td>\n",
       "      <td>nl-NL</td>\n",
       "      <td>0</td>\n",
       "      <td>Australia/Sydney</td>\n",
       "      <td>8</td>\n",
       "      <td>23</td>\n",
       "      <td>10.083333</td>\n",
       "    </tr>\n",
       "    <tr>\n",
       "      <th>4</th>\n",
       "      <td>Firefox</td>\n",
       "      <td>Ubuntu</td>\n",
       "      <td>ro-RO</td>\n",
       "      <td>0</td>\n",
       "      <td>USA/San Francisco</td>\n",
       "      <td>7</td>\n",
       "      <td>23</td>\n",
       "      <td>15.916667</td>\n",
       "    </tr>\n",
       "  </tbody>\n",
       "</table>\n",
       "</div>"
      ]
     },
     "execution_count": 165,
     "metadata": {},
     "output_type": "execute_result"
    }
   ],
   "execution_count": 165
  },
  {
   "cell_type": "markdown",
   "source": [
    "Encoding hours, day, and month in cos, sin notation"
   ],
   "metadata": {
    "id": "_rZpZtK8nKG7"
   },
   "id": "_rZpZtK8nKG7"
  },
  {
   "cell_type": "code",
   "source": [
    "# encoding non categorical features, remembering number of new non categorical features\n",
    "non_cat_features_number = 6\n",
    "train_data['cos_h'] = np.cos( 2* np.pi*train_data['hour']/24)\n",
    "train_data['sin_h'] = np.sin( 2* np.pi*train_data['hour']/24)\n",
    "train_data['cos_month'] = np.cos( 2* np.pi*train_data['month']/12)\n",
    "train_data['sin_month'] = np.sin( 2* np.pi*train_data['month']/12)\n",
    "train_data['cos_day'] = np.cos( 2* np.pi*train_data['day']/31)\n",
    "train_data['sin_day'] = np.sin( 2* np.pi*train_data['day']/31)"
   ],
   "metadata": {
    "id": "25e0df1e7e29b2d1",
    "ExecuteTime": {
     "end_time": "2024-04-29T15:55:19.780752Z",
     "start_time": "2024-04-29T15:55:19.751754Z"
    }
   },
   "id": "25e0df1e7e29b2d1",
   "outputs": [],
   "execution_count": 166
  },
  {
   "cell_type": "code",
   "source": [
    "#removing old features that I previously encoded\n",
    "train_data = train_data.drop(columns=[\"hour\", \"month\", \"day\"])"
   ],
   "metadata": {
    "id": "92e4c6c392293e86",
    "ExecuteTime": {
     "end_time": "2024-04-29T15:55:19.811759Z",
     "start_time": "2024-04-29T15:55:19.782752Z"
    }
   },
   "id": "92e4c6c392293e86",
   "outputs": [],
   "execution_count": 167
  },
  {
   "cell_type": "code",
   "source": [
    "train_data.head()"
   ],
   "metadata": {
    "colab": {
     "base_uri": "https://localhost:8080/",
     "height": 206
    },
    "id": "P1-ecsXHdzm6",
    "outputId": "6855337a-b6c0-49bc-8349-c55f7136c506",
    "ExecuteTime": {
     "end_time": "2024-04-29T15:55:19.842741Z",
     "start_time": "2024-04-29T15:55:19.815754Z"
    }
   },
   "id": "P1-ecsXHdzm6",
   "outputs": [
    {
     "data": {
      "text/plain": [
       "   browser         os locale  user_id           location     cos_h     sin_h  \\\n",
       "0   Chrome     Debian  ur-PK        0      Russia/Moscow -0.309017  0.951057   \n",
       "1  Firefox  Windows 8  uk-UA        0       France/Paris  0.271440  0.962455   \n",
       "2   Safari      MacOS  fr-FR        0        Japan/Tokyo -0.803857 -0.594823   \n",
       "3   Chrome  Windows 8  nl-NL        0   Australia/Sydney -0.876727  0.480989   \n",
       "4  Firefox     Ubuntu  ro-RO        0  USA/San Francisco -0.518773 -0.854912   \n",
       "\n",
       "      cos_month     sin_month   cos_day   sin_day  \n",
       "0 -1.000000e+00  1.224647e-16  0.918958 -0.394356  \n",
       "1  6.123234e-17  1.000000e+00 -0.050649 -0.998717  \n",
       "2  8.660254e-01 -5.000000e-01 -0.954139 -0.299363  \n",
       "3 -5.000000e-01 -8.660254e-01 -0.050649 -0.998717  \n",
       "4 -8.660254e-01 -5.000000e-01 -0.050649 -0.998717  "
      ],
      "text/html": [
       "<div>\n",
       "<style scoped>\n",
       "    .dataframe tbody tr th:only-of-type {\n",
       "        vertical-align: middle;\n",
       "    }\n",
       "\n",
       "    .dataframe tbody tr th {\n",
       "        vertical-align: top;\n",
       "    }\n",
       "\n",
       "    .dataframe thead th {\n",
       "        text-align: right;\n",
       "    }\n",
       "</style>\n",
       "<table border=\"1\" class=\"dataframe\">\n",
       "  <thead>\n",
       "    <tr style=\"text-align: right;\">\n",
       "      <th></th>\n",
       "      <th>browser</th>\n",
       "      <th>os</th>\n",
       "      <th>locale</th>\n",
       "      <th>user_id</th>\n",
       "      <th>location</th>\n",
       "      <th>cos_h</th>\n",
       "      <th>sin_h</th>\n",
       "      <th>cos_month</th>\n",
       "      <th>sin_month</th>\n",
       "      <th>cos_day</th>\n",
       "      <th>sin_day</th>\n",
       "    </tr>\n",
       "  </thead>\n",
       "  <tbody>\n",
       "    <tr>\n",
       "      <th>0</th>\n",
       "      <td>Chrome</td>\n",
       "      <td>Debian</td>\n",
       "      <td>ur-PK</td>\n",
       "      <td>0</td>\n",
       "      <td>Russia/Moscow</td>\n",
       "      <td>-0.309017</td>\n",
       "      <td>0.951057</td>\n",
       "      <td>-1.000000e+00</td>\n",
       "      <td>1.224647e-16</td>\n",
       "      <td>0.918958</td>\n",
       "      <td>-0.394356</td>\n",
       "    </tr>\n",
       "    <tr>\n",
       "      <th>1</th>\n",
       "      <td>Firefox</td>\n",
       "      <td>Windows 8</td>\n",
       "      <td>uk-UA</td>\n",
       "      <td>0</td>\n",
       "      <td>France/Paris</td>\n",
       "      <td>0.271440</td>\n",
       "      <td>0.962455</td>\n",
       "      <td>6.123234e-17</td>\n",
       "      <td>1.000000e+00</td>\n",
       "      <td>-0.050649</td>\n",
       "      <td>-0.998717</td>\n",
       "    </tr>\n",
       "    <tr>\n",
       "      <th>2</th>\n",
       "      <td>Safari</td>\n",
       "      <td>MacOS</td>\n",
       "      <td>fr-FR</td>\n",
       "      <td>0</td>\n",
       "      <td>Japan/Tokyo</td>\n",
       "      <td>-0.803857</td>\n",
       "      <td>-0.594823</td>\n",
       "      <td>8.660254e-01</td>\n",
       "      <td>-5.000000e-01</td>\n",
       "      <td>-0.954139</td>\n",
       "      <td>-0.299363</td>\n",
       "    </tr>\n",
       "    <tr>\n",
       "      <th>3</th>\n",
       "      <td>Chrome</td>\n",
       "      <td>Windows 8</td>\n",
       "      <td>nl-NL</td>\n",
       "      <td>0</td>\n",
       "      <td>Australia/Sydney</td>\n",
       "      <td>-0.876727</td>\n",
       "      <td>0.480989</td>\n",
       "      <td>-5.000000e-01</td>\n",
       "      <td>-8.660254e-01</td>\n",
       "      <td>-0.050649</td>\n",
       "      <td>-0.998717</td>\n",
       "    </tr>\n",
       "    <tr>\n",
       "      <th>4</th>\n",
       "      <td>Firefox</td>\n",
       "      <td>Ubuntu</td>\n",
       "      <td>ro-RO</td>\n",
       "      <td>0</td>\n",
       "      <td>USA/San Francisco</td>\n",
       "      <td>-0.518773</td>\n",
       "      <td>-0.854912</td>\n",
       "      <td>-8.660254e-01</td>\n",
       "      <td>-5.000000e-01</td>\n",
       "      <td>-0.050649</td>\n",
       "      <td>-0.998717</td>\n",
       "    </tr>\n",
       "  </tbody>\n",
       "</table>\n",
       "</div>"
      ]
     },
     "execution_count": 168,
     "metadata": {},
     "output_type": "execute_result"
    }
   ],
   "execution_count": 168
  },
  {
   "cell_type": "code",
   "source": [
    "#separating features from targets\n",
    "X, y = train_data.drop(columns=[\"user_id\"]), train_data[\"user_id\"]"
   ],
   "metadata": {
    "id": "a442c3e9028b5d1a",
    "ExecuteTime": {
     "end_time": "2024-04-29T15:55:19.874752Z",
     "start_time": "2024-04-29T15:55:19.845752Z"
    }
   },
   "id": "a442c3e9028b5d1a",
   "outputs": [],
   "execution_count": 169
  },
  {
   "cell_type": "code",
   "source": [
    "# making new Series object to stratify on in train_test_split, used features ('os', 'browser', 'location')\n",
    "for_stratify = X['location'].astype(str)"
   ],
   "metadata": {
    "id": "758c0c43e89c40fb",
    "ExecuteTime": {
     "end_time": "2024-04-29T15:55:19.906748Z",
     "start_time": "2024-04-29T15:55:19.878761Z"
    }
   },
   "id": "758c0c43e89c40fb",
   "outputs": [],
   "execution_count": 170
  },
  {
   "cell_type": "code",
   "source": [
    "# encoding categorical features with OneHotEncoder\n",
    "ohe = OneHotEncoder(sparse_output=False)\n",
    "ohe.fit(X.iloc[:, :-non_cat_features_number])\n",
    "transformed = pd.DataFrame(ohe.transform(X.iloc[:, :-non_cat_features_number]), columns=ohe.get_feature_names_out(X.iloc[:, :-non_cat_features_number].columns))\n",
    "\n",
    "transformed = pd.concat([transformed, X.iloc[:, -non_cat_features_number:]], axis='columns')\n",
    "feature_columns = transformed.columns\n",
    "transformed.head()"
   ],
   "metadata": {
    "colab": {
     "base_uri": "https://localhost:8080/",
     "height": 325
    },
    "id": "3e07abbb0fa65f2e",
    "outputId": "f1edb388-f4bb-4cee-d95a-09d6cb18a402",
    "ExecuteTime": {
     "end_time": "2024-04-29T15:55:20.154750Z",
     "start_time": "2024-04-29T15:55:19.908746Z"
    }
   },
   "id": "3e07abbb0fa65f2e",
   "outputs": [
    {
     "data": {
      "text/plain": [
       "   browser_Chrome  browser_Firefox  browser_Internet Explorer  browser_Safari  \\\n",
       "0             1.0              0.0                        0.0             0.0   \n",
       "1             0.0              1.0                        0.0             0.0   \n",
       "2             0.0              0.0                        0.0             1.0   \n",
       "3             1.0              0.0                        0.0             0.0   \n",
       "4             0.0              1.0                        0.0             0.0   \n",
       "\n",
       "   os_Debian  os_MacOS  os_Ubuntu  os_Windows 10  os_Windows 7  os_Windows 8  \\\n",
       "0        1.0       0.0        0.0            0.0           0.0           0.0   \n",
       "1        0.0       0.0        0.0            0.0           0.0           1.0   \n",
       "2        0.0       1.0        0.0            0.0           0.0           0.0   \n",
       "3        0.0       0.0        0.0            0.0           0.0           1.0   \n",
       "4        0.0       0.0        1.0            0.0           0.0           0.0   \n",
       "\n",
       "   ...  location_USA/Chicago  location_USA/Miami  location_USA/New York  \\\n",
       "0  ...                   0.0                 0.0                    0.0   \n",
       "1  ...                   0.0                 0.0                    0.0   \n",
       "2  ...                   0.0                 0.0                    0.0   \n",
       "3  ...                   0.0                 0.0                    0.0   \n",
       "4  ...                   0.0                 0.0                    0.0   \n",
       "\n",
       "   location_USA/San Francisco     cos_h     sin_h     cos_month     sin_month  \\\n",
       "0                         0.0 -0.309017  0.951057 -1.000000e+00  1.224647e-16   \n",
       "1                         0.0  0.271440  0.962455  6.123234e-17  1.000000e+00   \n",
       "2                         0.0 -0.803857 -0.594823  8.660254e-01 -5.000000e-01   \n",
       "3                         0.0 -0.876727  0.480989 -5.000000e-01 -8.660254e-01   \n",
       "4                         1.0 -0.518773 -0.854912 -8.660254e-01 -5.000000e-01   \n",
       "\n",
       "    cos_day   sin_day  \n",
       "0  0.918958 -0.394356  \n",
       "1 -0.050649 -0.998717  \n",
       "2 -0.954139 -0.299363  \n",
       "3 -0.050649 -0.998717  \n",
       "4 -0.050649 -0.998717  \n",
       "\n",
       "[5 rows x 62 columns]"
      ],
      "text/html": [
       "<div>\n",
       "<style scoped>\n",
       "    .dataframe tbody tr th:only-of-type {\n",
       "        vertical-align: middle;\n",
       "    }\n",
       "\n",
       "    .dataframe tbody tr th {\n",
       "        vertical-align: top;\n",
       "    }\n",
       "\n",
       "    .dataframe thead th {\n",
       "        text-align: right;\n",
       "    }\n",
       "</style>\n",
       "<table border=\"1\" class=\"dataframe\">\n",
       "  <thead>\n",
       "    <tr style=\"text-align: right;\">\n",
       "      <th></th>\n",
       "      <th>browser_Chrome</th>\n",
       "      <th>browser_Firefox</th>\n",
       "      <th>browser_Internet Explorer</th>\n",
       "      <th>browser_Safari</th>\n",
       "      <th>os_Debian</th>\n",
       "      <th>os_MacOS</th>\n",
       "      <th>os_Ubuntu</th>\n",
       "      <th>os_Windows 10</th>\n",
       "      <th>os_Windows 7</th>\n",
       "      <th>os_Windows 8</th>\n",
       "      <th>...</th>\n",
       "      <th>location_USA/Chicago</th>\n",
       "      <th>location_USA/Miami</th>\n",
       "      <th>location_USA/New York</th>\n",
       "      <th>location_USA/San Francisco</th>\n",
       "      <th>cos_h</th>\n",
       "      <th>sin_h</th>\n",
       "      <th>cos_month</th>\n",
       "      <th>sin_month</th>\n",
       "      <th>cos_day</th>\n",
       "      <th>sin_day</th>\n",
       "    </tr>\n",
       "  </thead>\n",
       "  <tbody>\n",
       "    <tr>\n",
       "      <th>0</th>\n",
       "      <td>1.0</td>\n",
       "      <td>0.0</td>\n",
       "      <td>0.0</td>\n",
       "      <td>0.0</td>\n",
       "      <td>1.0</td>\n",
       "      <td>0.0</td>\n",
       "      <td>0.0</td>\n",
       "      <td>0.0</td>\n",
       "      <td>0.0</td>\n",
       "      <td>0.0</td>\n",
       "      <td>...</td>\n",
       "      <td>0.0</td>\n",
       "      <td>0.0</td>\n",
       "      <td>0.0</td>\n",
       "      <td>0.0</td>\n",
       "      <td>-0.309017</td>\n",
       "      <td>0.951057</td>\n",
       "      <td>-1.000000e+00</td>\n",
       "      <td>1.224647e-16</td>\n",
       "      <td>0.918958</td>\n",
       "      <td>-0.394356</td>\n",
       "    </tr>\n",
       "    <tr>\n",
       "      <th>1</th>\n",
       "      <td>0.0</td>\n",
       "      <td>1.0</td>\n",
       "      <td>0.0</td>\n",
       "      <td>0.0</td>\n",
       "      <td>0.0</td>\n",
       "      <td>0.0</td>\n",
       "      <td>0.0</td>\n",
       "      <td>0.0</td>\n",
       "      <td>0.0</td>\n",
       "      <td>1.0</td>\n",
       "      <td>...</td>\n",
       "      <td>0.0</td>\n",
       "      <td>0.0</td>\n",
       "      <td>0.0</td>\n",
       "      <td>0.0</td>\n",
       "      <td>0.271440</td>\n",
       "      <td>0.962455</td>\n",
       "      <td>6.123234e-17</td>\n",
       "      <td>1.000000e+00</td>\n",
       "      <td>-0.050649</td>\n",
       "      <td>-0.998717</td>\n",
       "    </tr>\n",
       "    <tr>\n",
       "      <th>2</th>\n",
       "      <td>0.0</td>\n",
       "      <td>0.0</td>\n",
       "      <td>0.0</td>\n",
       "      <td>1.0</td>\n",
       "      <td>0.0</td>\n",
       "      <td>1.0</td>\n",
       "      <td>0.0</td>\n",
       "      <td>0.0</td>\n",
       "      <td>0.0</td>\n",
       "      <td>0.0</td>\n",
       "      <td>...</td>\n",
       "      <td>0.0</td>\n",
       "      <td>0.0</td>\n",
       "      <td>0.0</td>\n",
       "      <td>0.0</td>\n",
       "      <td>-0.803857</td>\n",
       "      <td>-0.594823</td>\n",
       "      <td>8.660254e-01</td>\n",
       "      <td>-5.000000e-01</td>\n",
       "      <td>-0.954139</td>\n",
       "      <td>-0.299363</td>\n",
       "    </tr>\n",
       "    <tr>\n",
       "      <th>3</th>\n",
       "      <td>1.0</td>\n",
       "      <td>0.0</td>\n",
       "      <td>0.0</td>\n",
       "      <td>0.0</td>\n",
       "      <td>0.0</td>\n",
       "      <td>0.0</td>\n",
       "      <td>0.0</td>\n",
       "      <td>0.0</td>\n",
       "      <td>0.0</td>\n",
       "      <td>1.0</td>\n",
       "      <td>...</td>\n",
       "      <td>0.0</td>\n",
       "      <td>0.0</td>\n",
       "      <td>0.0</td>\n",
       "      <td>0.0</td>\n",
       "      <td>-0.876727</td>\n",
       "      <td>0.480989</td>\n",
       "      <td>-5.000000e-01</td>\n",
       "      <td>-8.660254e-01</td>\n",
       "      <td>-0.050649</td>\n",
       "      <td>-0.998717</td>\n",
       "    </tr>\n",
       "    <tr>\n",
       "      <th>4</th>\n",
       "      <td>0.0</td>\n",
       "      <td>1.0</td>\n",
       "      <td>0.0</td>\n",
       "      <td>0.0</td>\n",
       "      <td>0.0</td>\n",
       "      <td>0.0</td>\n",
       "      <td>1.0</td>\n",
       "      <td>0.0</td>\n",
       "      <td>0.0</td>\n",
       "      <td>0.0</td>\n",
       "      <td>...</td>\n",
       "      <td>0.0</td>\n",
       "      <td>0.0</td>\n",
       "      <td>0.0</td>\n",
       "      <td>1.0</td>\n",
       "      <td>-0.518773</td>\n",
       "      <td>-0.854912</td>\n",
       "      <td>-8.660254e-01</td>\n",
       "      <td>-5.000000e-01</td>\n",
       "      <td>-0.050649</td>\n",
       "      <td>-0.998717</td>\n",
       "    </tr>\n",
       "  </tbody>\n",
       "</table>\n",
       "<p>5 rows × 62 columns</p>\n",
       "</div>"
      ]
     },
     "execution_count": 171,
     "metadata": {},
     "output_type": "execute_result"
    }
   ],
   "execution_count": 171
  },
  {
   "metadata": {
    "id": "b627eb214af984fb",
    "ExecuteTime": {
     "end_time": "2024-04-29T15:55:20.217745Z",
     "start_time": "2024-04-29T15:55:20.156745Z"
    }
   },
   "cell_type": "code",
   "source": [
    "X_train, X_test, y_train, y_test = train_test_split(transformed, y, test_size=0.2, random_state=42, stratify=y)"
   ],
   "id": "b627eb214af984fb",
   "outputs": [],
   "execution_count": 172
  },
  {
   "cell_type": "code",
   "source": [
    "# the sets have same proportions of classes\n",
    "print(y_train.sum()/y_train.shape[0])\n",
    "print(y_test.sum()/y_test.shape[0])"
   ],
   "metadata": {
    "colab": {
     "base_uri": "https://localhost:8080/"
    },
    "id": "b8f3025322870015",
    "outputId": "e6b70dc7-fb26-4ec1-c0ea-bb52ff72e10f",
    "ExecuteTime": {
     "end_time": "2024-04-29T15:55:20.232750Z",
     "start_time": "2024-04-29T15:55:20.220753Z"
    }
   },
   "id": "b8f3025322870015",
   "outputs": [
    {
     "name": "stdout",
     "output_type": "stream",
     "text": [
      "0.005\n",
      "0.005\n"
     ]
    }
   ],
   "execution_count": 173
  },
  {
   "cell_type": "code",
   "source": [
    "# since dataset is not balanced adding class weights for ANN training\n",
    "class_weights = np.array([4, 15])\n",
    "class_weights = torch.tensor(class_weights, dtype=torch.float32)"
   ],
   "metadata": {
    "id": "vAov-BLmiU2b",
    "ExecuteTime": {
     "end_time": "2024-04-29T15:55:20.263745Z",
     "start_time": "2024-04-29T15:55:20.234753Z"
    }
   },
   "id": "vAov-BLmiU2b",
   "outputs": [],
   "execution_count": 174
  },
  {
   "cell_type": "code",
   "source": [
    "# converting sets to torch.tensor\n",
    "X_train = X_train.astype('float32')\n",
    "X_test = X_test.astype('float32')\n",
    "y_train = y_train.astype('int64')\n",
    "y_test = y_test.astype('int64')\n",
    "X_train, X_test, y_train, y_test = map(torch.tensor, [X_train.values, X_test.values, y_train.values, y_test.values])"
   ],
   "metadata": {
    "id": "e46319b7605a2650",
    "ExecuteTime": {
     "end_time": "2024-04-29T15:55:20.327749Z",
     "start_time": "2024-04-29T15:55:20.266749Z"
    }
   },
   "id": "e46319b7605a2650",
   "outputs": [],
   "execution_count": 175
  },
  {
   "cell_type": "code",
   "source": [
    "class FFANN(nn.Module):\n",
    "  \"\"\"\n",
    "  Feed Forward ANN class for task 1\n",
    "  \"\"\"\n",
    "  def __init__(self):\n",
    "      super(FFANN, self).__init__()\n",
    "      self.linear0 = nn.Linear(56+non_cat_features_number, 80)\n",
    "      self.activation0 = nn.ReLU()\n",
    "      self.linear1 = nn.Linear(80, 40)\n",
    "      self.activation1 = nn.ReLU()\n",
    "      self.output = nn.Linear(40, 2)\n",
    "\n",
    "  def forward(self, x):\n",
    "      x = self.linear0(x)\n",
    "      x = self.activation0(x)\n",
    "      x = self.linear1(x)\n",
    "      x = self.activation1(x)\n",
    "      x = self.output(x)\n",
    "      return F.log_softmax(x, dim=1)\n"
   ],
   "metadata": {
    "id": "1513fc96f5bbe9fb",
    "ExecuteTime": {
     "end_time": "2024-04-29T15:55:20.342741Z",
     "start_time": "2024-04-29T15:55:20.331757Z"
    }
   },
   "id": "1513fc96f5bbe9fb",
   "outputs": [],
   "execution_count": 176
  },
  {
   "cell_type": "code",
   "source": [
    "# selecting device to run on and initializing a model instance\n",
    "use_cuda = torch.cuda.is_available()\n",
    "device = torch.device(\"cuda\" if use_cuda else \"cpu\")\n",
    "model = FFANN().to(device)"
   ],
   "metadata": {
    "id": "757555b70a9dd901",
    "ExecuteTime": {
     "end_time": "2024-04-29T15:55:20.358747Z",
     "start_time": "2024-04-29T15:55:20.345751Z"
    }
   },
   "id": "757555b70a9dd901",
   "outputs": [],
   "execution_count": 177
  },
  {
   "cell_type": "code",
   "source": [
    "print(model)"
   ],
   "metadata": {
    "colab": {
     "base_uri": "https://localhost:8080/"
    },
    "id": "a1a86042591a37d0",
    "outputId": "4fb50de3-65ce-4de4-f5e9-27c0804e81c4",
    "ExecuteTime": {
     "end_time": "2024-04-29T15:55:20.373746Z",
     "start_time": "2024-04-29T15:55:20.361753Z"
    }
   },
   "id": "a1a86042591a37d0",
   "outputs": [
    {
     "name": "stdout",
     "output_type": "stream",
     "text": [
      "FFANN(\n",
      "  (linear0): Linear(in_features=62, out_features=80, bias=True)\n",
      "  (activation0): ReLU()\n",
      "  (linear1): Linear(in_features=80, out_features=40, bias=True)\n",
      "  (activation1): ReLU()\n",
      "  (output): Linear(in_features=40, out_features=2, bias=True)\n",
      ")\n"
     ]
    }
   ],
   "execution_count": 178
  },
  {
   "cell_type": "code",
   "source": [
    "def train( model, device, train_loader, optimizer):\n",
    "  \"\"\"\n",
    "  Train function to train a model.\n",
    "\n",
    "  Args:\n",
    "      model: Model to train.\n",
    "      device: Device that is used (e.g., 'cpu' or 'cuda').\n",
    "      train_loader: Train loader of the train set.\n",
    "      optimizer: Optimizer chosen for the model.\n",
    "  \"\"\"\n",
    "  model.train()\n",
    "  bar = tqdm(train_loader)\n",
    "  iteration = 0\n",
    "  overall_loss = 0\n",
    "  accuracy = Accuracy(num_classes=2, task='binary').to(device)\n",
    "  precision = Precision(num_classes=2, task='binary').to(device)  # specify the number of classes\n",
    "  recall = Recall(num_classes=2, task='binary').to(device)\n",
    "  f1 = F1Score(num_classes=2, task='binary').to(device)\n",
    "  for data, target in bar:\n",
    "      data, target = data.to(device), target.to(device)\n",
    "      optimizer.zero_grad()\n",
    "      output = model(data)\n",
    "      pred = output.argmax(dim=1, keepdim=True)\n",
    "      accuracy.update(pred, target.view_as(pred))\n",
    "      precision.update(pred, target.view_as(pred))\n",
    "      recall.update(pred, target.view_as(pred))\n",
    "      f1.update(pred, target.view_as(pred))\n",
    "\n",
    "      loss = criterion(output, target)\n",
    "      loss.backward()\n",
    "      optimizer.step()\n",
    "\n",
    "      iteration += 1\n",
    "      overall_loss += loss.item()\n",
    "      bar.set_postfix({\"Loss\": format(overall_loss/iteration, '.6f')})\n",
    "  accuracy_value = accuracy.compute()\n",
    "  precision_value = precision.compute()\n",
    "  recall_value = recall.compute()\n",
    "  f1_value = f1.compute()\n",
    "\n",
    "  # Print the metric values\n",
    "  print(\"Train metrics\")\n",
    "  print(\"-----------------------------\")\n",
    "  print(f'Accuracy: {accuracy_value:.4f}')\n",
    "  print(f'Precision: {precision_value:.4f}')\n",
    "  print(f'Recall: {recall_value:.4f}')\n",
    "  print(f'F1-score: {f1_value:.4f}')\n",
    "  print(\"-----------------------------\")\n",
    "\n"
   ],
   "metadata": {
    "id": "9f93938e2b500212",
    "ExecuteTime": {
     "end_time": "2024-04-29T15:55:20.419749Z",
     "start_time": "2024-04-29T15:55:20.381746Z"
    }
   },
   "id": "9f93938e2b500212",
   "outputs": [],
   "execution_count": 179
  },
  {
   "cell_type": "code",
   "source": [
    "def test(model, device, test_loader):\n",
    "  \"\"\"\n",
    "  Test function to test a model.\n",
    "\n",
    "  Args:\n",
    "      model: Model to test.\n",
    "      device: Device that is used (e.g., 'cpu' or 'cuda').\n",
    "      test_loader: Test loader of the test set.\n",
    "      verbose: If True, prints the test process. Default is True.\n",
    "\n",
    "  Returns:\n",
    "      Test loss.\n",
    "  \"\"\"\n",
    "  model.eval()\n",
    "  test_loss = 0\n",
    "  correct = 0\n",
    "  accuracy = Accuracy(num_classes=2, task='binary').to(device)\n",
    "  precision = Precision(num_classes=2, task='binary').to(device)  # specify the number of classes\n",
    "  recall = Recall(num_classes=2, task='binary').to(device)\n",
    "  f1 = F1Score(num_classes=2, task='binary').to(device)\n",
    "\n",
    "  with torch.no_grad():\n",
    "      for data, target in test_loader:\n",
    "          data, target = data.to(device), target.to(device)\n",
    "          output = model(data)\n",
    "          test_loss += F.nll_loss(output, target, reduction='sum').item()\n",
    "          pred = output.argmax(dim=1, keepdim=True)\n",
    "          accuracy.update(pred, target.view_as(pred))\n",
    "          precision.update(pred, target.view_as(pred))\n",
    "          recall.update(pred, target.view_as(pred))\n",
    "          f1.update(pred, target.view_as(pred))\n",
    "          correct += pred.eq(target.view_as(pred)).sum().item()\n",
    "\n",
    "\n",
    "\n",
    "  accuracy_value = accuracy.compute()\n",
    "  precision_value = precision.compute()\n",
    "  recall_value = recall.compute()\n",
    "  f1_value = f1.compute()\n",
    "\n",
    "\n",
    "\n",
    "\n",
    "  test_loss /= len(test_loader.dataset)\n",
    "  accuracy = 100. * correct / len(test_loader.dataset)\n",
    "\n",
    "    # Print the metric values\n",
    "  print(\"Test metrics\")\n",
    "  print(\"-----------------------------\")\n",
    "  print(f'Accuracy: {accuracy_value:.4f}')\n",
    "  print(f'Precision: {precision_value:.4f}')\n",
    "  print(f'Recall: {recall_value:.4f}')\n",
    "  print(f'F1-score: {f1_value:.4f}')\n",
    "  print(\"-----------------------------\")\n",
    "\n",
    "  print(f\"Test set: Average loss: {test_loss}, Accuracy: {accuracy}\")\n",
    "  return test_loss"
   ],
   "metadata": {
    "id": "19f6d4c9a788f94c",
    "ExecuteTime": {
     "end_time": "2024-04-29T15:55:20.451744Z",
     "start_time": "2024-04-29T15:55:20.422757Z"
    }
   },
   "id": "19f6d4c9a788f94c",
   "outputs": [],
   "execution_count": 180
  },
  {
   "cell_type": "code",
   "source": [
    "# creating datasets and dataloaders\n",
    "train_dataset = TensorDataset(X_train, y_train)\n",
    "test_dataset = TensorDataset(X_test, y_test)\n",
    "#batch sizes\n",
    "\n",
    "batch_size = 32\n",
    "test_batch_size = 32\n",
    "\n",
    "train_loader = DataLoader(train_dataset, batch_size=batch_size)\n",
    "test_loader = DataLoader(test_dataset, batch_size=test_batch_size)"
   ],
   "metadata": {
    "id": "806933370b7f97e4",
    "ExecuteTime": {
     "end_time": "2024-04-29T15:55:20.466756Z",
     "start_time": "2024-04-29T15:55:20.453747Z"
    }
   },
   "id": "806933370b7f97e4",
   "outputs": [],
   "execution_count": 181
  },
  {
   "cell_type": "code",
   "source": [
    "# initializing parameters for train and test\n",
    "epochs = 200\n",
    "momentum = 0.5\n",
    "criterion = nn.CrossEntropyLoss(weight=class_weights.to(device))\n",
    "optimizer = optim.SGD(model.parameters(), lr=0.05, momentum=momentum)\n",
    "\n",
    "# patience, counter, and min reached test loss for early stopping\n",
    "patience = 10\n",
    "counter_of_unimrooved_epochs = 0\n",
    "min_test_loss = np.inf\n",
    "# learning rate scheduler\n",
    "scheduler1 = optim.lr_scheduler.ReduceLROnPlateau(optimizer, 'min', patience=2, factor=0.5, min_lr=0.001)\n",
    "\n",
    "# train loop\n",
    "for epoch in range(1, epochs + 1):\n",
    "    train(model, device, train_loader, optimizer)\n",
    "    test_loss = test(model, device, test_loader)\n",
    "    scheduler1.step(test_loss)\n",
    "    if test_loss < min_test_loss:\n",
    "      counter_of_unimrooved_epochs = 0\n",
    "      min_test_loss = test_loss\n",
    "      torch.save(model.state_dict(), \"task1.pth\")\n",
    "    else:\n",
    "      counter_of_unimrooved_epochs += 1\n",
    "    if counter_of_unimrooved_epochs > patience:\n",
    "      print(\"Early stopping\")\n",
    "      model.load_state_dict(torch.load(\"task1.pth\"))\n",
    "      test(model, device, test_loader)\n",
    "      break"
   ],
   "metadata": {
    "colab": {
     "base_uri": "https://localhost:8080/"
    },
    "id": "aba92e2d89ae8c1c",
    "outputId": "77bc963d-d7e7-4dd5-9d69-a1b53f08811a",
    "ExecuteTime": {
     "end_time": "2024-04-29T15:57:24.630494Z",
     "start_time": "2024-04-29T15:55:20.470752Z"
    }
   },
   "id": "aba92e2d89ae8c1c",
   "outputs": [
    {
     "name": "stderr",
     "output_type": "stream",
     "text": [
      "100%|██████████| 1000/1000 [00:06<00:00, 158.20it/s, Loss=0.069535]\n"
     ]
    },
    {
     "name": "stdout",
     "output_type": "stream",
     "text": [
      "Train metrics\n",
      "-----------------------------\n",
      "Accuracy: 0.9945\n",
      "Precision: 0.0000\n",
      "Recall: 0.0000\n",
      "F1-score: 0.0000\n",
      "-----------------------------\n",
      "Test metrics\n",
      "-----------------------------\n",
      "Accuracy: 0.9950\n",
      "Precision: 0.0000\n",
      "Recall: 0.0000\n",
      "F1-score: 0.0000\n",
      "-----------------------------\n",
      "Test set: Average loss: 0.01596077614137903, Accuracy: 99.5\n"
     ]
    },
    {
     "name": "stderr",
     "output_type": "stream",
     "text": [
      "100%|██████████| 1000/1000 [00:05<00:00, 195.75it/s, Loss=0.030280]\n"
     ]
    },
    {
     "name": "stdout",
     "output_type": "stream",
     "text": [
      "Train metrics\n",
      "-----------------------------\n",
      "Accuracy: 0.9949\n",
      "Precision: 0.4286\n",
      "Recall: 0.0375\n",
      "F1-score: 0.0690\n",
      "-----------------------------\n",
      "Test metrics\n",
      "-----------------------------\n",
      "Accuracy: 0.9951\n",
      "Precision: 0.6667\n",
      "Recall: 0.0500\n",
      "F1-score: 0.0930\n",
      "-----------------------------\n",
      "Test set: Average loss: 0.014398191616055555, Accuracy: 99.5125\n"
     ]
    },
    {
     "name": "stderr",
     "output_type": "stream",
     "text": [
      "100%|██████████| 1000/1000 [00:05<00:00, 186.81it/s, Loss=0.026225]\n"
     ]
    },
    {
     "name": "stdout",
     "output_type": "stream",
     "text": [
      "Train metrics\n",
      "-----------------------------\n",
      "Accuracy: 0.9934\n",
      "Precision: 0.3547\n",
      "Recall: 0.3812\n",
      "F1-score: 0.3675\n",
      "-----------------------------\n",
      "Test metrics\n",
      "-----------------------------\n",
      "Accuracy: 0.9954\n",
      "Precision: 0.5484\n",
      "Recall: 0.4250\n",
      "F1-score: 0.4789\n",
      "-----------------------------\n",
      "Test set: Average loss: 0.012581577944656601, Accuracy: 99.5375\n"
     ]
    },
    {
     "name": "stderr",
     "output_type": "stream",
     "text": [
      "100%|██████████| 1000/1000 [00:05<00:00, 195.00it/s, Loss=0.022986]\n"
     ]
    },
    {
     "name": "stdout",
     "output_type": "stream",
     "text": [
      "Train metrics\n",
      "-----------------------------\n",
      "Accuracy: 0.9945\n",
      "Precision: 0.4564\n",
      "Recall: 0.5562\n",
      "F1-score: 0.5014\n",
      "-----------------------------\n",
      "Test metrics\n",
      "-----------------------------\n",
      "Accuracy: 0.9964\n",
      "Precision: 0.7200\n",
      "Recall: 0.4500\n",
      "F1-score: 0.5538\n",
      "-----------------------------\n",
      "Test set: Average loss: 0.009502880812135118, Accuracy: 99.6375\n"
     ]
    },
    {
     "name": "stderr",
     "output_type": "stream",
     "text": [
      "100%|██████████| 1000/1000 [00:05<00:00, 196.20it/s, Loss=0.019484]\n"
     ]
    },
    {
     "name": "stdout",
     "output_type": "stream",
     "text": [
      "Train metrics\n",
      "-----------------------------\n",
      "Accuracy: 0.9956\n",
      "Precision: 0.5525\n",
      "Recall: 0.6250\n",
      "F1-score: 0.5865\n",
      "-----------------------------\n",
      "Test metrics\n",
      "-----------------------------\n",
      "Accuracy: 0.9970\n",
      "Precision: 0.7857\n",
      "Recall: 0.5500\n",
      "F1-score: 0.6471\n",
      "-----------------------------\n",
      "Test set: Average loss: 0.008111527963137632, Accuracy: 99.7\n"
     ]
    },
    {
     "name": "stderr",
     "output_type": "stream",
     "text": [
      "100%|██████████| 1000/1000 [00:05<00:00, 196.54it/s, Loss=0.017555]\n"
     ]
    },
    {
     "name": "stdout",
     "output_type": "stream",
     "text": [
      "Train metrics\n",
      "-----------------------------\n",
      "Accuracy: 0.9957\n",
      "Precision: 0.5538\n",
      "Recall: 0.6750\n",
      "F1-score: 0.6085\n",
      "-----------------------------\n",
      "Test metrics\n",
      "-----------------------------\n",
      "Accuracy: 0.9970\n",
      "Precision: 0.7667\n",
      "Recall: 0.5750\n",
      "F1-score: 0.6571\n",
      "-----------------------------\n",
      "Test set: Average loss: 0.007587144045791319, Accuracy: 99.7\n"
     ]
    },
    {
     "name": "stderr",
     "output_type": "stream",
     "text": [
      "100%|██████████| 1000/1000 [00:05<00:00, 171.16it/s, Loss=0.016606]\n"
     ]
    },
    {
     "name": "stdout",
     "output_type": "stream",
     "text": [
      "Train metrics\n",
      "-----------------------------\n",
      "Accuracy: 0.9958\n",
      "Precision: 0.5644\n",
      "Recall: 0.7125\n",
      "F1-score: 0.6298\n",
      "-----------------------------\n",
      "Test metrics\n",
      "-----------------------------\n",
      "Accuracy: 0.9971\n",
      "Precision: 0.7742\n",
      "Recall: 0.6000\n",
      "F1-score: 0.6761\n",
      "-----------------------------\n",
      "Test set: Average loss: 0.0073410476579658735, Accuracy: 99.7125\n"
     ]
    },
    {
     "name": "stderr",
     "output_type": "stream",
     "text": [
      "100%|██████████| 1000/1000 [00:06<00:00, 163.83it/s, Loss=0.015736]\n"
     ]
    },
    {
     "name": "stdout",
     "output_type": "stream",
     "text": [
      "Train metrics\n",
      "-----------------------------\n",
      "Accuracy: 0.9959\n",
      "Precision: 0.5707\n",
      "Recall: 0.7312\n",
      "F1-score: 0.6411\n",
      "-----------------------------\n",
      "Test metrics\n",
      "-----------------------------\n",
      "Accuracy: 0.9969\n",
      "Precision: 0.7273\n",
      "Recall: 0.6000\n",
      "F1-score: 0.6575\n",
      "-----------------------------\n",
      "Test set: Average loss: 0.007242349651125437, Accuracy: 99.6875\n"
     ]
    },
    {
     "name": "stderr",
     "output_type": "stream",
     "text": [
      "100%|██████████| 1000/1000 [00:05<00:00, 181.64it/s, Loss=0.015433]\n"
     ]
    },
    {
     "name": "stdout",
     "output_type": "stream",
     "text": [
      "Train metrics\n",
      "-----------------------------\n",
      "Accuracy: 0.9960\n",
      "Precision: 0.5764\n",
      "Recall: 0.7312\n",
      "F1-score: 0.6446\n",
      "-----------------------------\n",
      "Test metrics\n",
      "-----------------------------\n",
      "Accuracy: 0.9970\n",
      "Precision: 0.7222\n",
      "Recall: 0.6500\n",
      "F1-score: 0.6842\n",
      "-----------------------------\n",
      "Test set: Average loss: 0.007092757879864166, Accuracy: 99.7\n"
     ]
    },
    {
     "name": "stderr",
     "output_type": "stream",
     "text": [
      "100%|██████████| 1000/1000 [00:05<00:00, 178.19it/s, Loss=0.014812]\n"
     ]
    },
    {
     "name": "stdout",
     "output_type": "stream",
     "text": [
      "Train metrics\n",
      "-----------------------------\n",
      "Accuracy: 0.9960\n",
      "Precision: 0.5764\n",
      "Recall: 0.7312\n",
      "F1-score: 0.6446\n",
      "-----------------------------\n",
      "Test metrics\n",
      "-----------------------------\n",
      "Accuracy: 0.9966\n",
      "Precision: 0.6585\n",
      "Recall: 0.6750\n",
      "F1-score: 0.6667\n",
      "-----------------------------\n",
      "Test set: Average loss: 0.0072031629793578985, Accuracy: 99.6625\n"
     ]
    },
    {
     "name": "stderr",
     "output_type": "stream",
     "text": [
      "100%|██████████| 1000/1000 [00:05<00:00, 174.75it/s, Loss=0.014630]\n"
     ]
    },
    {
     "name": "stdout",
     "output_type": "stream",
     "text": [
      "Train metrics\n",
      "-----------------------------\n",
      "Accuracy: 0.9958\n",
      "Precision: 0.5619\n",
      "Recall: 0.7375\n",
      "F1-score: 0.6378\n",
      "-----------------------------\n",
      "Test metrics\n",
      "-----------------------------\n",
      "Accuracy: 0.9964\n",
      "Precision: 0.6279\n",
      "Recall: 0.6750\n",
      "F1-score: 0.6506\n",
      "-----------------------------\n",
      "Test set: Average loss: 0.007374753223546179, Accuracy: 99.6375\n"
     ]
    },
    {
     "name": "stderr",
     "output_type": "stream",
     "text": [
      "100%|██████████| 1000/1000 [00:05<00:00, 178.88it/s, Loss=0.014144]\n"
     ]
    },
    {
     "name": "stdout",
     "output_type": "stream",
     "text": [
      "Train metrics\n",
      "-----------------------------\n",
      "Accuracy: 0.9960\n",
      "Precision: 0.5728\n",
      "Recall: 0.7625\n",
      "F1-score: 0.6542\n",
      "-----------------------------\n",
      "Test metrics\n",
      "-----------------------------\n",
      "Accuracy: 0.9962\n",
      "Precision: 0.6087\n",
      "Recall: 0.7000\n",
      "F1-score: 0.6512\n",
      "-----------------------------\n",
      "Test set: Average loss: 0.0075193582663478364, Accuracy: 99.625\n"
     ]
    },
    {
     "name": "stderr",
     "output_type": "stream",
     "text": [
      "100%|██████████| 1000/1000 [00:05<00:00, 170.86it/s, Loss=0.012865]\n"
     ]
    },
    {
     "name": "stdout",
     "output_type": "stream",
     "text": [
      "Train metrics\n",
      "-----------------------------\n",
      "Accuracy: 0.9964\n",
      "Precision: 0.6100\n",
      "Recall: 0.7625\n",
      "F1-score: 0.6778\n",
      "-----------------------------\n",
      "Test metrics\n",
      "-----------------------------\n",
      "Accuracy: 0.9961\n",
      "Precision: 0.5849\n",
      "Recall: 0.7750\n",
      "F1-score: 0.6667\n",
      "-----------------------------\n",
      "Test set: Average loss: 0.007822753288080122, Accuracy: 99.6125\n"
     ]
    },
    {
     "name": "stderr",
     "output_type": "stream",
     "text": [
      "100%|██████████| 1000/1000 [00:05<00:00, 177.68it/s, Loss=0.012266]\n"
     ]
    },
    {
     "name": "stdout",
     "output_type": "stream",
     "text": [
      "Train metrics\n",
      "-----------------------------\n",
      "Accuracy: 0.9966\n",
      "Precision: 0.6275\n",
      "Recall: 0.8000\n",
      "F1-score: 0.7033\n",
      "-----------------------------\n",
      "Test metrics\n",
      "-----------------------------\n",
      "Accuracy: 0.9958\n",
      "Precision: 0.5556\n",
      "Recall: 0.7500\n",
      "F1-score: 0.6383\n",
      "-----------------------------\n",
      "Test set: Average loss: 0.007790828929521069, Accuracy: 99.575\n"
     ]
    },
    {
     "name": "stderr",
     "output_type": "stream",
     "text": [
      "100%|██████████| 1000/1000 [00:05<00:00, 175.51it/s, Loss=0.012003]\n"
     ]
    },
    {
     "name": "stdout",
     "output_type": "stream",
     "text": [
      "Train metrics\n",
      "-----------------------------\n",
      "Accuracy: 0.9967\n",
      "Precision: 0.6386\n",
      "Recall: 0.8062\n",
      "F1-score: 0.7127\n",
      "-----------------------------\n",
      "Test metrics\n",
      "-----------------------------\n",
      "Accuracy: 0.9958\n",
      "Precision: 0.5556\n",
      "Recall: 0.7500\n",
      "F1-score: 0.6383\n",
      "-----------------------------\n",
      "Test set: Average loss: 0.007768539993952317, Accuracy: 99.575\n"
     ]
    },
    {
     "name": "stderr",
     "output_type": "stream",
     "text": [
      "100%|██████████| 1000/1000 [00:05<00:00, 179.74it/s, Loss=0.011333]\n"
     ]
    },
    {
     "name": "stdout",
     "output_type": "stream",
     "text": [
      "Train metrics\n",
      "-----------------------------\n",
      "Accuracy: 0.9967\n",
      "Precision: 0.6355\n",
      "Recall: 0.8062\n",
      "F1-score: 0.7107\n",
      "-----------------------------\n",
      "Test metrics\n",
      "-----------------------------\n",
      "Accuracy: 0.9959\n",
      "Precision: 0.5660\n",
      "Recall: 0.7500\n",
      "F1-score: 0.6452\n",
      "-----------------------------\n",
      "Test set: Average loss: 0.007741408293846235, Accuracy: 99.5875\n"
     ]
    },
    {
     "name": "stderr",
     "output_type": "stream",
     "text": [
      "100%|██████████| 1000/1000 [00:05<00:00, 174.17it/s, Loss=0.011131]\n"
     ]
    },
    {
     "name": "stdout",
     "output_type": "stream",
     "text": [
      "Train metrics\n",
      "-----------------------------\n",
      "Accuracy: 0.9968\n",
      "Precision: 0.6439\n",
      "Recall: 0.8250\n",
      "F1-score: 0.7233\n",
      "-----------------------------\n",
      "Test metrics\n",
      "-----------------------------\n",
      "Accuracy: 0.9959\n",
      "Precision: 0.5686\n",
      "Recall: 0.7250\n",
      "F1-score: 0.6374\n",
      "-----------------------------\n",
      "Test set: Average loss: 0.007735868459631675, Accuracy: 99.5875\n"
     ]
    },
    {
     "name": "stderr",
     "output_type": "stream",
     "text": [
      "100%|██████████| 1000/1000 [00:05<00:00, 176.34it/s, Loss=0.010994]\n"
     ]
    },
    {
     "name": "stdout",
     "output_type": "stream",
     "text": [
      "Train metrics\n",
      "-----------------------------\n",
      "Accuracy: 0.9969\n",
      "Precision: 0.6517\n",
      "Recall: 0.8188\n",
      "F1-score: 0.7258\n",
      "-----------------------------\n",
      "Test metrics\n",
      "-----------------------------\n",
      "Accuracy: 0.9960\n",
      "Precision: 0.5800\n",
      "Recall: 0.7250\n",
      "F1-score: 0.6444\n",
      "-----------------------------\n",
      "Test set: Average loss: 0.007735628163357823, Accuracy: 99.6\n"
     ]
    },
    {
     "name": "stderr",
     "output_type": "stream",
     "text": [
      "100%|██████████| 1000/1000 [00:05<00:00, 179.79it/s, Loss=0.010517]\n"
     ]
    },
    {
     "name": "stdout",
     "output_type": "stream",
     "text": [
      "Train metrics\n",
      "-----------------------------\n",
      "Accuracy: 0.9971\n",
      "Precision: 0.6602\n",
      "Recall: 0.8500\n",
      "F1-score: 0.7432\n",
      "-----------------------------\n",
      "Test metrics\n",
      "-----------------------------\n",
      "Accuracy: 0.9962\n",
      "Precision: 0.6042\n",
      "Recall: 0.7250\n",
      "F1-score: 0.6591\n",
      "-----------------------------\n",
      "Test set: Average loss: 0.007551704468660283, Accuracy: 99.625\n"
     ]
    },
    {
     "name": "stderr",
     "output_type": "stream",
     "text": [
      "100%|██████████| 1000/1000 [00:05<00:00, 177.98it/s, Loss=0.010431]\n"
     ]
    },
    {
     "name": "stdout",
     "output_type": "stream",
     "text": [
      "Train metrics\n",
      "-----------------------------\n",
      "Accuracy: 0.9971\n",
      "Precision: 0.6650\n",
      "Recall: 0.8562\n",
      "F1-score: 0.7486\n",
      "-----------------------------\n",
      "Test metrics\n",
      "-----------------------------\n",
      "Accuracy: 0.9962\n",
      "Precision: 0.6042\n",
      "Recall: 0.7250\n",
      "F1-score: 0.6591\n",
      "-----------------------------\n",
      "Test set: Average loss: 0.007589077163262722, Accuracy: 99.625\n",
      "Early stopping\n",
      "Test metrics\n",
      "-----------------------------\n",
      "Accuracy: 0.9970\n",
      "Precision: 0.7222\n",
      "Recall: 0.6500\n",
      "F1-score: 0.6842\n",
      "-----------------------------\n",
      "Test set: Average loss: 0.007092757879864166, Accuracy: 99.7\n"
     ]
    }
   ],
   "execution_count": 182
  },
  {
   "cell_type": "markdown",
   "source": [
    "Classification report"
   ],
   "metadata": {
    "id": "5auhMrXLqnNs"
   },
   "id": "5auhMrXLqnNs"
  },
  {
   "cell_type": "code",
   "source": [
    "y_pred = torch.empty((0, 1), dtype=torch.int64).to(device)\n",
    "model.eval()\n",
    "with torch.no_grad():\n",
    "        for data, target in test_loader:\n",
    "            data, target = data.to(device), target.to(device)\n",
    "            output = model(data)\n",
    "            pred = output.argmax(dim=1, keepdim=True)\n",
    "            y_pred = torch.cat((y_pred, pred), 0)\n",
    "\n",
    "y_pred = y_pred.cpu().numpy()"
   ],
   "metadata": {
    "id": "yzWfnJ3A25tX",
    "ExecuteTime": {
     "end_time": "2024-04-29T15:57:24.833533Z",
     "start_time": "2024-04-29T15:57:24.632493Z"
    }
   },
   "id": "yzWfnJ3A25tX",
   "outputs": [],
   "execution_count": 183
  },
  {
   "cell_type": "code",
   "source": [
    "print(classification_report(y_test, y_pred))"
   ],
   "metadata": {
    "id": "kyAYqqVB2bmk",
    "colab": {
     "base_uri": "https://localhost:8080/"
    },
    "outputId": "96e6b725-2be6-43c4-ad47-54eb252be2c7",
    "ExecuteTime": {
     "end_time": "2024-04-29T15:57:24.865532Z",
     "start_time": "2024-04-29T15:57:24.835534Z"
    }
   },
   "id": "kyAYqqVB2bmk",
   "outputs": [
    {
     "name": "stdout",
     "output_type": "stream",
     "text": [
      "              precision    recall  f1-score   support\n",
      "\n",
      "           0       1.00      1.00      1.00      7960\n",
      "           1       0.72      0.65      0.68        40\n",
      "\n",
      "    accuracy                           1.00      8000\n",
      "   macro avg       0.86      0.82      0.84      8000\n",
      "weighted avg       1.00      1.00      1.00      8000\n",
      "\n"
     ]
    }
   ],
   "execution_count": 184
  },
  {
   "metadata": {
    "colab": {
     "base_uri": "https://localhost:8080/"
    },
    "id": "81ab931f6c999b11",
    "outputId": "5f7464af-0598-4969-c865-f64f3d42d58f",
    "ExecuteTime": {
     "end_time": "2024-04-29T15:58:20.727653Z",
     "start_time": "2024-04-29T15:57:24.867535Z"
    }
   },
   "cell_type": "code",
   "source": [
    "model.eval()\n",
    "# getting the feature importance\n",
    "ig = IntegratedGradients(model)\n",
    "batch_size = 40\n",
    "tst = transformed\n",
    "tst = torch.tensor(tst.values, dtype=torch.float).to(device)\n",
    "baseline = torch.zeros_like(tst).to(device)\n",
    "# Compute attributions in batches\n",
    "attributions = []\n",
    "for i in range(0, len(tst), batch_size):\n",
    "    batch_inputs = tst[i:i+batch_size]\n",
    "    batch_baseline = baseline[i:i+batch_size]\n",
    "    batch_attributions = ig.attribute(batch_inputs, batch_baseline, target=1)\n",
    "    attributions.append(batch_attributions)\n",
    "\n",
    "# Concatenate the attributions from all batches\n",
    "attributions = torch.cat(attributions, dim=0)\n",
    "\n",
    "print(attributions)"
   ],
   "id": "81ab931f6c999b11",
   "outputs": [
    {
     "name": "stdout",
     "output_type": "stream",
     "text": [
      "tensor([[-1.3157e+00, -0.0000e+00, -0.0000e+00,  ...,  2.4804e-16,\n",
      "         -5.3758e-01, -2.2588e-01],\n",
      "        [-0.0000e+00, -1.5308e+00, -0.0000e+00,  ...,  1.2183e+00,\n",
      "          1.7800e-02, -5.4123e-01],\n",
      "        [-0.0000e+00, -0.0000e+00, -0.0000e+00,  ..., -8.3507e-01,\n",
      "          2.4327e-01, -5.1250e-02],\n",
      "        ...,\n",
      "        [-0.0000e+00, -0.0000e+00, -0.0000e+00,  ..., -1.0301e+00,\n",
      "         -3.3676e-01, -3.2164e-01],\n",
      "        [-0.0000e+00, -0.0000e+00, -0.0000e+00,  ...,  8.6709e-01,\n",
      "          1.4665e-02,  2.7888e-02],\n",
      "        [-0.0000e+00, -1.0790e+00, -0.0000e+00,  ...,  1.2837e+00,\n",
      "         -1.4890e-02,  1.1676e-02]], dtype=torch.float64)\n"
     ]
    }
   ],
   "execution_count": 185
  },
  {
   "metadata": {
    "colab": {
     "base_uri": "https://localhost:8080/"
    },
    "id": "63bc0d169124ee13",
    "outputId": "8fa4dfb2-6150-42df-8bf0-707bf83c0fe8",
    "ExecuteTime": {
     "end_time": "2024-04-29T15:58:20.758652Z",
     "start_time": "2024-04-29T15:58:20.729660Z"
    }
   },
   "cell_type": "code",
   "source": [
    "importn = abs(attributions.mean(axis=0).cpu().numpy())\n",
    "importn /= max(importn)\n",
    "a = pd.Series(importn, index=feature_columns)\n",
    "print(a.sort_values(ascending=False)[:30])"
   ],
   "id": "63bc0d169124ee13",
   "outputs": [
    {
     "name": "stdout",
     "output_type": "stream",
     "text": [
      "sin_h                             1.000000\n",
      "cos_month                         0.192875\n",
      "browser_Chrome                    0.186795\n",
      "os_Windows 8                      0.163017\n",
      "locale_ru_RU                      0.157068\n",
      "browser_Safari                    0.153391\n",
      "os_MacOS                          0.142645\n",
      "browser_Firefox                   0.138935\n",
      "location_Canada/Toronto           0.097160\n",
      "browser_Internet Explorer         0.083331\n",
      "os_Windows 7                      0.056134\n",
      "os_Windows 10                     0.055438\n",
      "locale_uk-UA                      0.053210\n",
      "locale_ur-PK                      0.052078\n",
      "location_New Zealand/Auckland     0.043388\n",
      "location_Germany/Berlin           0.041036\n",
      "os_Debian                         0.038298\n",
      "location_Canada/Vancouver         0.037277\n",
      "locale_pt-BR                      0.037010\n",
      "sin_month                         0.035293\n",
      "os_Ubuntu                         0.034045\n",
      "locale_en-SG                      0.032405\n",
      "location_India/Delhi              0.029344\n",
      "location_Singapore/Singapore      0.029302\n",
      "location_France/Paris             0.029085\n",
      "location_USA/Miami                0.028336\n",
      "location_Malaysia/Kuala Lumpur    0.025079\n",
      "location_Japan/Tokyo              0.024994\n",
      "locale_en-US                      0.023845\n",
      "locale_es-MX                      0.022266\n",
      "dtype: float64\n"
     ]
    }
   ],
   "execution_count": 186
  },
  {
   "cell_type": "markdown",
   "source": [
    "The features importance slightly allign with my EDA stage, however not perfectly. Some features I mentioned as time, date, browser and OS are present in top 30 most important features, but others do not. All this had happened, since I tried to generalize my model and increase its f1 score. In my try when I played with class weights my model had metrics recall 1, but precision 0.25 and top features to predict Waldo perfectly alligned with my EDA."
   ],
   "metadata": {
    "id": "S6F2XmA5f1LT"
   },
   "id": "S6F2XmA5f1LT"
  },
  {
   "cell_type": "markdown",
   "source": "The importance reveals that Waldo was typically determined by the time he entered, browser Chrome if unknown user used it, and month and locale ru_RU. Other features are present due to my aim to maximize f1 score.",
   "metadata": {
    "id": "TJ7zoanjkw7q"
   },
   "id": "TJ7zoanjkw7q"
  },
  {
   "cell_type": "code",
   "source": [
    "test(model, device, test_loader)"
   ],
   "metadata": {
    "id": "bf45424cbb0c481c",
    "colab": {
     "base_uri": "https://localhost:8080/"
    },
    "outputId": "942c160d-6dc6-47f8-aa88-2221a8a7a8b7",
    "ExecuteTime": {
     "end_time": "2024-04-29T15:58:21.436660Z",
     "start_time": "2024-04-29T15:58:20.760653Z"
    }
   },
   "id": "bf45424cbb0c481c",
   "outputs": [
    {
     "name": "stdout",
     "output_type": "stream",
     "text": [
      "Test metrics\n",
      "-----------------------------\n",
      "Accuracy: 0.9970\n",
      "Precision: 0.7222\n",
      "Recall: 0.6500\n",
      "F1-score: 0.6842\n",
      "-----------------------------\n",
      "Test set: Average loss: 0.007092757879864166, Accuracy: 99.7\n"
     ]
    },
    {
     "data": {
      "text/plain": [
       "0.007092757879864166"
      ]
     },
     "execution_count": 187,
     "metadata": {},
     "output_type": "execute_result"
    }
   ],
   "execution_count": 187
  },
  {
   "cell_type": "markdown",
   "source": "### Making predictions using the trained model",
   "metadata": {
    "id": "hZYToxie2ORq"
   },
   "id": "hZYToxie2ORq"
  },
  {
   "cell_type": "markdown",
   "source": [
    "Repeat all steps to preprocess the data as for training"
   ],
   "metadata": {
    "id": "XZdh4OAXmJWf"
   },
   "id": "XZdh4OAXmJWf"
  },
  {
   "cell_type": "code",
   "source": [
    "hidden_set = pd.read_json(\"task_1_verify.json\")\n",
    "hidden_set.head()"
   ],
   "metadata": {
    "id": "bc094110beab3515",
    "colab": {
     "base_uri": "https://localhost:8080/",
     "height": 206
    },
    "outputId": "88d8fcb6-51e7-489f-c124-98e69b7f1426",
    "ExecuteTime": {
     "end_time": "2024-04-29T15:58:22.047186Z",
     "start_time": "2024-04-29T15:58:21.439660Z"
    }
   },
   "id": "bc094110beab3515",
   "outputs": [
    {
     "data": {
      "text/plain": [
       "             browser          os locale             location  \\\n",
       "0  Internet Explorer   Windows 8  xh-ZA         France/Paris   \n",
       "1             Chrome  Windows 10  ja-JP       Germany/Berlin   \n",
       "2             Chrome  Windows 10  it-IT  Singapore/Singapore   \n",
       "3             Chrome  Windows 10  ur-PK            UK/London   \n",
       "4            Firefox      Ubuntu  en-CA        Russia/Moscow   \n",
       "\n",
       "                                               sites      time       date  \n",
       "0  [{'site': 'baidu.com', 'length': 201}, {'site'...  14:13:00 2016-11-05  \n",
       "1  [{'site': 'toptal.com', 'length': 96}, {'site'...  21:06:00 2017-02-22  \n",
       "2  [{'site': 'bing.net', 'length': 225}, {'site':...  13:17:00 2016-01-30  \n",
       "3  [{'site': 'google.com', 'length': 113}, {'site...  17:00:00 2017-02-27  \n",
       "4  [{'site': 'googleapis.com', 'length': 243}, {'...  18:11:00 2017-04-19  "
      ],
      "text/html": [
       "<div>\n",
       "<style scoped>\n",
       "    .dataframe tbody tr th:only-of-type {\n",
       "        vertical-align: middle;\n",
       "    }\n",
       "\n",
       "    .dataframe tbody tr th {\n",
       "        vertical-align: top;\n",
       "    }\n",
       "\n",
       "    .dataframe thead th {\n",
       "        text-align: right;\n",
       "    }\n",
       "</style>\n",
       "<table border=\"1\" class=\"dataframe\">\n",
       "  <thead>\n",
       "    <tr style=\"text-align: right;\">\n",
       "      <th></th>\n",
       "      <th>browser</th>\n",
       "      <th>os</th>\n",
       "      <th>locale</th>\n",
       "      <th>location</th>\n",
       "      <th>sites</th>\n",
       "      <th>time</th>\n",
       "      <th>date</th>\n",
       "    </tr>\n",
       "  </thead>\n",
       "  <tbody>\n",
       "    <tr>\n",
       "      <th>0</th>\n",
       "      <td>Internet Explorer</td>\n",
       "      <td>Windows 8</td>\n",
       "      <td>xh-ZA</td>\n",
       "      <td>France/Paris</td>\n",
       "      <td>[{'site': 'baidu.com', 'length': 201}, {'site'...</td>\n",
       "      <td>14:13:00</td>\n",
       "      <td>2016-11-05</td>\n",
       "    </tr>\n",
       "    <tr>\n",
       "      <th>1</th>\n",
       "      <td>Chrome</td>\n",
       "      <td>Windows 10</td>\n",
       "      <td>ja-JP</td>\n",
       "      <td>Germany/Berlin</td>\n",
       "      <td>[{'site': 'toptal.com', 'length': 96}, {'site'...</td>\n",
       "      <td>21:06:00</td>\n",
       "      <td>2017-02-22</td>\n",
       "    </tr>\n",
       "    <tr>\n",
       "      <th>2</th>\n",
       "      <td>Chrome</td>\n",
       "      <td>Windows 10</td>\n",
       "      <td>it-IT</td>\n",
       "      <td>Singapore/Singapore</td>\n",
       "      <td>[{'site': 'bing.net', 'length': 225}, {'site':...</td>\n",
       "      <td>13:17:00</td>\n",
       "      <td>2016-01-30</td>\n",
       "    </tr>\n",
       "    <tr>\n",
       "      <th>3</th>\n",
       "      <td>Chrome</td>\n",
       "      <td>Windows 10</td>\n",
       "      <td>ur-PK</td>\n",
       "      <td>UK/London</td>\n",
       "      <td>[{'site': 'google.com', 'length': 113}, {'site...</td>\n",
       "      <td>17:00:00</td>\n",
       "      <td>2017-02-27</td>\n",
       "    </tr>\n",
       "    <tr>\n",
       "      <th>4</th>\n",
       "      <td>Firefox</td>\n",
       "      <td>Ubuntu</td>\n",
       "      <td>en-CA</td>\n",
       "      <td>Russia/Moscow</td>\n",
       "      <td>[{'site': 'googleapis.com', 'length': 243}, {'...</td>\n",
       "      <td>18:11:00</td>\n",
       "      <td>2017-04-19</td>\n",
       "    </tr>\n",
       "  </tbody>\n",
       "</table>\n",
       "</div>"
      ]
     },
     "execution_count": 188,
     "metadata": {},
     "output_type": "execute_result"
    }
   ],
   "execution_count": 188
  },
  {
   "cell_type": "code",
   "source": [
    "hidden_set[\"act_date\"] = hidden_set[[\"date\", \"time\"]].apply(merge_date_time, axis=1, result_type=\"reduce\")\n",
    "hidden_set[[\"act_date\", \"location\"]] = hidden_set[[\"act_date\", \"location\"]].apply(localize, axis=1, result_type=\"broadcast\")"
   ],
   "metadata": {
    "id": "WfxgAsIKeupB",
    "ExecuteTime": {
     "end_time": "2024-04-29T15:58:28.636276Z",
     "start_time": "2024-04-29T15:58:22.049191Z"
    }
   },
   "id": "WfxgAsIKeupB",
   "outputs": [],
   "execution_count": 189
  },
  {
   "cell_type": "code",
   "source": [
    "hidden_set[\"month\"] = hidden_set[\"act_date\"].apply(get_month_from_date)\n",
    "hidden_set[\"day\"] = hidden_set[\"act_date\"].apply(lambda x: x.day)\n",
    "hidden_set[\"hour\"] = hidden_set[\"act_date\"].apply(lambda x: x.hour + x.minute/60)\n",
    "hidden_set = hidden_set.drop(columns=[\"sites\", \"date\", \"time\"])"
   ],
   "metadata": {
    "id": "bJGAtlLV3Pdb",
    "ExecuteTime": {
     "end_time": "2024-04-29T15:58:28.700294Z",
     "start_time": "2024-04-29T15:58:28.639280Z"
    }
   },
   "id": "bJGAtlLV3Pdb",
   "outputs": [],
   "execution_count": 190
  },
  {
   "cell_type": "code",
   "source": [
    "hidden_set.head()"
   ],
   "metadata": {
    "id": "8xjrZexrfRw6",
    "colab": {
     "base_uri": "https://localhost:8080/",
     "height": 206
    },
    "outputId": "608f1ebe-5ba7-44ac-8205-bca8b3b3b1c7",
    "ExecuteTime": {
     "end_time": "2024-04-29T15:58:28.716296Z",
     "start_time": "2024-04-29T15:58:28.702282Z"
    }
   },
   "id": "8xjrZexrfRw6",
   "outputs": [
    {
     "data": {
      "text/plain": [
       "             browser          os locale             location  \\\n",
       "0  Internet Explorer   Windows 8  xh-ZA         France/Paris   \n",
       "1             Chrome  Windows 10  ja-JP       Germany/Berlin   \n",
       "2             Chrome  Windows 10  it-IT  Singapore/Singapore   \n",
       "3             Chrome  Windows 10  ur-PK            UK/London   \n",
       "4            Firefox      Ubuntu  en-CA        Russia/Moscow   \n",
       "\n",
       "                    act_date  month  day       hour  \n",
       "0  2016-11-05 15:13:00+01:00     11    5  15.216667  \n",
       "1  2017-02-22 22:06:00+01:00      2   22  22.100000  \n",
       "2  2016-01-30 21:17:00+08:00      1   30  21.283333  \n",
       "3  2017-02-27 17:00:00+00:00      2   27  17.000000  \n",
       "4  2017-04-19 21:11:00+03:00      4   19  21.183333  "
      ],
      "text/html": [
       "<div>\n",
       "<style scoped>\n",
       "    .dataframe tbody tr th:only-of-type {\n",
       "        vertical-align: middle;\n",
       "    }\n",
       "\n",
       "    .dataframe tbody tr th {\n",
       "        vertical-align: top;\n",
       "    }\n",
       "\n",
       "    .dataframe thead th {\n",
       "        text-align: right;\n",
       "    }\n",
       "</style>\n",
       "<table border=\"1\" class=\"dataframe\">\n",
       "  <thead>\n",
       "    <tr style=\"text-align: right;\">\n",
       "      <th></th>\n",
       "      <th>browser</th>\n",
       "      <th>os</th>\n",
       "      <th>locale</th>\n",
       "      <th>location</th>\n",
       "      <th>act_date</th>\n",
       "      <th>month</th>\n",
       "      <th>day</th>\n",
       "      <th>hour</th>\n",
       "    </tr>\n",
       "  </thead>\n",
       "  <tbody>\n",
       "    <tr>\n",
       "      <th>0</th>\n",
       "      <td>Internet Explorer</td>\n",
       "      <td>Windows 8</td>\n",
       "      <td>xh-ZA</td>\n",
       "      <td>France/Paris</td>\n",
       "      <td>2016-11-05 15:13:00+01:00</td>\n",
       "      <td>11</td>\n",
       "      <td>5</td>\n",
       "      <td>15.216667</td>\n",
       "    </tr>\n",
       "    <tr>\n",
       "      <th>1</th>\n",
       "      <td>Chrome</td>\n",
       "      <td>Windows 10</td>\n",
       "      <td>ja-JP</td>\n",
       "      <td>Germany/Berlin</td>\n",
       "      <td>2017-02-22 22:06:00+01:00</td>\n",
       "      <td>2</td>\n",
       "      <td>22</td>\n",
       "      <td>22.100000</td>\n",
       "    </tr>\n",
       "    <tr>\n",
       "      <th>2</th>\n",
       "      <td>Chrome</td>\n",
       "      <td>Windows 10</td>\n",
       "      <td>it-IT</td>\n",
       "      <td>Singapore/Singapore</td>\n",
       "      <td>2016-01-30 21:17:00+08:00</td>\n",
       "      <td>1</td>\n",
       "      <td>30</td>\n",
       "      <td>21.283333</td>\n",
       "    </tr>\n",
       "    <tr>\n",
       "      <th>3</th>\n",
       "      <td>Chrome</td>\n",
       "      <td>Windows 10</td>\n",
       "      <td>ur-PK</td>\n",
       "      <td>UK/London</td>\n",
       "      <td>2017-02-27 17:00:00+00:00</td>\n",
       "      <td>2</td>\n",
       "      <td>27</td>\n",
       "      <td>17.000000</td>\n",
       "    </tr>\n",
       "    <tr>\n",
       "      <th>4</th>\n",
       "      <td>Firefox</td>\n",
       "      <td>Ubuntu</td>\n",
       "      <td>en-CA</td>\n",
       "      <td>Russia/Moscow</td>\n",
       "      <td>2017-04-19 21:11:00+03:00</td>\n",
       "      <td>4</td>\n",
       "      <td>19</td>\n",
       "      <td>21.183333</td>\n",
       "    </tr>\n",
       "  </tbody>\n",
       "</table>\n",
       "</div>"
      ]
     },
     "execution_count": 191,
     "metadata": {},
     "output_type": "execute_result"
    }
   ],
   "execution_count": 191
  },
  {
   "cell_type": "code",
   "source": [
    "hidden_set = hidden_set.drop(columns=[\"act_date\"])"
   ],
   "metadata": {
    "id": "JCutsHvefUu6",
    "ExecuteTime": {
     "end_time": "2024-04-29T15:58:28.747274Z",
     "start_time": "2024-04-29T15:58:28.718277Z"
    }
   },
   "id": "JCutsHvefUu6",
   "outputs": [],
   "execution_count": 192
  },
  {
   "cell_type": "code",
   "source": [
    "hidden_set['cos_h'] = np.cos( 2* np.pi*hidden_set['hour']/24)\n",
    "hidden_set['sin_h'] = np.sin( 2* np.pi*hidden_set['hour']/24)\n",
    "hidden_set['cos_month'] = np.cos( 2* np.pi*hidden_set['month']/12)\n",
    "hidden_set['sin_month'] = np.sin( 2* np.pi*hidden_set['month']/12)\n",
    "hidden_set['cos_day'] = np.cos( 2* np.pi*hidden_set['day']/31)\n",
    "hidden_set['sin_day'] = np.sin( 2* np.pi*hidden_set['day']/31)\n",
    "hidden_set.head()"
   ],
   "metadata": {
    "id": "_vkrNqaK3st9",
    "colab": {
     "base_uri": "https://localhost:8080/",
     "height": 275
    },
    "outputId": "f12a799e-da76-47bb-9792-fa3585c802da",
    "ExecuteTime": {
     "end_time": "2024-04-29T15:58:28.792276Z",
     "start_time": "2024-04-29T15:58:28.749280Z"
    }
   },
   "id": "_vkrNqaK3st9",
   "outputs": [
    {
     "data": {
      "text/plain": [
       "             browser          os locale             location  month  day  \\\n",
       "0  Internet Explorer   Windows 8  xh-ZA         France/Paris     11    5   \n",
       "1             Chrome  Windows 10  ja-JP       Germany/Berlin      2   22   \n",
       "2             Chrome  Windows 10  it-IT  Singapore/Singapore      1   30   \n",
       "3             Chrome  Windows 10  ur-PK            UK/London      2   27   \n",
       "4            Firefox      Ubuntu  en-CA        Russia/Moscow      4   19   \n",
       "\n",
       "        hour     cos_h     sin_h  cos_month  sin_month   cos_day   sin_day  \n",
       "0  15.216667 -0.665882 -0.746057   0.866025  -0.500000  0.528964  0.848644  \n",
       "1  22.100000  0.878817 -0.477159   0.500000   0.866025 -0.250653 -0.968077  \n",
       "2  21.283333  0.757565 -0.652760   0.866025   0.500000  0.979530 -0.201299  \n",
       "3  17.000000 -0.258819 -0.965926   0.500000   0.866025  0.688967 -0.724793  \n",
       "4  21.183333  0.740218 -0.672367  -0.500000   0.866025 -0.758758 -0.651372  "
      ],
      "text/html": [
       "<div>\n",
       "<style scoped>\n",
       "    .dataframe tbody tr th:only-of-type {\n",
       "        vertical-align: middle;\n",
       "    }\n",
       "\n",
       "    .dataframe tbody tr th {\n",
       "        vertical-align: top;\n",
       "    }\n",
       "\n",
       "    .dataframe thead th {\n",
       "        text-align: right;\n",
       "    }\n",
       "</style>\n",
       "<table border=\"1\" class=\"dataframe\">\n",
       "  <thead>\n",
       "    <tr style=\"text-align: right;\">\n",
       "      <th></th>\n",
       "      <th>browser</th>\n",
       "      <th>os</th>\n",
       "      <th>locale</th>\n",
       "      <th>location</th>\n",
       "      <th>month</th>\n",
       "      <th>day</th>\n",
       "      <th>hour</th>\n",
       "      <th>cos_h</th>\n",
       "      <th>sin_h</th>\n",
       "      <th>cos_month</th>\n",
       "      <th>sin_month</th>\n",
       "      <th>cos_day</th>\n",
       "      <th>sin_day</th>\n",
       "    </tr>\n",
       "  </thead>\n",
       "  <tbody>\n",
       "    <tr>\n",
       "      <th>0</th>\n",
       "      <td>Internet Explorer</td>\n",
       "      <td>Windows 8</td>\n",
       "      <td>xh-ZA</td>\n",
       "      <td>France/Paris</td>\n",
       "      <td>11</td>\n",
       "      <td>5</td>\n",
       "      <td>15.216667</td>\n",
       "      <td>-0.665882</td>\n",
       "      <td>-0.746057</td>\n",
       "      <td>0.866025</td>\n",
       "      <td>-0.500000</td>\n",
       "      <td>0.528964</td>\n",
       "      <td>0.848644</td>\n",
       "    </tr>\n",
       "    <tr>\n",
       "      <th>1</th>\n",
       "      <td>Chrome</td>\n",
       "      <td>Windows 10</td>\n",
       "      <td>ja-JP</td>\n",
       "      <td>Germany/Berlin</td>\n",
       "      <td>2</td>\n",
       "      <td>22</td>\n",
       "      <td>22.100000</td>\n",
       "      <td>0.878817</td>\n",
       "      <td>-0.477159</td>\n",
       "      <td>0.500000</td>\n",
       "      <td>0.866025</td>\n",
       "      <td>-0.250653</td>\n",
       "      <td>-0.968077</td>\n",
       "    </tr>\n",
       "    <tr>\n",
       "      <th>2</th>\n",
       "      <td>Chrome</td>\n",
       "      <td>Windows 10</td>\n",
       "      <td>it-IT</td>\n",
       "      <td>Singapore/Singapore</td>\n",
       "      <td>1</td>\n",
       "      <td>30</td>\n",
       "      <td>21.283333</td>\n",
       "      <td>0.757565</td>\n",
       "      <td>-0.652760</td>\n",
       "      <td>0.866025</td>\n",
       "      <td>0.500000</td>\n",
       "      <td>0.979530</td>\n",
       "      <td>-0.201299</td>\n",
       "    </tr>\n",
       "    <tr>\n",
       "      <th>3</th>\n",
       "      <td>Chrome</td>\n",
       "      <td>Windows 10</td>\n",
       "      <td>ur-PK</td>\n",
       "      <td>UK/London</td>\n",
       "      <td>2</td>\n",
       "      <td>27</td>\n",
       "      <td>17.000000</td>\n",
       "      <td>-0.258819</td>\n",
       "      <td>-0.965926</td>\n",
       "      <td>0.500000</td>\n",
       "      <td>0.866025</td>\n",
       "      <td>0.688967</td>\n",
       "      <td>-0.724793</td>\n",
       "    </tr>\n",
       "    <tr>\n",
       "      <th>4</th>\n",
       "      <td>Firefox</td>\n",
       "      <td>Ubuntu</td>\n",
       "      <td>en-CA</td>\n",
       "      <td>Russia/Moscow</td>\n",
       "      <td>4</td>\n",
       "      <td>19</td>\n",
       "      <td>21.183333</td>\n",
       "      <td>0.740218</td>\n",
       "      <td>-0.672367</td>\n",
       "      <td>-0.500000</td>\n",
       "      <td>0.866025</td>\n",
       "      <td>-0.758758</td>\n",
       "      <td>-0.651372</td>\n",
       "    </tr>\n",
       "  </tbody>\n",
       "</table>\n",
       "</div>"
      ]
     },
     "execution_count": 193,
     "metadata": {},
     "output_type": "execute_result"
    }
   ],
   "execution_count": 193
  },
  {
   "cell_type": "code",
   "source": [
    "hidden_set = hidden_set.drop(columns=[\"month\", \"day\", \"hour\"])"
   ],
   "metadata": {
    "id": "q8SwhO2Kk1Ft",
    "ExecuteTime": {
     "end_time": "2024-04-29T15:58:28.823275Z",
     "start_time": "2024-04-29T15:58:28.794281Z"
    }
   },
   "id": "q8SwhO2Kk1Ft",
   "outputs": [],
   "execution_count": 194
  },
  {
   "cell_type": "code",
   "source": [
    "validation_set = pd.DataFrame(ohe.transform(hidden_set.iloc[:, :-non_cat_features_number]), columns=ohe.get_feature_names_out(hidden_set.iloc[:, :-non_cat_features_number].columns))\n",
    "validation_set = pd.concat([validation_set, hidden_set.iloc[:, -non_cat_features_number:]], axis='columns')\n",
    "validation_set.head()"
   ],
   "metadata": {
    "id": "fJNdogaR4EOi",
    "colab": {
     "base_uri": "https://localhost:8080/",
     "height": 273
    },
    "outputId": "376ddb04-7770-4091-a243-6c5ed1920289",
    "ExecuteTime": {
     "end_time": "2024-04-29T15:58:28.981290Z",
     "start_time": "2024-04-29T15:58:28.825285Z"
    }
   },
   "id": "fJNdogaR4EOi",
   "outputs": [
    {
     "data": {
      "text/plain": [
       "   browser_Chrome  browser_Firefox  browser_Internet Explorer  browser_Safari  \\\n",
       "0             0.0              0.0                        1.0             0.0   \n",
       "1             1.0              0.0                        0.0             0.0   \n",
       "2             1.0              0.0                        0.0             0.0   \n",
       "3             1.0              0.0                        0.0             0.0   \n",
       "4             0.0              1.0                        0.0             0.0   \n",
       "\n",
       "   os_Debian  os_MacOS  os_Ubuntu  os_Windows 10  os_Windows 7  os_Windows 8  \\\n",
       "0        0.0       0.0        0.0            0.0           0.0           1.0   \n",
       "1        0.0       0.0        0.0            1.0           0.0           0.0   \n",
       "2        0.0       0.0        0.0            1.0           0.0           0.0   \n",
       "3        0.0       0.0        0.0            1.0           0.0           0.0   \n",
       "4        0.0       0.0        1.0            0.0           0.0           0.0   \n",
       "\n",
       "   ...  location_USA/Chicago  location_USA/Miami  location_USA/New York  \\\n",
       "0  ...                   0.0                 0.0                    0.0   \n",
       "1  ...                   0.0                 0.0                    0.0   \n",
       "2  ...                   0.0                 0.0                    0.0   \n",
       "3  ...                   0.0                 0.0                    0.0   \n",
       "4  ...                   0.0                 0.0                    0.0   \n",
       "\n",
       "   location_USA/San Francisco     cos_h     sin_h  cos_month  sin_month  \\\n",
       "0                         0.0 -0.665882 -0.746057   0.866025  -0.500000   \n",
       "1                         0.0  0.878817 -0.477159   0.500000   0.866025   \n",
       "2                         0.0  0.757565 -0.652760   0.866025   0.500000   \n",
       "3                         0.0 -0.258819 -0.965926   0.500000   0.866025   \n",
       "4                         0.0  0.740218 -0.672367  -0.500000   0.866025   \n",
       "\n",
       "    cos_day   sin_day  \n",
       "0  0.528964  0.848644  \n",
       "1 -0.250653 -0.968077  \n",
       "2  0.979530 -0.201299  \n",
       "3  0.688967 -0.724793  \n",
       "4 -0.758758 -0.651372  \n",
       "\n",
       "[5 rows x 62 columns]"
      ],
      "text/html": [
       "<div>\n",
       "<style scoped>\n",
       "    .dataframe tbody tr th:only-of-type {\n",
       "        vertical-align: middle;\n",
       "    }\n",
       "\n",
       "    .dataframe tbody tr th {\n",
       "        vertical-align: top;\n",
       "    }\n",
       "\n",
       "    .dataframe thead th {\n",
       "        text-align: right;\n",
       "    }\n",
       "</style>\n",
       "<table border=\"1\" class=\"dataframe\">\n",
       "  <thead>\n",
       "    <tr style=\"text-align: right;\">\n",
       "      <th></th>\n",
       "      <th>browser_Chrome</th>\n",
       "      <th>browser_Firefox</th>\n",
       "      <th>browser_Internet Explorer</th>\n",
       "      <th>browser_Safari</th>\n",
       "      <th>os_Debian</th>\n",
       "      <th>os_MacOS</th>\n",
       "      <th>os_Ubuntu</th>\n",
       "      <th>os_Windows 10</th>\n",
       "      <th>os_Windows 7</th>\n",
       "      <th>os_Windows 8</th>\n",
       "      <th>...</th>\n",
       "      <th>location_USA/Chicago</th>\n",
       "      <th>location_USA/Miami</th>\n",
       "      <th>location_USA/New York</th>\n",
       "      <th>location_USA/San Francisco</th>\n",
       "      <th>cos_h</th>\n",
       "      <th>sin_h</th>\n",
       "      <th>cos_month</th>\n",
       "      <th>sin_month</th>\n",
       "      <th>cos_day</th>\n",
       "      <th>sin_day</th>\n",
       "    </tr>\n",
       "  </thead>\n",
       "  <tbody>\n",
       "    <tr>\n",
       "      <th>0</th>\n",
       "      <td>0.0</td>\n",
       "      <td>0.0</td>\n",
       "      <td>1.0</td>\n",
       "      <td>0.0</td>\n",
       "      <td>0.0</td>\n",
       "      <td>0.0</td>\n",
       "      <td>0.0</td>\n",
       "      <td>0.0</td>\n",
       "      <td>0.0</td>\n",
       "      <td>1.0</td>\n",
       "      <td>...</td>\n",
       "      <td>0.0</td>\n",
       "      <td>0.0</td>\n",
       "      <td>0.0</td>\n",
       "      <td>0.0</td>\n",
       "      <td>-0.665882</td>\n",
       "      <td>-0.746057</td>\n",
       "      <td>0.866025</td>\n",
       "      <td>-0.500000</td>\n",
       "      <td>0.528964</td>\n",
       "      <td>0.848644</td>\n",
       "    </tr>\n",
       "    <tr>\n",
       "      <th>1</th>\n",
       "      <td>1.0</td>\n",
       "      <td>0.0</td>\n",
       "      <td>0.0</td>\n",
       "      <td>0.0</td>\n",
       "      <td>0.0</td>\n",
       "      <td>0.0</td>\n",
       "      <td>0.0</td>\n",
       "      <td>1.0</td>\n",
       "      <td>0.0</td>\n",
       "      <td>0.0</td>\n",
       "      <td>...</td>\n",
       "      <td>0.0</td>\n",
       "      <td>0.0</td>\n",
       "      <td>0.0</td>\n",
       "      <td>0.0</td>\n",
       "      <td>0.878817</td>\n",
       "      <td>-0.477159</td>\n",
       "      <td>0.500000</td>\n",
       "      <td>0.866025</td>\n",
       "      <td>-0.250653</td>\n",
       "      <td>-0.968077</td>\n",
       "    </tr>\n",
       "    <tr>\n",
       "      <th>2</th>\n",
       "      <td>1.0</td>\n",
       "      <td>0.0</td>\n",
       "      <td>0.0</td>\n",
       "      <td>0.0</td>\n",
       "      <td>0.0</td>\n",
       "      <td>0.0</td>\n",
       "      <td>0.0</td>\n",
       "      <td>1.0</td>\n",
       "      <td>0.0</td>\n",
       "      <td>0.0</td>\n",
       "      <td>...</td>\n",
       "      <td>0.0</td>\n",
       "      <td>0.0</td>\n",
       "      <td>0.0</td>\n",
       "      <td>0.0</td>\n",
       "      <td>0.757565</td>\n",
       "      <td>-0.652760</td>\n",
       "      <td>0.866025</td>\n",
       "      <td>0.500000</td>\n",
       "      <td>0.979530</td>\n",
       "      <td>-0.201299</td>\n",
       "    </tr>\n",
       "    <tr>\n",
       "      <th>3</th>\n",
       "      <td>1.0</td>\n",
       "      <td>0.0</td>\n",
       "      <td>0.0</td>\n",
       "      <td>0.0</td>\n",
       "      <td>0.0</td>\n",
       "      <td>0.0</td>\n",
       "      <td>0.0</td>\n",
       "      <td>1.0</td>\n",
       "      <td>0.0</td>\n",
       "      <td>0.0</td>\n",
       "      <td>...</td>\n",
       "      <td>0.0</td>\n",
       "      <td>0.0</td>\n",
       "      <td>0.0</td>\n",
       "      <td>0.0</td>\n",
       "      <td>-0.258819</td>\n",
       "      <td>-0.965926</td>\n",
       "      <td>0.500000</td>\n",
       "      <td>0.866025</td>\n",
       "      <td>0.688967</td>\n",
       "      <td>-0.724793</td>\n",
       "    </tr>\n",
       "    <tr>\n",
       "      <th>4</th>\n",
       "      <td>0.0</td>\n",
       "      <td>1.0</td>\n",
       "      <td>0.0</td>\n",
       "      <td>0.0</td>\n",
       "      <td>0.0</td>\n",
       "      <td>0.0</td>\n",
       "      <td>1.0</td>\n",
       "      <td>0.0</td>\n",
       "      <td>0.0</td>\n",
       "      <td>0.0</td>\n",
       "      <td>...</td>\n",
       "      <td>0.0</td>\n",
       "      <td>0.0</td>\n",
       "      <td>0.0</td>\n",
       "      <td>0.0</td>\n",
       "      <td>0.740218</td>\n",
       "      <td>-0.672367</td>\n",
       "      <td>-0.500000</td>\n",
       "      <td>0.866025</td>\n",
       "      <td>-0.758758</td>\n",
       "      <td>-0.651372</td>\n",
       "    </tr>\n",
       "  </tbody>\n",
       "</table>\n",
       "<p>5 rows × 62 columns</p>\n",
       "</div>"
      ]
     },
     "execution_count": 195,
     "metadata": {},
     "output_type": "execute_result"
    }
   ],
   "execution_count": 195
  },
  {
   "cell_type": "code",
   "source": [
    "validation_set = validation_set.astype('float32')"
   ],
   "metadata": {
    "id": "U3fSwPqj5LO2",
    "ExecuteTime": {
     "end_time": "2024-04-29T15:58:29.013276Z",
     "start_time": "2024-04-29T15:58:28.984284Z"
    }
   },
   "id": "U3fSwPqj5LO2",
   "outputs": [],
   "execution_count": 196
  },
  {
   "cell_type": "code",
   "source": [
    "validation_set = torch.tensor(validation_set.values)"
   ],
   "metadata": {
    "id": "2ume4nSm6Ojr",
    "ExecuteTime": {
     "end_time": "2024-04-29T15:58:29.045274Z",
     "start_time": "2024-04-29T15:58:29.022273Z"
    }
   },
   "id": "2ume4nSm6Ojr",
   "outputs": [],
   "execution_count": 197
  },
  {
   "cell_type": "code",
   "source": [
    "val_dataset = TensorDataset(validation_set)\n",
    "\n",
    "# Create data loaders\n",
    "val_loader = DataLoader(val_dataset, batch_size=batch_size)"
   ],
   "metadata": {
    "id": "K4_vIDO56X2g",
    "ExecuteTime": {
     "end_time": "2024-04-29T15:58:29.069287Z",
     "start_time": "2024-04-29T15:58:29.048282Z"
    }
   },
   "id": "K4_vIDO56X2g",
   "outputs": [],
   "execution_count": 198
  },
  {
   "cell_type": "code",
   "source": [
    "def make_predictions(model, device, validation_loader):\n",
    "    \"\"\"\n",
    "    Function to predict users in validation set.\n",
    "\n",
    "    Args:\n",
    "        model: Model to make predictions on.\n",
    "        device: Device which is used (e.g., 'cpu' or 'cuda').\n",
    "        validation_loader: The loader used for data.\n",
    "    Returns:\n",
    "        predictions\n",
    "    \"\"\"\n",
    "    model.eval()\n",
    "    result = torch.empty((0, 1), dtype=torch.int64).to(device)\n",
    "    with torch.no_grad():\n",
    "        for data in validation_loader:\n",
    "            data = data[0].to(device)\n",
    "            output = model(data)\n",
    "            pred = output.argmax(dim=1, keepdim=True)\n",
    "            result = torch.cat((result, pred), 0)\n",
    "    return result"
   ],
   "metadata": {
    "id": "IRmLmEb5AZdx",
    "ExecuteTime": {
     "end_time": "2024-04-29T15:58:29.093273Z",
     "start_time": "2024-04-29T15:58:29.073285Z"
    }
   },
   "id": "IRmLmEb5AZdx",
   "outputs": [],
   "execution_count": 199
  },
  {
   "cell_type": "code",
   "source": [
    "predicted = make_predictions(model, device, val_loader).cpu().numpy()"
   ],
   "metadata": {
    "id": "lE2I9PwVCVgM",
    "ExecuteTime": {
     "end_time": "2024-04-29T15:58:30.001904Z",
     "start_time": "2024-04-29T15:58:29.097291Z"
    }
   },
   "id": "lE2I9PwVCVgM",
   "outputs": [],
   "execution_count": 200
  },
  {
   "cell_type": "code",
   "source": [
    "predicted.sum()"
   ],
   "metadata": {
    "id": "BuviuLXNjVbT",
    "colab": {
     "base_uri": "https://localhost:8080/"
    },
    "outputId": "77057fb9-0d43-42c0-e908-dc0ac0f09280",
    "ExecuteTime": {
     "end_time": "2024-04-29T15:58:30.016900Z",
     "start_time": "2024-04-29T15:58:30.003908Z"
    }
   },
   "id": "BuviuLXNjVbT",
   "outputs": [
    {
     "data": {
      "text/plain": [
       "172"
      ]
     },
     "execution_count": 201,
     "metadata": {},
     "output_type": "execute_result"
    }
   ],
   "execution_count": 201
  },
  {
   "cell_type": "markdown",
   "source": "172 entries were classified as Waldo's entries",
   "metadata": {
    "id": "4B7kKWr8p0ZN"
   },
   "id": "4B7kKWr8p0ZN"
  },
  {
   "cell_type": "code",
   "source": [
    "import json\n",
    "with open('task_1_verify.json', 'r') as file:\n",
    "    data = json.load(file)\n",
    "\n",
    "# Loop through each entry in the array and add the new field\n",
    "idx = 0\n",
    "for entry in data:\n",
    "    entry[\"is_waldo\"] = bool(predicted[idx])\n",
    "    idx += 1\n",
    "\n",
    "# Write the updated data back to the JSON file\n",
    "with open('task_1_verify.json', 'w') as file:\n",
    "    json.dump(data, file, indent=4)"
   ],
   "metadata": {
    "id": "1i52Ra7k0E3Y",
    "ExecuteTime": {
     "end_time": "2024-04-29T15:58:35.765426Z",
     "start_time": "2024-04-29T15:58:30.019907Z"
    }
   },
   "id": "1i52Ra7k0E3Y",
   "outputs": [],
   "execution_count": 202
  }
 ],
 "metadata": {
  "kernelspec": {
   "display_name": "Python 3 (ipykernel)",
   "name": "python3",
   "language": "python"
  },
  "language_info": {
   "codemirror_mode": {
    "name": "ipython",
    "version": 3
   },
   "file_extension": ".py",
   "mimetype": "text/x-python",
   "name": "python",
   "nbconvert_exporter": "python",
   "pygments_lexer": "ipython3",
   "version": "3.9.13"
  },
  "colab": {
   "provenance": [],
   "gpuType": "T4"
  },
  "accelerator": "GPU"
 },
 "nbformat": 4,
 "nbformat_minor": 5
}
