{
 "cells": [
  {
   "cell_type": "markdown",
   "id": "ad909418-3384-444f-a7b6-f85a80eefa27",
   "metadata": {
    "id": "ad909418-3384-444f-a7b6-f85a80eefa27"
   },
   "source": [
    "# Assignment 2\n",
    "\n",
    "This assignment serves as a comprehensive evaluation of your machine learning skills, encompassing not only the technical aspects of model development but also your ability to analyze, interpret, and present data insights effectively. As such, it's essential to ensure that your submission is complete, functional, and devoid of any obvious gaps, as if you were delivering this project to a client.\n",
    "\n",
    "To achieve this, leverage the full capabilities of Markdown and the interactive visualization tools available in Jupyter notebooks to craft a well-structured and visually appealing report of your findings. Your report should clearly communicate the insights you've gained from the exploratory data analysis, the rationale behind your data preprocessing and feature engineering decisions, and a thorough analysis of feature importance. High-quality visualizations and well-organized documentation will not only support your analysis but also make your results more accessible and understandable to your audience.\n",
    "\n",
    "Remember, the ability to present complex results in an intuitive and engaging manner is a crucial skill, almost as important as the technical proficiency in model building and data analysis. Treat this assignment as an opportunity to showcase your skills in both areas.\n",
    "\n",
    "## Instructions\n",
    "- Your submission should be a `.ipynb` file with your name,\n",
    "  like `FirstnameLastname.ipynb`. It should include the answers to the questions in markdown cells, your data analysis and results.\n",
    "- You are expected to follow the best practices for code writing and model\n",
    "training. Poor coding style will be penalized.\n",
    "- You are allowed to discuss ideas with your peers, but no sharing of code.\n",
    "Plagiarism in the code will result in failing. If you use code from the\n",
    "internet, cite it by adding the source of the code as a comment in the first line of the code cell. [Academic misconduct policy](https://wiki.innopolis.university/display/DOE/Academic+misconduct+policy)\n",
    "- In real life clients can give unclear goals or requirements. So, if the instructions seem vague, use common sense to make reasonable assumptions and decisions.\n",
    "\n",
    "## Self-Reliance and Exploration\n",
    "In this task, you're encouraged to rely on your resourcefulness and creativity. Dive into available resources, experiment with various solutions, and learn from every outcome. While our team is here to clarify task details and offer conceptual guidance, we encourage you to first seek answers independently. This approach is vital for developing your problem-solving skills in machine learning.\n",
    "\n"
   ]
  },
  {
   "cell_type": "markdown",
   "id": "f38d3afb-58f8-4335-8fac-074db8adeaa7",
   "metadata": {
    "id": "f38d3afb-58f8-4335-8fac-074db8adeaa7"
   },
   "source": [
    "# Task 2: Image Classification with CNNs (50%)\n",
    "\n",
    "In this task, you'll dive into the world of Convolutional Neural Networks (CNNs) by working with the CIFAR-10 dataset, a staple in image classification challenges. Your goal is to build and evaluate two different CNN models to classify images into one of the ten categories accurately.\n",
    "\n",
    "The dataset is availabel in pytorch and keras.\n",
    "\n",
    "## Part 1: Custom CNN Model (20%)\n",
    "\n",
    "- Design and train a CNN model from scratch tailored for the CIFAR-10 dataset.\n",
    "- Focus on the architecture that you believe will perform best for this specific task.\n",
    "- Integrate various techniques such as batch normalization, dropout, learning rate schedulers, and early stopping to improve model training. Experiment with these methods and finetune them to see how they affect training stability, convergence speed, and overall performance.\n",
    "\n",
    "## Part 2: Transfer Learning Model (20%)\n",
    "\n",
    "- Implement a transfer learning approach using a pre-trained model of your choice.\n",
    "- Fine-tune the model on the CIFAR-10 dataset to achieve the best possible performance.\n",
    "\n",
    "## Evaluation (10%)\n",
    "\n",
    "Ensure that both models are robust and generalized well to unseen data.\n",
    "\n",
    "After training both models, you will evaluate them on a provided test dataset.\n",
    "\n",
    "Compare your models based on:\n",
    "- **AUC-ROC**: How well does each model discriminate between classes?\n",
    "- **Model Size**: Consider the trade-offs in model complexity.\n",
    "- **Inference Speed**: Evaluate how quickly your model can predict classes for new images.\n",
    "\n",
    "Reflect on the performance, size, and inference speed of both models. What insights can you draw from these comparisons?\n",
    "\n",
    "### Learning Objectives\n",
    "\n",
    "- Understand and apply CNNs for image classification.\n",
    "- Explore the impact of model architecture on performance and efficiency.\n",
    "- Learn the process and benefits of transfer learning in deep learning.\n",
    "\n",
    "Remember, the key to this task is not just about achieving the highest accuracy but also understanding the strengths and limitations of different approaches in machine learning model development."
   ]
  },
  {
   "cell_type": "code",
   "execution_count": 1,
   "id": "Kf58ArBDNYww",
   "metadata": {
    "execution": {
     "iopub.execute_input": "2024-05-01T04:50:40.324534Z",
     "iopub.status.busy": "2024-05-01T04:50:40.323602Z",
     "iopub.status.idle": "2024-05-01T04:50:42.680681Z",
     "shell.execute_reply": "2024-05-01T04:50:42.679558Z",
     "shell.execute_reply.started": "2024-05-01T04:50:40.324483Z"
    },
    "id": "Kf58ArBDNYww",
    "tags": []
   },
   "outputs": [],
   "source": [
    "# import libraries\n",
    "import torch.nn.functional as F\n",
    "import numpy as np\n",
    "import torch\n",
    "import torch.nn as nn\n",
    "from torch.utils.data import DataLoader\n",
    "from torchvision import models\n",
    "from torch.optim import SGD\n",
    "from torch.optim import lr_scheduler\n",
    "from time import time\n",
    "from tqdm import tqdm\n",
    "import torchvision.transforms as transforms\n",
    "from torchvision.transforms import ToTensor, Normalize\n",
    "from torchvision.datasets import CIFAR10\n",
    "from torch.utils.data import DataLoader\n",
    "from sklearn.metrics import roc_auc_score\n",
    "import time"
   ]
  },
  {
   "cell_type": "markdown",
   "id": "a904d99af7a944a3",
   "metadata": {
    "id": "a904d99af7a944a3"
   },
   "source": [
    "The train and test function were inspired by code from lab-10"
   ]
  },
  {
   "cell_type": "code",
   "execution_count": 2,
   "id": "DQozpyYYNT5U",
   "metadata": {
    "execution": {
     "iopub.execute_input": "2024-05-01T04:50:42.684353Z",
     "iopub.status.busy": "2024-05-01T04:50:42.682425Z",
     "iopub.status.idle": "2024-05-01T04:50:42.702288Z",
     "shell.execute_reply": "2024-05-01T04:50:42.701218Z",
     "shell.execute_reply.started": "2024-05-01T04:50:42.684305Z"
    },
    "id": "DQozpyYYNT5U"
   },
   "outputs": [],
   "source": [
    "def train(model, device, train_loader, criterion, optimizer, epoch):\n",
    "    \"\"\"\n",
    "    Train the model for one epoch\n",
    "    :param model: model to be trained\n",
    "    :param device: device to be used for training\n",
    "    :param train_loader: train data loader\n",
    "    :param criterion: criterion to be used for training\n",
    "    :param optimizer: optimizer to be used for training\n",
    "    :param epoch: epoch number\n",
    "    :return: (train_loss, train_acc)\n",
    "    \"\"\"\n",
    "    model.train()\n",
    "    epoch_loss = 0\n",
    "    start_time = time.time()\n",
    "    correct = 0\n",
    "    iteration = 0\n",
    "\n",
    "    bar = tqdm(train_loader)\n",
    "    for data, target in bar:\n",
    "        data, target = data.to(device), target.to(device)\n",
    "        optimizer.zero_grad()\n",
    "\n",
    "        output = model(data)\n",
    "        # Get the index of the max log-probability\n",
    "        pred = output.argmax(dim=1, keepdim=True)\n",
    "        correct += pred.eq(target.view_as(pred)).sum().item()\n",
    "\n",
    "        loss = criterion(output, target)\n",
    "        loss.backward()\n",
    "        optimizer.step()\n",
    "\n",
    "        epoch_loss += loss.item()\n",
    "        iteration += 1\n",
    "        bar.set_postfix({\"Loss\": format(epoch_loss/iteration, '.6f')})\n",
    "\n",
    "    acc = 100. * correct / len(train_loader.dataset)\n",
    "    print(f'\\rTrain Epoch: {epoch}, elapsed time:{time.time()-start_time:.2f}s')\n",
    "    return epoch_loss, acc\n",
    "\n",
    "\n",
    "def test(model, device, test_loader, criterion):\n",
    "    \"\"\"\n",
    "    Test the model for one epoch\n",
    "    :param model: model to be tested\n",
    "    :param device: device to be used for testing\n",
    "    :param test_loader: test data loader\n",
    "    :param criterion: criterion to be used for testing\n",
    "    :return: (test_loss, test_acc)\n",
    "    \"\"\"\n",
    "    model.eval()\n",
    "    test_loss = 0\n",
    "    correct = 0\n",
    "    with torch.no_grad():\n",
    "        for data, target in test_loader:\n",
    "            data, target = data.to(device), target.to(device)\n",
    "            output = model(data)\n",
    "            test_loss += criterion(output, target).item()  # sum up batch loss\n",
    "            pred = output.argmax(dim=1, keepdim=True)  # get the index of the max log-probability\n",
    "            correct += pred.eq(target.view_as(pred)).sum().item()\n",
    "\n",
    "    acc = 100. * correct / len(test_loader.dataset)\n",
    "    return test_loss, acc"
   ]
  },
  {
   "cell_type": "code",
   "execution_count": 3,
   "id": "Uv-Xpw7lNaQi",
   "metadata": {
    "execution": {
     "iopub.execute_input": "2024-05-01T04:50:42.704765Z",
     "iopub.status.busy": "2024-05-01T04:50:42.704041Z",
     "iopub.status.idle": "2024-05-01T04:50:42.723632Z",
     "shell.execute_reply": "2024-05-01T04:50:42.722558Z",
     "shell.execute_reply.started": "2024-05-01T04:50:42.704720Z"
    },
    "id": "Uv-Xpw7lNaQi"
   },
   "outputs": [],
   "source": [
    "class CNN_from_scratch(nn.Module):\n",
    "    \"\"\"\n",
    "    CNN from scratch\n",
    "    \"\"\"\n",
    "    def __init__(self):\n",
    "        super(CNN_from_scratch, self).__init__()\n",
    "        self.conv0 = nn.Conv2d(3, 32, (3,3), padding=\"same\")\n",
    "        self.batchnorm0 = nn.BatchNorm2d(32)\n",
    "        self.activation0 = nn.ReLU()\n",
    "        self.pool0 = nn.MaxPool2d((2, 2))\n",
    "        self.dropout0 = nn.Dropout(0.25)\n",
    "\n",
    "        self.conv1 = nn.Conv2d(32, 64, (3,3), padding=\"same\")\n",
    "        self.batchnorm1 = nn.BatchNorm2d(64)\n",
    "        self.activation1 = nn.ReLU()\n",
    "        self.pool1 = nn.MaxPool2d((2, 2))\n",
    "        self.dropout1 = nn.Dropout(0.25)\n",
    "\n",
    "        self.conv2 = nn.Conv2d(64, 64, (3,3), padding=\"same\")\n",
    "        self.batchnorm2 = nn.BatchNorm2d(64)\n",
    "        self.activation2 = nn.ReLU()\n",
    "        self.pool2 = nn.MaxPool2d((2, 2))\n",
    "        self.dropout2 = nn.Dropout(0.25)\n",
    "\n",
    "        self.flat = nn.Flatten()\n",
    "        self.linear0 = nn.Linear(64*16, 512)\n",
    "        self.batchnorm3 = nn.BatchNorm1d(512)\n",
    "        self.activation3 = nn.ReLU()\n",
    "        self.dropout3 = nn.Dropout(0.5)\n",
    "        self.output = nn.Linear(512, 10)\n",
    "\n",
    "    def forward(self, x):\n",
    "        x = self.conv0(x)\n",
    "        x = self.batchnorm0(x)\n",
    "        x = self.activation0(x)\n",
    "        x = self.pool0(x)\n",
    "        x = self.dropout0(x)\n",
    "\n",
    "        x = self.conv1(x)\n",
    "        x = self.batchnorm1(x)\n",
    "        x = self.activation1(x)\n",
    "        x = self.pool1(x)\n",
    "        x = self.dropout1(x)\n",
    "\n",
    "        x = self.conv2(x)\n",
    "        x = self.batchnorm2(x)\n",
    "        x = self.activation2(x)\n",
    "        x = self.pool2(x)\n",
    "        x = self.dropout2(x)\n",
    "\n",
    "        x = self.flat(x)\n",
    "        x = self.linear0(x)\n",
    "        x = self.batchnorm3(x)\n",
    "        x = self.activation3(x)\n",
    "        x = self.dropout3(x)\n",
    "\n",
    "        x = self.output(x)\n",
    "        return x\n"
   ]
  },
  {
   "cell_type": "code",
   "execution_count": 4,
   "id": "OF-IgyMxbRzn",
   "metadata": {
    "execution": {
     "iopub.execute_input": "2024-05-01T04:50:44.438928Z",
     "iopub.status.busy": "2024-05-01T04:50:44.438315Z",
     "iopub.status.idle": "2024-05-01T04:50:44.493189Z",
     "shell.execute_reply": "2024-05-01T04:50:44.491985Z",
     "shell.execute_reply.started": "2024-05-01T04:50:44.438896Z"
    },
    "id": "OF-IgyMxbRzn"
   },
   "outputs": [],
   "source": [
    "# using gpu with cuda if available\n",
    "use_cuda = torch.cuda.is_available()\n",
    "device = torch.device(\"cuda\" if use_cuda else \"cpu\")"
   ]
  },
  {
   "cell_type": "code",
   "execution_count": 5,
   "id": "ik2Wfd9BSWeS",
   "metadata": {
    "execution": {
     "iopub.execute_input": "2024-05-01T04:50:44.920157Z",
     "iopub.status.busy": "2024-05-01T04:50:44.919332Z",
     "iopub.status.idle": "2024-05-01T04:50:45.256195Z",
     "shell.execute_reply": "2024-05-01T04:50:45.255031Z",
     "shell.execute_reply.started": "2024-05-01T04:50:44.920122Z"
    },
    "id": "ik2Wfd9BSWeS"
   },
   "outputs": [],
   "source": [
    "# shifting model to run on selected device\n",
    "model = CNN_from_scratch().to(device)"
   ]
  },
  {
   "cell_type": "markdown",
   "id": "cc062ac2262e05e9",
   "metadata": {
    "id": "cc062ac2262e05e9"
   },
   "source": [
    "I used transformations for the image from https://sidthoviti.com/fine-tuning-resnet50-pretrained-on-imagenet-for-cifar-10/"
   ]
  },
  {
   "cell_type": "code",
   "execution_count": 6,
   "id": "Gx-hkXE5T4hm",
   "metadata": {
    "execution": {
     "iopub.execute_input": "2024-05-01T04:50:45.582379Z",
     "iopub.status.busy": "2024-05-01T04:50:45.581697Z",
     "iopub.status.idle": "2024-05-01T04:50:45.608993Z",
     "shell.execute_reply": "2024-05-01T04:50:45.607775Z",
     "shell.execute_reply.started": "2024-05-01T04:50:45.582332Z"
    },
    "id": "Gx-hkXE5T4hm",
    "tags": []
   },
   "outputs": [],
   "source": [
    "# transformations on an images from train and test sets\n",
    "train_batch_size = 32\n",
    "test_batch_size = 32\n",
    "\n",
    "# Put augmentations\n",
    "train_transforms = transforms.Compose([\n",
    "    transforms.RandomCrop(32, padding=2),\n",
    "    transforms.ToTensor(),\n",
    "    transforms.Normalize((0.4914, 0.4822, 0.4465), (0.2023, 0.1994, 0.2010))\n",
    "])\n",
    "# Do not modify test transforms, because it will corrupt test data\n",
    "test_transforms = transforms.Compose([\n",
    "    transforms.ToTensor(),\n",
    "    transforms.Normalize((0.4914, 0.4822, 0.4465), (0.2023, 0.1994, 0.2010))\n",
    "])"
   ]
  },
  {
   "cell_type": "code",
   "execution_count": 7,
   "id": "zxcsG4xnTraP",
   "metadata": {
    "colab": {
     "base_uri": "https://localhost:8080/"
    },
    "execution": {
     "iopub.execute_input": "2024-05-01T04:50:45.975599Z",
     "iopub.status.busy": "2024-05-01T04:50:45.974532Z",
     "iopub.status.idle": "2024-05-01T04:50:47.968723Z",
     "shell.execute_reply": "2024-05-01T04:50:47.967421Z",
     "shell.execute_reply.started": "2024-05-01T04:50:45.975545Z"
    },
    "id": "zxcsG4xnTraP",
    "outputId": "9cede206-27ed-4742-b014-312235fe409b",
    "tags": []
   },
   "outputs": [
    {
     "name": "stdout",
     "output_type": "stream",
     "text": [
      "Files already downloaded and verified\n",
      "Files already downloaded and verified\n"
     ]
    }
   ],
   "source": [
    "# loading CIFAR-10 dataset\n",
    "train_dataset = CIFAR10(root='cifar10', train=True, transform=train_transforms,download=True)\n",
    "test_dataset = CIFAR10(root='cifar10', train=False, transform=test_transforms, download=True)\n",
    "\n",
    "train_loader = DataLoader(dataset=train_dataset, batch_size=train_batch_size,\n",
    "                          num_workers=2, shuffle=True)\n",
    "test_loader = DataLoader(dataset=test_dataset, batch_size=test_batch_size,\n",
    "                         num_workers=2, shuffle=False)"
   ]
  },
  {
   "cell_type": "code",
   "execution_count": 9,
   "id": "XqRR5FJ0T6hW",
   "metadata": {
    "execution": {
     "iopub.execute_input": "2024-05-01T04:50:47.996764Z",
     "iopub.status.busy": "2024-05-01T04:50:47.996002Z",
     "iopub.status.idle": "2024-05-01T04:50:48.014221Z",
     "shell.execute_reply": "2024-05-01T04:50:48.013179Z",
     "shell.execute_reply.started": "2024-05-01T04:50:47.996731Z"
    },
    "id": "XqRR5FJ0T6hW"
   },
   "outputs": [],
   "source": [
    "def training(selected_model, selected_model_name, tr_loader, tst_loader, chosen_criterion, chosen_optimizer, chosen_scheduler, epochs, early_stopping_patience):\n",
    "    \"\"\"\n",
    "    Start the training process\n",
    "    :param selected_model: selected model to be trained and evaluated\n",
    "    :param selected_model_name: model name to save\n",
    "    :param tr_loader: train data loader\n",
    "    :param tst_loader: test data loader\n",
    "    :param chosen_criterion: chosen criterion to be used for training\n",
    "    :param chosen_optimizer: chosen optimizer to be used for training\n",
    "    :param chosen_scheduler: chosen scheduler to be used for training\n",
    "    :param epochs: epochs to be used for training\n",
    "    :param early_stopping_patience:\n",
    "    :return: none\n",
    "    \"\"\"\n",
    "    count = 0\n",
    "    min_test_loss = np.inf\n",
    "    for epoch in range(0, epochs):\n",
    "        train_loss, train_acc = train(selected_model, device, tr_loader, chosen_criterion, chosen_optimizer, epoch)\n",
    "        # Update learning rate if needed\n",
    "        chosen_scheduler.step(train_loss)\n",
    "        test_loss, test_acc = test(selected_model, device, tst_loader, chosen_criterion)\n",
    "        if test_loss < min_test_loss:\n",
    "          min_test_loss = test_loss\n",
    "          count = 0\n",
    "          torch.save(selected_model.state_dict(), f\"{selected_model_name}.pt\")\n",
    "        else:\n",
    "          count += 1\n",
    "          if early_stopping_patience < count:\n",
    "            print(\"Early stopping, restoring the model\")\n",
    "            selected_model.load_state_dict(torch.load(f\"{selected_model_name}.pt\"))\n",
    "            break\n",
    "        print(f\"Training accuracy {train_acc}, test accuracy {test_acc}\")\n",
    "        print(f\"Training loss {train_loss}, test loss {test_loss}\")\n",
    "    torch.save(selected_model.state_dict(), f\"{selected_model_name}.pt\")\n",
    "\n"
   ]
  },
  {
   "cell_type": "code",
   "execution_count": null,
   "id": "e94cdbd8-79b5-43ac-b0e1-0858da622e6e",
   "metadata": {
    "ExecuteTime": {
     "end_time": "2024-04-17T10:43:27.361275900Z",
     "start_time": "2024-04-17T10:43:26.690490300Z"
    },
    "colab": {
     "base_uri": "https://localhost:8080/"
    },
    "execution": {
     "iopub.execute_input": "2024-05-01T04:50:48.016600Z",
     "iopub.status.busy": "2024-05-01T04:50:48.015794Z"
    },
    "id": "e94cdbd8-79b5-43ac-b0e1-0858da622e6e",
    "outputId": "1e9f640b-ccee-403f-898a-4b5b641d4542",
    "tags": []
   },
   "outputs": [
    {
     "name": "stderr",
     "output_type": "stream",
     "text": [
      "100%|██████████| 1563/1563 [00:14<00:00, 105.06it/s, Loss=1.717430]"
     ]
    },
    {
     "name": "stdout",
     "output_type": "stream",
     "text": [
      "Train Epoch: 0, elapsed time:14.88s\n"
     ]
    },
    {
     "name": "stderr",
     "output_type": "stream",
     "text": [
      "\n"
     ]
    },
    {
     "name": "stdout",
     "output_type": "stream",
     "text": [
      "Training accuracy 39.982, test accuracy 53.7\n",
      "Training loss 2684.3427271842957, test loss 393.1314752101898\n"
     ]
    },
    {
     "name": "stderr",
     "output_type": "stream",
     "text": [
      "100%|██████████| 1563/1563 [00:14<00:00, 106.46it/s, Loss=1.333396]"
     ]
    },
    {
     "name": "stdout",
     "output_type": "stream",
     "text": [
      "Train Epoch: 1, elapsed time:14.69s\n"
     ]
    },
    {
     "name": "stderr",
     "output_type": "stream",
     "text": [
      "\n"
     ]
    },
    {
     "name": "stdout",
     "output_type": "stream",
     "text": [
      "Training accuracy 52.774, test accuracy 63.99\n",
      "Training loss 2084.097537815571, test loss 316.6853007674217\n"
     ]
    },
    {
     "name": "stderr",
     "output_type": "stream",
     "text": [
      "100%|██████████| 1563/1563 [00:14<00:00, 106.11it/s, Loss=1.172279]"
     ]
    },
    {
     "name": "stdout",
     "output_type": "stream",
     "text": [
      "Train Epoch: 2, elapsed time:14.73s\n"
     ]
    },
    {
     "name": "stderr",
     "output_type": "stream",
     "text": [
      "\n"
     ]
    },
    {
     "name": "stdout",
     "output_type": "stream",
     "text": [
      "Training accuracy 58.386, test accuracy 67.48\n",
      "Training loss 1832.2717401385307, test loss 283.42907267808914\n"
     ]
    },
    {
     "name": "stderr",
     "output_type": "stream",
     "text": [
      "100%|██████████| 1563/1563 [00:14<00:00, 105.41it/s, Loss=1.073572]"
     ]
    },
    {
     "name": "stdout",
     "output_type": "stream",
     "text": [
      "Train Epoch: 3, elapsed time:14.83s\n"
     ]
    },
    {
     "name": "stderr",
     "output_type": "stream",
     "text": [
      "\n"
     ]
    },
    {
     "name": "stdout",
     "output_type": "stream",
     "text": [
      "Training accuracy 62.058, test accuracy 71.0\n",
      "Training loss 1677.9936173558235, test loss 258.2381289899349\n"
     ]
    },
    {
     "name": "stderr",
     "output_type": "stream",
     "text": [
      "100%|██████████| 1563/1563 [00:14<00:00, 105.58it/s, Loss=1.012182]"
     ]
    },
    {
     "name": "stdout",
     "output_type": "stream",
     "text": [
      "Train Epoch: 4, elapsed time:14.81s\n"
     ]
    },
    {
     "name": "stderr",
     "output_type": "stream",
     "text": [
      "\n"
     ]
    },
    {
     "name": "stdout",
     "output_type": "stream",
     "text": [
      "Training accuracy 64.408, test accuracy 72.9\n",
      "Training loss 1582.0403881072998, test loss 242.99641945958138\n"
     ]
    },
    {
     "name": "stderr",
     "output_type": "stream",
     "text": [
      "100%|██████████| 1563/1563 [00:14<00:00, 106.50it/s, Loss=0.955803]"
     ]
    },
    {
     "name": "stdout",
     "output_type": "stream",
     "text": [
      "Train Epoch: 5, elapsed time:14.68s\n"
     ]
    },
    {
     "name": "stderr",
     "output_type": "stream",
     "text": [
      "\n"
     ]
    },
    {
     "name": "stdout",
     "output_type": "stream",
     "text": [
      "Training accuracy 66.27, test accuracy 71.31\n",
      "Training loss 1493.920183032751, test loss 251.17013666033745\n"
     ]
    },
    {
     "name": "stderr",
     "output_type": "stream",
     "text": [
      "100%|██████████| 1563/1563 [00:14<00:00, 106.07it/s, Loss=0.933804]"
     ]
    },
    {
     "name": "stdout",
     "output_type": "stream",
     "text": [
      "Train Epoch: 6, elapsed time:14.74s\n"
     ]
    },
    {
     "name": "stderr",
     "output_type": "stream",
     "text": [
      "\n"
     ]
    },
    {
     "name": "stdout",
     "output_type": "stream",
     "text": [
      "Training accuracy 67.116, test accuracy 73.87\n",
      "Training loss 1459.5359247028828, test loss 229.45590242743492\n"
     ]
    },
    {
     "name": "stderr",
     "output_type": "stream",
     "text": [
      "100%|██████████| 1563/1563 [00:14<00:00, 106.30it/s, Loss=0.901495]"
     ]
    },
    {
     "name": "stdout",
     "output_type": "stream",
     "text": [
      "Train Epoch: 7, elapsed time:14.71s\n"
     ]
    },
    {
     "name": "stderr",
     "output_type": "stream",
     "text": [
      "\n"
     ]
    },
    {
     "name": "stdout",
     "output_type": "stream",
     "text": [
      "Training accuracy 68.346, test accuracy 74.54\n",
      "Training loss 1409.0365515351295, test loss 228.3044619858265\n"
     ]
    },
    {
     "name": "stderr",
     "output_type": "stream",
     "text": [
      "100%|██████████| 1563/1563 [00:14<00:00, 105.56it/s, Loss=0.875163]"
     ]
    },
    {
     "name": "stdout",
     "output_type": "stream",
     "text": [
      "Train Epoch: 8, elapsed time:14.81s\n"
     ]
    },
    {
     "name": "stderr",
     "output_type": "stream",
     "text": [
      "\n"
     ]
    },
    {
     "name": "stdout",
     "output_type": "stream",
     "text": [
      "Training accuracy 69.468, test accuracy 75.77\n",
      "Training loss 1367.8800333738327, test loss 215.44709372520447\n"
     ]
    },
    {
     "name": "stderr",
     "output_type": "stream",
     "text": [
      "100%|██████████| 1563/1563 [00:14<00:00, 105.83it/s, Loss=0.863376]\n"
     ]
    },
    {
     "name": "stdout",
     "output_type": "stream",
     "text": [
      "Train Epoch: 9, elapsed time:14.77s\n",
      "Training accuracy 69.776, test accuracy 75.57\n",
      "Training loss 1349.4567973911762, test loss 215.32906025648117\n"
     ]
    },
    {
     "name": "stderr",
     "output_type": "stream",
     "text": [
      "100%|██████████| 1563/1563 [00:14<00:00, 106.28it/s, Loss=0.844165]"
     ]
    },
    {
     "name": "stdout",
     "output_type": "stream",
     "text": [
      "Train Epoch: 10, elapsed time:14.71s\n"
     ]
    },
    {
     "name": "stderr",
     "output_type": "stream",
     "text": [
      "\n"
     ]
    },
    {
     "name": "stdout",
     "output_type": "stream",
     "text": [
      "Training accuracy 70.276, test accuracy 76.32\n",
      "Training loss 1319.4296790063381, test loss 212.60272981226444\n"
     ]
    },
    {
     "name": "stderr",
     "output_type": "stream",
     "text": [
      "100%|██████████| 1563/1563 [00:14<00:00, 105.78it/s, Loss=0.826842]\n"
     ]
    },
    {
     "name": "stdout",
     "output_type": "stream",
     "text": [
      "Train Epoch: 11, elapsed time:14.78s\n",
      "Training accuracy 70.898, test accuracy 77.22\n",
      "Training loss 1292.3540189862251, test loss 204.16688686609268\n"
     ]
    },
    {
     "name": "stderr",
     "output_type": "stream",
     "text": [
      "100%|██████████| 1563/1563 [00:14<00:00, 105.78it/s, Loss=0.813704]\n"
     ]
    },
    {
     "name": "stdout",
     "output_type": "stream",
     "text": [
      "Train Epoch: 12, elapsed time:14.78s\n",
      "Training accuracy 71.468, test accuracy 77.49\n",
      "Training loss 1271.8196157217026, test loss 198.46897561848164\n"
     ]
    },
    {
     "name": "stderr",
     "output_type": "stream",
     "text": [
      "100%|██████████| 1563/1563 [00:14<00:00, 105.24it/s, Loss=0.800772]"
     ]
    },
    {
     "name": "stdout",
     "output_type": "stream",
     "text": [
      "Train Epoch: 13, elapsed time:14.86s\n"
     ]
    },
    {
     "name": "stderr",
     "output_type": "stream",
     "text": [
      "\n"
     ]
    },
    {
     "name": "stdout",
     "output_type": "stream",
     "text": [
      "Training accuracy 72.138, test accuracy 77.87\n",
      "Training loss 1251.606289356947, test loss 194.0075998902321\n"
     ]
    },
    {
     "name": "stderr",
     "output_type": "stream",
     "text": [
      "100%|██████████| 1563/1563 [00:14<00:00, 105.41it/s, Loss=0.784754]"
     ]
    },
    {
     "name": "stdout",
     "output_type": "stream",
     "text": [
      "Train Epoch: 14, elapsed time:14.83s\n"
     ]
    },
    {
     "name": "stderr",
     "output_type": "stream",
     "text": [
      "\n"
     ]
    },
    {
     "name": "stdout",
     "output_type": "stream",
     "text": [
      "Training accuracy 72.544, test accuracy 78.55\n",
      "Training loss 1226.5705671310425, test loss 189.17114803195\n"
     ]
    },
    {
     "name": "stderr",
     "output_type": "stream",
     "text": [
      "100%|██████████| 1563/1563 [00:14<00:00, 106.96it/s, Loss=0.777828]"
     ]
    },
    {
     "name": "stdout",
     "output_type": "stream",
     "text": [
      "Train Epoch: 15, elapsed time:14.62s\n"
     ]
    },
    {
     "name": "stderr",
     "output_type": "stream",
     "text": [
      "\n"
     ]
    },
    {
     "name": "stdout",
     "output_type": "stream",
     "text": [
      "Training accuracy 72.66, test accuracy 78.45\n",
      "Training loss 1215.7450969964266, test loss 191.55587685108185\n"
     ]
    },
    {
     "name": "stderr",
     "output_type": "stream",
     "text": [
      "100%|██████████| 1563/1563 [00:14<00:00, 105.79it/s, Loss=0.773794]\n"
     ]
    },
    {
     "name": "stdout",
     "output_type": "stream",
     "text": [
      "Train Epoch: 16, elapsed time:14.78s\n",
      "Training accuracy 72.806, test accuracy 77.35\n",
      "Training loss 1209.4406724870205, test loss 201.64800940454006\n"
     ]
    },
    {
     "name": "stderr",
     "output_type": "stream",
     "text": [
      "100%|██████████| 1563/1563 [00:14<00:00, 105.49it/s, Loss=0.765412]"
     ]
    },
    {
     "name": "stdout",
     "output_type": "stream",
     "text": [
      "Train Epoch: 17, elapsed time:14.82s\n"
     ]
    },
    {
     "name": "stderr",
     "output_type": "stream",
     "text": [
      "\n"
     ]
    },
    {
     "name": "stdout",
     "output_type": "stream",
     "text": [
      "Training accuracy 73.294, test accuracy 78.63\n",
      "Training loss 1196.3389767110348, test loss 188.56466805934906\n"
     ]
    },
    {
     "name": "stderr",
     "output_type": "stream",
     "text": [
      "100%|██████████| 1563/1563 [00:14<00:00, 106.09it/s, Loss=0.757204]"
     ]
    },
    {
     "name": "stdout",
     "output_type": "stream",
     "text": [
      "Train Epoch: 18, elapsed time:14.74s\n"
     ]
    },
    {
     "name": "stderr",
     "output_type": "stream",
     "text": [
      "\n"
     ]
    },
    {
     "name": "stdout",
     "output_type": "stream",
     "text": [
      "Training accuracy 73.554, test accuracy 78.76\n",
      "Training loss 1183.5104841589928, test loss 188.1166993379593\n"
     ]
    },
    {
     "name": "stderr",
     "output_type": "stream",
     "text": [
      "100%|██████████| 1563/1563 [00:14<00:00, 105.73it/s, Loss=0.744943]"
     ]
    },
    {
     "name": "stdout",
     "output_type": "stream",
     "text": [
      "Train Epoch: 19, elapsed time:14.79s\n"
     ]
    },
    {
     "name": "stderr",
     "output_type": "stream",
     "text": [
      "\n"
     ]
    },
    {
     "name": "stdout",
     "output_type": "stream",
     "text": [
      "Training accuracy 74.078, test accuracy 79.04\n",
      "Training loss 1164.3464621007442, test loss 187.40355333685875\n"
     ]
    },
    {
     "name": "stderr",
     "output_type": "stream",
     "text": [
      "100%|██████████| 1563/1563 [00:14<00:00, 106.07it/s, Loss=0.740350]"
     ]
    },
    {
     "name": "stdout",
     "output_type": "stream",
     "text": [
      "Train Epoch: 20, elapsed time:14.74s\n"
     ]
    },
    {
     "name": "stderr",
     "output_type": "stream",
     "text": [
      "\n"
     ]
    },
    {
     "name": "stdout",
     "output_type": "stream",
     "text": [
      "Training accuracy 74.128, test accuracy 79.36\n",
      "Training loss 1157.1672373712063, test loss 186.73495718836784\n"
     ]
    },
    {
     "name": "stderr",
     "output_type": "stream",
     "text": [
      "100%|██████████| 1563/1563 [00:14<00:00, 106.08it/s, Loss=0.731044]"
     ]
    },
    {
     "name": "stdout",
     "output_type": "stream",
     "text": [
      "Train Epoch: 21, elapsed time:14.74s\n"
     ]
    },
    {
     "name": "stderr",
     "output_type": "stream",
     "text": [
      "\n"
     ]
    },
    {
     "name": "stdout",
     "output_type": "stream",
     "text": [
      "Training accuracy 74.444, test accuracy 78.71\n",
      "Training loss 1142.621874421835, test loss 192.241061642766\n"
     ]
    },
    {
     "name": "stderr",
     "output_type": "stream",
     "text": [
      "100%|██████████| 1563/1563 [00:14<00:00, 106.68it/s, Loss=0.726513]"
     ]
    },
    {
     "name": "stdout",
     "output_type": "stream",
     "text": [
      "Train Epoch: 22, elapsed time:14.65s\n"
     ]
    },
    {
     "name": "stderr",
     "output_type": "stream",
     "text": [
      "\n"
     ]
    },
    {
     "name": "stdout",
     "output_type": "stream",
     "text": [
      "Training accuracy 74.698, test accuracy 80.07\n",
      "Training loss 1135.539210677147, test loss 178.7206525951624\n"
     ]
    },
    {
     "name": "stderr",
     "output_type": "stream",
     "text": [
      "100%|██████████| 1563/1563 [00:14<00:00, 105.92it/s, Loss=0.723067]"
     ]
    },
    {
     "name": "stdout",
     "output_type": "stream",
     "text": [
      "Train Epoch: 23, elapsed time:14.76s\n"
     ]
    },
    {
     "name": "stderr",
     "output_type": "stream",
     "text": [
      "\n"
     ]
    },
    {
     "name": "stdout",
     "output_type": "stream",
     "text": [
      "Training accuracy 74.644, test accuracy 80.6\n",
      "Training loss 1130.153574720025, test loss 175.38485550880432\n"
     ]
    },
    {
     "name": "stderr",
     "output_type": "stream",
     "text": [
      "100%|██████████| 1563/1563 [00:14<00:00, 104.87it/s, Loss=0.715850]"
     ]
    },
    {
     "name": "stdout",
     "output_type": "stream",
     "text": [
      "Train Epoch: 24, elapsed time:14.91s\n"
     ]
    },
    {
     "name": "stderr",
     "output_type": "stream",
     "text": [
      "\n"
     ]
    },
    {
     "name": "stdout",
     "output_type": "stream",
     "text": [
      "Training accuracy 75.108, test accuracy 79.16\n",
      "Training loss 1118.87389087677, test loss 183.30405562371016\n"
     ]
    },
    {
     "name": "stderr",
     "output_type": "stream",
     "text": [
      "100%|██████████| 1563/1563 [00:14<00:00, 105.74it/s, Loss=0.713350]"
     ]
    },
    {
     "name": "stdout",
     "output_type": "stream",
     "text": [
      "Train Epoch: 25, elapsed time:14.79s\n"
     ]
    },
    {
     "name": "stderr",
     "output_type": "stream",
     "text": [
      "\n"
     ]
    },
    {
     "name": "stdout",
     "output_type": "stream",
     "text": [
      "Training accuracy 75.1, test accuracy 79.74\n",
      "Training loss 1114.9662423282862, test loss 179.90107813477516\n"
     ]
    },
    {
     "name": "stderr",
     "output_type": "stream",
     "text": [
      "100%|██████████| 1563/1563 [00:14<00:00, 106.10it/s, Loss=0.710856]"
     ]
    },
    {
     "name": "stdout",
     "output_type": "stream",
     "text": [
      "Train Epoch: 26, elapsed time:14.74s\n"
     ]
    },
    {
     "name": "stderr",
     "output_type": "stream",
     "text": [
      "\n"
     ]
    },
    {
     "name": "stdout",
     "output_type": "stream",
     "text": [
      "Training accuracy 75.368, test accuracy 80.02\n",
      "Training loss 1111.067610859871, test loss 175.39506720006466\n"
     ]
    },
    {
     "name": "stderr",
     "output_type": "stream",
     "text": [
      "100%|██████████| 1563/1563 [00:14<00:00, 106.43it/s, Loss=0.701220]"
     ]
    },
    {
     "name": "stdout",
     "output_type": "stream",
     "text": [
      "Train Epoch: 27, elapsed time:14.69s\n"
     ]
    },
    {
     "name": "stderr",
     "output_type": "stream",
     "text": [
      "\n"
     ]
    },
    {
     "name": "stdout",
     "output_type": "stream",
     "text": [
      "Training accuracy 75.69, test accuracy 80.19\n",
      "Training loss 1096.00731857121, test loss 177.29656398296356\n"
     ]
    },
    {
     "name": "stderr",
     "output_type": "stream",
     "text": [
      "100%|██████████| 1563/1563 [00:14<00:00, 105.78it/s, Loss=0.699354]"
     ]
    },
    {
     "name": "stdout",
     "output_type": "stream",
     "text": [
      "Train Epoch: 28, elapsed time:14.78s\n"
     ]
    },
    {
     "name": "stderr",
     "output_type": "stream",
     "text": [
      "\n"
     ]
    },
    {
     "name": "stdout",
     "output_type": "stream",
     "text": [
      "Training accuracy 75.412, test accuracy 80.09\n",
      "Training loss 1093.0899045467377, test loss 175.79315400123596\n"
     ]
    },
    {
     "name": "stderr",
     "output_type": "stream",
     "text": [
      "100%|██████████| 1563/1563 [00:14<00:00, 105.67it/s, Loss=0.695270]"
     ]
    },
    {
     "name": "stdout",
     "output_type": "stream",
     "text": [
      "Train Epoch: 29, elapsed time:14.80s\n"
     ]
    },
    {
     "name": "stderr",
     "output_type": "stream",
     "text": [
      "\n"
     ]
    },
    {
     "name": "stdout",
     "output_type": "stream",
     "text": [
      "Training accuracy 75.632, test accuracy 80.6\n",
      "Training loss 1086.7068173587322, test loss 172.35002939403057\n"
     ]
    },
    {
     "name": "stderr",
     "output_type": "stream",
     "text": [
      "100%|██████████| 1563/1563 [00:14<00:00, 106.16it/s, Loss=0.687653]"
     ]
    },
    {
     "name": "stdout",
     "output_type": "stream",
     "text": [
      "Train Epoch: 30, elapsed time:14.73s\n"
     ]
    },
    {
     "name": "stderr",
     "output_type": "stream",
     "text": [
      "\n"
     ]
    },
    {
     "name": "stdout",
     "output_type": "stream",
     "text": [
      "Training accuracy 75.922, test accuracy 80.52\n",
      "Training loss 1074.8017657101154, test loss 173.60581500828266\n"
     ]
    },
    {
     "name": "stderr",
     "output_type": "stream",
     "text": [
      "100%|██████████| 1563/1563 [00:14<00:00, 105.45it/s, Loss=0.683164]"
     ]
    },
    {
     "name": "stdout",
     "output_type": "stream",
     "text": [
      "Train Epoch: 31, elapsed time:14.83s\n"
     ]
    },
    {
     "name": "stderr",
     "output_type": "stream",
     "text": [
      "\n"
     ]
    },
    {
     "name": "stdout",
     "output_type": "stream",
     "text": [
      "Training accuracy 76.226, test accuracy 81.43\n",
      "Training loss 1067.7851339876652, test loss 167.64741227030754\n"
     ]
    },
    {
     "name": "stderr",
     "output_type": "stream",
     "text": [
      "100%|██████████| 1563/1563 [00:14<00:00, 104.94it/s, Loss=0.679678]"
     ]
    },
    {
     "name": "stdout",
     "output_type": "stream",
     "text": [
      "Train Epoch: 32, elapsed time:14.90s\n"
     ]
    },
    {
     "name": "stderr",
     "output_type": "stream",
     "text": [
      "\n"
     ]
    },
    {
     "name": "stdout",
     "output_type": "stream",
     "text": [
      "Training accuracy 76.352, test accuracy 81.35\n",
      "Training loss 1062.3371168673038, test loss 167.05459214746952\n"
     ]
    },
    {
     "name": "stderr",
     "output_type": "stream",
     "text": [
      "100%|██████████| 1563/1563 [00:14<00:00, 104.77it/s, Loss=0.677064]"
     ]
    },
    {
     "name": "stdout",
     "output_type": "stream",
     "text": [
      "Train Epoch: 33, elapsed time:14.92s\n"
     ]
    },
    {
     "name": "stderr",
     "output_type": "stream",
     "text": [
      "\n"
     ]
    },
    {
     "name": "stdout",
     "output_type": "stream",
     "text": [
      "Training accuracy 76.326, test accuracy 80.89\n",
      "Training loss 1058.2504659891129, test loss 171.25405359268188\n"
     ]
    },
    {
     "name": "stderr",
     "output_type": "stream",
     "text": [
      "100%|██████████| 1563/1563 [00:14<00:00, 105.32it/s, Loss=0.670764]\n"
     ]
    },
    {
     "name": "stdout",
     "output_type": "stream",
     "text": [
      "Train Epoch: 34, elapsed time:14.85s\n",
      "Training accuracy 76.538, test accuracy 81.71\n",
      "Training loss 1048.4035187661648, test loss 165.73193338513374\n"
     ]
    },
    {
     "name": "stderr",
     "output_type": "stream",
     "text": [
      "100%|██████████| 1563/1563 [00:14<00:00, 106.81it/s, Loss=0.674499]\n"
     ]
    },
    {
     "name": "stdout",
     "output_type": "stream",
     "text": [
      "Train Epoch: 35, elapsed time:14.64s\n",
      "Training accuracy 76.538, test accuracy 81.7\n",
      "Training loss 1054.2416106015444, test loss 167.66508847475052\n"
     ]
    },
    {
     "name": "stderr",
     "output_type": "stream",
     "text": [
      "100%|██████████| 1563/1563 [00:14<00:00, 106.39it/s, Loss=0.663204]"
     ]
    },
    {
     "name": "stdout",
     "output_type": "stream",
     "text": [
      "Train Epoch: 36, elapsed time:14.70s\n"
     ]
    },
    {
     "name": "stderr",
     "output_type": "stream",
     "text": [
      "\n"
     ]
    },
    {
     "name": "stdout",
     "output_type": "stream",
     "text": [
      "Training accuracy 76.768, test accuracy 81.51\n",
      "Training loss 1036.587537765503, test loss 166.44890819489956\n"
     ]
    },
    {
     "name": "stderr",
     "output_type": "stream",
     "text": [
      "100%|██████████| 1563/1563 [00:14<00:00, 106.63it/s, Loss=0.665594]"
     ]
    },
    {
     "name": "stdout",
     "output_type": "stream",
     "text": [
      "Train Epoch: 37, elapsed time:14.66s\n"
     ]
    },
    {
     "name": "stderr",
     "output_type": "stream",
     "text": [
      "\n"
     ]
    },
    {
     "name": "stdout",
     "output_type": "stream",
     "text": [
      "Training accuracy 76.678, test accuracy 81.87\n",
      "Training loss 1040.3241600841284, test loss 162.93218687921762\n"
     ]
    },
    {
     "name": "stderr",
     "output_type": "stream",
     "text": [
      "100%|██████████| 1563/1563 [00:14<00:00, 106.05it/s, Loss=0.659754]"
     ]
    },
    {
     "name": "stdout",
     "output_type": "stream",
     "text": [
      "Train Epoch: 38, elapsed time:14.74s\n"
     ]
    },
    {
     "name": "stderr",
     "output_type": "stream",
     "text": [
      "\n"
     ]
    },
    {
     "name": "stdout",
     "output_type": "stream",
     "text": [
      "Training accuracy 77.158, test accuracy 81.76\n",
      "Training loss 1031.1959014236927, test loss 163.18087504804134\n"
     ]
    },
    {
     "name": "stderr",
     "output_type": "stream",
     "text": [
      "100%|██████████| 1563/1563 [00:14<00:00, 104.95it/s, Loss=0.659103]\n"
     ]
    },
    {
     "name": "stdout",
     "output_type": "stream",
     "text": [
      "Train Epoch: 39, elapsed time:14.90s\n",
      "Training accuracy 76.864, test accuracy 80.8\n",
      "Training loss 1030.1772912442684, test loss 170.47745524346828\n"
     ]
    },
    {
     "name": "stderr",
     "output_type": "stream",
     "text": [
      "100%|██████████| 1563/1563 [00:14<00:00, 105.24it/s, Loss=0.651844]"
     ]
    },
    {
     "name": "stdout",
     "output_type": "stream",
     "text": [
      "Train Epoch: 40, elapsed time:14.86s\n"
     ]
    },
    {
     "name": "stderr",
     "output_type": "stream",
     "text": [
      "\n"
     ]
    },
    {
     "name": "stdout",
     "output_type": "stream",
     "text": [
      "Training accuracy 77.154, test accuracy 81.87\n",
      "Training loss 1018.8321105986834, test loss 162.777444973588\n"
     ]
    },
    {
     "name": "stderr",
     "output_type": "stream",
     "text": [
      "100%|██████████| 1563/1563 [00:14<00:00, 106.52it/s, Loss=0.649397]"
     ]
    },
    {
     "name": "stdout",
     "output_type": "stream",
     "text": [
      "Train Epoch: 41, elapsed time:14.68s\n"
     ]
    },
    {
     "name": "stderr",
     "output_type": "stream",
     "text": [
      "\n"
     ]
    },
    {
     "name": "stdout",
     "output_type": "stream",
     "text": [
      "Training accuracy 77.16, test accuracy 82.09\n",
      "Training loss 1015.0071034580469, test loss 159.30028024315834\n"
     ]
    },
    {
     "name": "stderr",
     "output_type": "stream",
     "text": [
      "100%|██████████| 1563/1563 [00:14<00:00, 106.71it/s, Loss=0.646678]"
     ]
    },
    {
     "name": "stdout",
     "output_type": "stream",
     "text": [
      "Train Epoch: 42, elapsed time:14.65s\n"
     ]
    },
    {
     "name": "stderr",
     "output_type": "stream",
     "text": [
      "\n"
     ]
    },
    {
     "name": "stdout",
     "output_type": "stream",
     "text": [
      "Training accuracy 77.486, test accuracy 81.82\n",
      "Training loss 1010.757748618722, test loss 163.4464654624462\n"
     ]
    },
    {
     "name": "stderr",
     "output_type": "stream",
     "text": [
      "100%|██████████| 1563/1563 [00:14<00:00, 105.82it/s, Loss=0.640410]\n"
     ]
    },
    {
     "name": "stdout",
     "output_type": "stream",
     "text": [
      "Train Epoch: 43, elapsed time:14.78s\n",
      "Training accuracy 77.614, test accuracy 81.92\n",
      "Training loss 1000.9605540037155, test loss 164.5735422000289\n"
     ]
    },
    {
     "name": "stderr",
     "output_type": "stream",
     "text": [
      "100%|██████████| 1563/1563 [00:14<00:00, 106.03it/s, Loss=0.646983]"
     ]
    },
    {
     "name": "stdout",
     "output_type": "stream",
     "text": [
      "Train Epoch: 44, elapsed time:14.75s\n"
     ]
    },
    {
     "name": "stderr",
     "output_type": "stream",
     "text": [
      "\n"
     ]
    },
    {
     "name": "stdout",
     "output_type": "stream",
     "text": [
      "Training accuracy 77.454, test accuracy 82.54\n",
      "Training loss 1011.2336952239275, test loss 158.3955719396472\n"
     ]
    },
    {
     "name": "stderr",
     "output_type": "stream",
     "text": [
      "100%|██████████| 1563/1563 [00:14<00:00, 107.00it/s, Loss=0.640609]"
     ]
    },
    {
     "name": "stdout",
     "output_type": "stream",
     "text": [
      "Train Epoch: 45, elapsed time:14.61s\n"
     ]
    },
    {
     "name": "stderr",
     "output_type": "stream",
     "text": [
      "\n"
     ]
    },
    {
     "name": "stdout",
     "output_type": "stream",
     "text": [
      "Training accuracy 77.812, test accuracy 82.8\n",
      "Training loss 1001.2722015976906, test loss 157.7152006700635\n"
     ]
    },
    {
     "name": "stderr",
     "output_type": "stream",
     "text": [
      "100%|██████████| 1563/1563 [00:14<00:00, 105.47it/s, Loss=0.633635]"
     ]
    },
    {
     "name": "stdout",
     "output_type": "stream",
     "text": [
      "Train Epoch: 46, elapsed time:14.82s\n"
     ]
    },
    {
     "name": "stderr",
     "output_type": "stream",
     "text": [
      "\n"
     ]
    },
    {
     "name": "stdout",
     "output_type": "stream",
     "text": [
      "Training accuracy 77.974, test accuracy 81.53\n",
      "Training loss 990.3718568533659, test loss 165.86207129061222\n"
     ]
    },
    {
     "name": "stderr",
     "output_type": "stream",
     "text": [
      "100%|██████████| 1563/1563 [00:14<00:00, 107.08it/s, Loss=0.633329]\n"
     ]
    },
    {
     "name": "stdout",
     "output_type": "stream",
     "text": [
      "Train Epoch: 47, elapsed time:14.60s\n",
      "Training accuracy 77.978, test accuracy 81.69\n",
      "Training loss 989.8926333338022, test loss 164.72705467790365\n"
     ]
    },
    {
     "name": "stderr",
     "output_type": "stream",
     "text": [
      "100%|██████████| 1563/1563 [00:14<00:00, 106.46it/s, Loss=0.632782]"
     ]
    },
    {
     "name": "stdout",
     "output_type": "stream",
     "text": [
      "Train Epoch: 48, elapsed time:14.69s\n"
     ]
    },
    {
     "name": "stderr",
     "output_type": "stream",
     "text": [
      "\n"
     ]
    },
    {
     "name": "stdout",
     "output_type": "stream",
     "text": [
      "Training accuracy 77.656, test accuracy 82.18\n",
      "Training loss 989.0383576154709, test loss 162.13432529568672\n"
     ]
    },
    {
     "name": "stderr",
     "output_type": "stream",
     "text": [
      "100%|██████████| 1563/1563 [00:14<00:00, 106.04it/s, Loss=0.630630]\n"
     ]
    },
    {
     "name": "stdout",
     "output_type": "stream",
     "text": [
      "Train Epoch: 49, elapsed time:14.74s\n",
      "Training accuracy 78.012, test accuracy 81.98\n",
      "Training loss 985.6740042865276, test loss 164.07110299170017\n"
     ]
    },
    {
     "name": "stderr",
     "output_type": "stream",
     "text": [
      "100%|██████████| 1563/1563 [00:14<00:00, 106.78it/s, Loss=0.630382]"
     ]
    },
    {
     "name": "stdout",
     "output_type": "stream",
     "text": [
      "Train Epoch: 50, elapsed time:14.64s\n"
     ]
    },
    {
     "name": "stderr",
     "output_type": "stream",
     "text": [
      "\n"
     ]
    },
    {
     "name": "stdout",
     "output_type": "stream",
     "text": [
      "Training accuracy 78.04, test accuracy 82.7\n",
      "Training loss 985.2868401259184, test loss 155.57165896892548\n"
     ]
    },
    {
     "name": "stderr",
     "output_type": "stream",
     "text": [
      "100%|██████████| 1563/1563 [00:14<00:00, 106.29it/s, Loss=0.619366]"
     ]
    },
    {
     "name": "stdout",
     "output_type": "stream",
     "text": [
      "Train Epoch: 51, elapsed time:14.71s\n"
     ]
    },
    {
     "name": "stderr",
     "output_type": "stream",
     "text": [
      "\n"
     ]
    },
    {
     "name": "stdout",
     "output_type": "stream",
     "text": [
      "Training accuracy 78.51, test accuracy 82.18\n",
      "Training loss 968.0690120309591, test loss 160.08825340867043\n"
     ]
    },
    {
     "name": "stderr",
     "output_type": "stream",
     "text": [
      "100%|██████████| 1563/1563 [00:14<00:00, 105.88it/s, Loss=0.626632]"
     ]
    },
    {
     "name": "stdout",
     "output_type": "stream",
     "text": [
      "Train Epoch: 52, elapsed time:14.77s\n"
     ]
    },
    {
     "name": "stderr",
     "output_type": "stream",
     "text": [
      "\n"
     ]
    },
    {
     "name": "stdout",
     "output_type": "stream",
     "text": [
      "Training accuracy 78.062, test accuracy 82.54\n",
      "Training loss 979.425659775734, test loss 157.241597533226\n"
     ]
    },
    {
     "name": "stderr",
     "output_type": "stream",
     "text": [
      "100%|██████████| 1563/1563 [00:14<00:00, 106.03it/s, Loss=0.629840]"
     ]
    },
    {
     "name": "stdout",
     "output_type": "stream",
     "text": [
      "Train Epoch: 53, elapsed time:14.75s\n"
     ]
    },
    {
     "name": "stderr",
     "output_type": "stream",
     "text": [
      "\n"
     ]
    },
    {
     "name": "stdout",
     "output_type": "stream",
     "text": [
      "Training accuracy 78.106, test accuracy 82.17\n",
      "Training loss 984.4401119500399, test loss 160.1164725869894\n"
     ]
    },
    {
     "name": "stderr",
     "output_type": "stream",
     "text": [
      "100%|██████████| 1563/1563 [00:14<00:00, 105.36it/s, Loss=0.621432]"
     ]
    },
    {
     "name": "stdout",
     "output_type": "stream",
     "text": [
      "Train Epoch: 54, elapsed time:14.84s\n"
     ]
    },
    {
     "name": "stderr",
     "output_type": "stream",
     "text": [
      "\n"
     ]
    },
    {
     "name": "stdout",
     "output_type": "stream",
     "text": [
      "Training accuracy 78.318, test accuracy 82.0\n",
      "Training loss 971.2978181093931, test loss 160.4213573858142\n"
     ]
    },
    {
     "name": "stderr",
     "output_type": "stream",
     "text": [
      "100%|██████████| 1563/1563 [00:14<00:00, 106.79it/s, Loss=0.593476]"
     ]
    },
    {
     "name": "stdout",
     "output_type": "stream",
     "text": [
      "Train Epoch: 55, elapsed time:14.64s\n"
     ]
    },
    {
     "name": "stderr",
     "output_type": "stream",
     "text": [
      "\n"
     ]
    },
    {
     "name": "stdout",
     "output_type": "stream",
     "text": [
      "Training accuracy 79.36, test accuracy 83.01\n",
      "Training loss 927.6022565215826, test loss 153.78582509607077\n"
     ]
    },
    {
     "name": "stderr",
     "output_type": "stream",
     "text": [
      "100%|██████████| 1563/1563 [00:14<00:00, 106.22it/s, Loss=0.585136]"
     ]
    },
    {
     "name": "stdout",
     "output_type": "stream",
     "text": [
      "Train Epoch: 56, elapsed time:14.72s\n"
     ]
    },
    {
     "name": "stderr",
     "output_type": "stream",
     "text": [
      "\n"
     ]
    },
    {
     "name": "stdout",
     "output_type": "stream",
     "text": [
      "Training accuracy 79.788, test accuracy 82.93\n",
      "Training loss 914.5678968727589, test loss 155.51935179531574\n"
     ]
    },
    {
     "name": "stderr",
     "output_type": "stream",
     "text": [
      " 74%|███████▍  | 1155/1563 [00:10<00:03, 106.00it/s, Loss=0.583016]"
     ]
    },
    {
     "name": "stdout",
     "output_type": "stream",
     "text": [
      "Training accuracy 79.962, test accuracy 83.3\n",
      "Training loss 892.9552102833986, test loss 152.26755269616842\n"
     ]
    },
    {
     "name": "stderr",
     "output_type": "stream",
     "text": [
      "100%|██████████| 1563/1563 [00:14<00:00, 106.44it/s, Loss=0.570613]\n"
     ]
    },
    {
     "name": "stdout",
     "output_type": "stream",
     "text": [
      "Train Epoch: 63, elapsed time:14.69s\n",
      "Training accuracy 79.984, test accuracy 83.18\n",
      "Training loss 891.8679159879684, test loss 151.53981410712004\n"
     ]
    },
    {
     "name": "stderr",
     "output_type": "stream",
     "text": [
      "100%|██████████| 1563/1563 [00:14<00:00, 106.95it/s, Loss=0.569696]\n"
     ]
    },
    {
     "name": "stdout",
     "output_type": "stream",
     "text": [
      "Train Epoch: 64, elapsed time:14.62s\n",
      "Training accuracy 80.122, test accuracy 82.39\n",
      "Training loss 890.4350943267345, test loss 158.35597171634436\n"
     ]
    },
    {
     "name": "stderr",
     "output_type": "stream",
     "text": [
      "100%|██████████| 1563/1563 [00:14<00:00, 106.45it/s, Loss=0.568264]"
     ]
    },
    {
     "name": "stdout",
     "output_type": "stream",
     "text": [
      "Train Epoch: 65, elapsed time:14.69s\n"
     ]
    },
    {
     "name": "stderr",
     "output_type": "stream",
     "text": [
      "\n"
     ]
    },
    {
     "name": "stdout",
     "output_type": "stream",
     "text": [
      "Training accuracy 80.166, test accuracy 83.44\n",
      "Training loss 888.1970573067665, test loss 148.8970752209425\n"
     ]
    },
    {
     "name": "stderr",
     "output_type": "stream",
     "text": [
      "100%|██████████| 1563/1563 [00:14<00:00, 106.08it/s, Loss=0.572982]\n"
     ]
    },
    {
     "name": "stdout",
     "output_type": "stream",
     "text": [
      "Train Epoch: 66, elapsed time:14.74s\n",
      "Training accuracy 80.166, test accuracy 83.54\n",
      "Training loss 895.5712428838015, test loss 149.55156077444553\n"
     ]
    },
    {
     "name": "stderr",
     "output_type": "stream",
     "text": [
      "100%|██████████| 1563/1563 [00:14<00:00, 106.47it/s, Loss=0.563952]"
     ]
    },
    {
     "name": "stdout",
     "output_type": "stream",
     "text": [
      "Train Epoch: 67, elapsed time:14.68s\n"
     ]
    },
    {
     "name": "stderr",
     "output_type": "stream",
     "text": [
      "\n"
     ]
    },
    {
     "name": "stdout",
     "output_type": "stream",
     "text": [
      "Training accuracy 80.068, test accuracy 83.76\n",
      "Training loss 881.456310659647, test loss 147.38736856728792\n"
     ]
    },
    {
     "name": "stderr",
     "output_type": "stream",
     "text": [
      "100%|██████████| 1563/1563 [00:14<00:00, 106.08it/s, Loss=0.561852]"
     ]
    },
    {
     "name": "stdout",
     "output_type": "stream",
     "text": [
      "Train Epoch: 68, elapsed time:14.74s\n"
     ]
    },
    {
     "name": "stderr",
     "output_type": "stream",
     "text": [
      "\n"
     ]
    },
    {
     "name": "stdout",
     "output_type": "stream",
     "text": [
      "Training accuracy 80.552, test accuracy 83.34\n",
      "Training loss 878.1744842529297, test loss 150.08318624645472\n"
     ]
    },
    {
     "name": "stderr",
     "output_type": "stream",
     "text": [
      "100%|██████████| 1563/1563 [00:14<00:00, 106.47it/s, Loss=0.544223]"
     ]
    },
    {
     "name": "stdout",
     "output_type": "stream",
     "text": [
      "Train Epoch: 77, elapsed time:14.68s\n"
     ]
    },
    {
     "name": "stderr",
     "output_type": "stream",
     "text": [
      "\n"
     ]
    },
    {
     "name": "stdout",
     "output_type": "stream",
     "text": [
      "Training accuracy 80.982, test accuracy 83.83\n",
      "Training loss 850.6202381849289, test loss 147.54838483780622\n"
     ]
    },
    {
     "name": "stderr",
     "output_type": "stream",
     "text": [
      "100%|██████████| 1563/1563 [00:14<00:00, 106.48it/s, Loss=0.551283]"
     ]
    },
    {
     "name": "stdout",
     "output_type": "stream",
     "text": [
      "Train Epoch: 78, elapsed time:14.68s\n"
     ]
    },
    {
     "name": "stderr",
     "output_type": "stream",
     "text": [
      "\n"
     ]
    },
    {
     "name": "stdout",
     "output_type": "stream",
     "text": [
      "Training accuracy 80.778, test accuracy 83.86\n",
      "Training loss 861.6548156142235, test loss 147.35787780582905\n"
     ]
    },
    {
     "name": "stderr",
     "output_type": "stream",
     "text": [
      "100%|██████████| 1563/1563 [00:14<00:00, 106.27it/s, Loss=0.542759]\n"
     ]
    },
    {
     "name": "stdout",
     "output_type": "stream",
     "text": [
      "Train Epoch: 79, elapsed time:14.71s\n",
      "Training accuracy 81.004, test accuracy 83.9\n",
      "Training loss 848.3327263593674, test loss 147.85757951438427\n"
     ]
    },
    {
     "name": "stderr",
     "output_type": "stream",
     "text": [
      "100%|██████████| 1563/1563 [00:14<00:00, 106.48it/s, Loss=0.539850]\n"
     ]
    },
    {
     "name": "stdout",
     "output_type": "stream",
     "text": [
      "Train Epoch: 80, elapsed time:14.68s\n",
      "Training accuracy 81.22, test accuracy 83.56\n",
      "Training loss 843.784894734621, test loss 149.40710086375475\n"
     ]
    },
    {
     "name": "stderr",
     "output_type": "stream",
     "text": [
      "100%|██████████| 1563/1563 [00:14<00:00, 106.24it/s, Loss=0.540346]"
     ]
    },
    {
     "name": "stdout",
     "output_type": "stream",
     "text": [
      "Train Epoch: 81, elapsed time:14.72s\n"
     ]
    },
    {
     "name": "stderr",
     "output_type": "stream",
     "text": [
      "\n"
     ]
    },
    {
     "name": "stdout",
     "output_type": "stream",
     "text": [
      "Training accuracy 80.88, test accuracy 84.07\n",
      "Training loss 844.5608018487692, test loss 146.20300951600075\n"
     ]
    },
    {
     "name": "stderr",
     "output_type": "stream",
     "text": [
      "100%|██████████| 1563/1563 [00:14<00:00, 107.79it/s, Loss=0.544350]"
     ]
    },
    {
     "name": "stdout",
     "output_type": "stream",
     "text": [
      "Train Epoch: 82, elapsed time:14.50s\n"
     ]
    },
    {
     "name": "stderr",
     "output_type": "stream",
     "text": [
      "\n"
     ]
    },
    {
     "name": "stdout",
     "output_type": "stream",
     "text": [
      "Training accuracy 80.89, test accuracy 83.99\n",
      "Training loss 850.8195017278194, test loss 145.9608144685626\n"
     ]
    },
    {
     "name": "stderr",
     "output_type": "stream",
     "text": [
      "100%|██████████| 1563/1563 [00:14<00:00, 107.72it/s, Loss=0.541785]\n"
     ]
    },
    {
     "name": "stdout",
     "output_type": "stream",
     "text": [
      "Train Epoch: 83, elapsed time:14.51s\n",
      "Training accuracy 81.15, test accuracy 83.98\n",
      "Training loss 846.8093578964472, test loss 144.90259853750467\n"
     ]
    },
    {
     "name": "stderr",
     "output_type": "stream",
     "text": [
      "100%|██████████| 1563/1563 [00:14<00:00, 107.19it/s, Loss=0.544271]"
     ]
    },
    {
     "name": "stdout",
     "output_type": "stream",
     "text": [
      "Train Epoch: 84, elapsed time:14.59s\n"
     ]
    },
    {
     "name": "stderr",
     "output_type": "stream",
     "text": [
      "\n"
     ]
    },
    {
     "name": "stdout",
     "output_type": "stream",
     "text": [
      "Training accuracy 80.824, test accuracy 83.48\n",
      "Training loss 850.6956198215485, test loss 149.61401684582233\n"
     ]
    },
    {
     "name": "stderr",
     "output_type": "stream",
     "text": [
      "100%|██████████| 1563/1563 [00:14<00:00, 107.02it/s, Loss=0.540458]"
     ]
    },
    {
     "name": "stdout",
     "output_type": "stream",
     "text": [
      "Train Epoch: 85, elapsed time:14.61s\n"
     ]
    },
    {
     "name": "stderr",
     "output_type": "stream",
     "text": [
      "\n"
     ]
    },
    {
     "name": "stdout",
     "output_type": "stream",
     "text": [
      "Training accuracy 81.252, test accuracy 84.07\n",
      "Training loss 844.7361828237772, test loss 144.4091468155384\n"
     ]
    },
    {
     "name": "stderr",
     "output_type": "stream",
     "text": [
      "100%|██████████| 1563/1563 [00:14<00:00, 107.17it/s, Loss=0.541067]"
     ]
    },
    {
     "name": "stdout",
     "output_type": "stream",
     "text": [
      "Train Epoch: 86, elapsed time:14.59s\n"
     ]
    },
    {
     "name": "stderr",
     "output_type": "stream",
     "text": [
      "\n"
     ]
    },
    {
     "name": "stdout",
     "output_type": "stream",
     "text": [
      "Training accuracy 80.998, test accuracy 83.82\n",
      "Training loss 845.6875160336494, test loss 147.84671030938625\n"
     ]
    },
    {
     "name": "stderr",
     "output_type": "stream",
     "text": [
      " 53%|█████▎    | 832/1563 [00:07<00:06, 110.29it/s, Loss=0.543111]"
     ]
    }
   ],
   "source": [
    "# starting training of a custom CNN\n",
    "criterion = nn.CrossEntropyLoss()\n",
    "optimizer = SGD(model.parameters(), lr=0.01, momentum=0.9)\n",
    "scheduler = lr_scheduler.ReduceLROnPlateau(optimizer, 'min', factor=0.3, patience=2, min_lr=0.0001)\n",
    "training(model, \"from_scratch\", train_loader, test_loader, criterion, optimizer, scheduler, 100, 10)"
   ]
  },
  {
   "cell_type": "code",
   "execution_count": null,
   "id": "9f3e23e4349c0959",
   "metadata": {
    "id": "9f3e23e4349c0959"
   },
   "outputs": [],
   "source": [
    "# transfer learning using ResNet50 adjusting the pretrained model to suit my goals\n",
    "num_classes = 10\n",
    "model_pretrained = models.resnet50(weights=models.ResNet50_Weights.IMAGENET1K_V1)\n",
    "model_pretrained.conv1 = nn.Conv2d(3, 64, kernel_size=3, stride=1, padding=1, bias=True)\n",
    "num_features = model_pretrained.fc.in_features\n",
    "model_pretrained.fc = nn.Linear(num_features, num_classes)\n",
    "model_pretrained = model_pretrained.to(device)"
   ]
  },
  {
   "cell_type": "code",
   "execution_count": null,
   "id": "OAINIliJ1K04",
   "metadata": {
    "id": "OAINIliJ1K04",
    "tags": []
   },
   "outputs": [],
   "source": [
    "# Define loss function and optimizer\n",
    "criterion_pretrained = nn.CrossEntropyLoss()\n",
    "optimizer_pretrained = SGD(model_pretrained.parameters(), lr=0.001, momentum=0.9)\n",
    "scheduler_pretrained = lr_scheduler.ReduceLROnPlateau(optimizer_pretrained, 'min', factor=0.5, patience=2, min_lr=0.0001)"
   ]
  },
  {
   "cell_type": "code",
   "execution_count": null,
   "id": "BwvfbTNg4hrD",
   "metadata": {
    "colab": {
     "base_uri": "https://localhost:8080/"
    },
    "execution": {
     "iopub.status.idle": "2024-05-01T05:26:34.228441Z"
    },
    "id": "BwvfbTNg4hrD",
    "outputId": "07c0ff9a-74f7-45e9-a92f-998c97f83e68",
    "tags": []
   },
   "outputs": [
    {
     "name": "stderr",
     "output_type": "stream",
     "text": [
      "100%|██████████| 1563/1563 [00:51<00:00, 30.46it/s, Loss=0.380618]"
     ]
    },
    {
     "name": "stdout",
     "output_type": "stream",
     "text": [
      "Train Epoch: 2, elapsed time:51.32s\n"
     ]
    },
    {
     "name": "stderr",
     "output_type": "stream",
     "text": [
      "\n"
     ]
    },
    {
     "name": "stdout",
     "output_type": "stream",
     "text": [
      "Training accuracy 86.788, test accuracy 86.12\n",
      "Training loss 594.9052270166576, test loss 131.14507415145636\n"
     ]
    },
    {
     "name": "stderr",
     "output_type": "stream",
     "text": [
      "100%|██████████| 1563/1563 [00:51<00:00, 30.59it/s, Loss=0.291909]"
     ]
    },
    {
     "name": "stdout",
     "output_type": "stream",
     "text": [
      "Train Epoch: 3, elapsed time:51.10s\n"
     ]
    },
    {
     "name": "stderr",
     "output_type": "stream",
     "text": [
      "\n"
     ]
    },
    {
     "name": "stdout",
     "output_type": "stream",
     "text": [
      "Training accuracy 89.806, test accuracy 88.27\n",
      "Training loss 456.2535178028047, test loss 111.35053279995918\n"
     ]
    },
    {
     "name": "stderr",
     "output_type": "stream",
     "text": [
      "100%|██████████| 1563/1563 [00:51<00:00, 30.42it/s, Loss=0.225482]"
     ]
    },
    {
     "name": "stdout",
     "output_type": "stream",
     "text": [
      "Train Epoch: 4, elapsed time:51.38s\n"
     ]
    },
    {
     "name": "stderr",
     "output_type": "stream",
     "text": [
      "\n"
     ]
    },
    {
     "name": "stdout",
     "output_type": "stream",
     "text": [
      "Training accuracy 92.16, test accuracy 88.7\n",
      "Training loss 352.4281845856458, test loss 113.6053351201117\n"
     ]
    },
    {
     "name": "stderr",
     "output_type": "stream",
     "text": [
      "100%|██████████| 1563/1563 [00:51<00:00, 30.56it/s, Loss=0.184252]"
     ]
    },
    {
     "name": "stdout",
     "output_type": "stream",
     "text": [
      "Train Epoch: 5, elapsed time:51.15s\n"
     ]
    },
    {
     "name": "stderr",
     "output_type": "stream",
     "text": [
      "\n"
     ]
    },
    {
     "name": "stdout",
     "output_type": "stream",
     "text": [
      "Training accuracy 93.384, test accuracy 89.22\n",
      "Training loss 287.9857499487698, test loss 107.9413069235161\n"
     ]
    },
    {
     "name": "stderr",
     "output_type": "stream",
     "text": [
      "100%|██████████| 1563/1563 [00:51<00:00, 30.44it/s, Loss=0.149093]"
     ]
    },
    {
     "name": "stdout",
     "output_type": "stream",
     "text": [
      "Train Epoch: 6, elapsed time:51.35s\n"
     ]
    },
    {
     "name": "stderr",
     "output_type": "stream",
     "text": [
      "\n"
     ]
    },
    {
     "name": "stdout",
     "output_type": "stream",
     "text": [
      "Training accuracy 94.886, test accuracy 89.56\n",
      "Training loss 233.03169457009062, test loss 110.70548288780265\n"
     ]
    },
    {
     "name": "stderr",
     "output_type": "stream",
     "text": [
      "100%|██████████| 1563/1563 [00:51<00:00, 30.55it/s, Loss=0.123195]"
     ]
    },
    {
     "name": "stdout",
     "output_type": "stream",
     "text": [
      "Train Epoch: 7, elapsed time:51.17s\n"
     ]
    },
    {
     "name": "stderr",
     "output_type": "stream",
     "text": [
      "\n"
     ]
    },
    {
     "name": "stdout",
     "output_type": "stream",
     "text": [
      "Training accuracy 95.614, test accuracy 89.8\n",
      "Training loss 192.55316483881325, test loss 110.68220818042755\n"
     ]
    },
    {
     "name": "stderr",
     "output_type": "stream",
     "text": [
      "100%|██████████| 1563/1563 [00:51<00:00, 30.43it/s, Loss=0.108844]"
     ]
    },
    {
     "name": "stdout",
     "output_type": "stream",
     "text": [
      "Train Epoch: 8, elapsed time:51.37s\n"
     ]
    },
    {
     "name": "stderr",
     "output_type": "stream",
     "text": [
      "\n"
     ]
    },
    {
     "name": "stdout",
     "output_type": "stream",
     "text": [
      "Training accuracy 96.248, test accuracy 89.67\n",
      "Training loss 170.1236028985586, test loss 111.44250677153468\n"
     ]
    },
    {
     "name": "stderr",
     "output_type": "stream",
     "text": [
      "100%|██████████| 1563/1563 [00:51<00:00, 30.62it/s, Loss=0.085931]"
     ]
    },
    {
     "name": "stdout",
     "output_type": "stream",
     "text": [
      "Train Epoch: 9, elapsed time:51.05s\n"
     ]
    },
    {
     "name": "stderr",
     "output_type": "stream",
     "text": [
      "\n"
     ]
    },
    {
     "name": "stdout",
     "output_type": "stream",
     "text": [
      "Training accuracy 97.028, test accuracy 89.57\n",
      "Training loss 134.30984633299522, test loss 118.1287490054965\n"
     ]
    },
    {
     "name": "stderr",
     "output_type": "stream",
     "text": [
      "100%|██████████| 1563/1563 [00:51<00:00, 30.47it/s, Loss=0.081582]\n"
     ]
    },
    {
     "name": "stdout",
     "output_type": "stream",
     "text": [
      "Train Epoch: 10, elapsed time:51.29s\n",
      "Training accuracy 97.236, test accuracy 89.95\n",
      "Training loss 127.51285666972399, test loss 115.3394356938079\n"
     ]
    },
    {
     "name": "stderr",
     "output_type": "stream",
     "text": [
      "100%|██████████| 1563/1563 [00:51<00:00, 30.48it/s, Loss=0.066271]"
     ]
    },
    {
     "name": "stdout",
     "output_type": "stream",
     "text": [
      "Train Epoch: 11, elapsed time:51.28s\n"
     ]
    },
    {
     "name": "stderr",
     "output_type": "stream",
     "text": [
      "\n"
     ]
    },
    {
     "name": "stdout",
     "output_type": "stream",
     "text": [
      "Early stopping, restoring the model\n"
     ]
    }
   ],
   "source": [
    "training(model_pretrained, \"model_pretrained\", train_loader, test_loader, criterion_pretrained, optimizer_pretrained, scheduler_pretrained, 20, 5)"
   ]
  },
  {
   "cell_type": "markdown",
   "id": "eFxkwVIYavGQ",
   "metadata": {
    "id": "eFxkwVIYavGQ"
   },
   "source": [
    "### Validation set"
   ]
  },
  {
   "cell_type": "code",
   "execution_count": 26,
   "id": "sEBtgANizfN7",
   "metadata": {
    "execution": {
     "iopub.execute_input": "2024-05-01T05:37:53.998737Z",
     "iopub.status.busy": "2024-05-01T05:37:53.997790Z",
     "iopub.status.idle": "2024-05-01T05:37:54.176028Z",
     "shell.execute_reply": "2024-05-01T05:37:54.174680Z",
     "shell.execute_reply.started": "2024-05-01T05:37:53.998697Z"
    },
    "id": "sEBtgANizfN7",
    "tags": []
   },
   "outputs": [],
   "source": [
    "# loading validation dataset\n",
    "task_2_images = np.load(\"task_2_test_images.npy\")\n",
    "task_2_images = np.transpose(task_2_images, (0, 3, 1, 2))\n",
    "task_2_images = task_2_images/255. \n",
    "task2_labels = np.load(\"task_2_test_labels.npy\")"
   ]
  },
  {
   "cell_type": "code",
   "execution_count": 27,
   "id": "BaLRHqbK0FfU",
   "metadata": {
    "execution": {
     "iopub.execute_input": "2024-05-01T05:37:55.327690Z",
     "iopub.status.busy": "2024-05-01T05:37:55.326688Z",
     "iopub.status.idle": "2024-05-01T05:37:55.450516Z",
     "shell.execute_reply": "2024-05-01T05:37:55.449335Z",
     "shell.execute_reply.started": "2024-05-01T05:37:55.327656Z"
    },
    "id": "BaLRHqbK0FfU",
    "tags": []
   },
   "outputs": [],
   "source": [
    "# Transform the images\n",
    "normalization_transform = transforms.Normalize((0.4914, 0.4822, 0.4465), (0.2023, 0.1994, 0.2010))\n",
    "task_2_images = normalization_transform(torch.tensor(task_2_images, dtype=torch.float32))\n",
    "task2_labels = torch.tensor(task2_labels.astype(\"int64\"))\n"
   ]
  },
  {
   "cell_type": "code",
   "execution_count": 28,
   "id": "3T7jvcnGOJCD",
   "metadata": {
    "execution": {
     "iopub.execute_input": "2024-05-01T05:37:56.421579Z",
     "iopub.status.busy": "2024-05-01T05:37:56.420347Z",
     "iopub.status.idle": "2024-05-01T05:37:56.438398Z",
     "shell.execute_reply": "2024-05-01T05:37:56.437368Z",
     "shell.execute_reply.started": "2024-05-01T05:37:56.421542Z"
    },
    "id": "3T7jvcnGOJCD",
    "tags": []
   },
   "outputs": [],
   "source": [
    "def print_AUC_ROC_score(selected_model, images, labels):\n",
    "    \"\"\"\n",
    "    Print ROC AUC score\n",
    "    :param selected_model: selected model to print metrics\n",
    "    :param images: images loaded\n",
    "    :param labels: labels loaded\n",
    "    :return: nothing\n",
    "    \"\"\"\n",
    "    selected_model.eval()\n",
    "    with torch.no_grad():\n",
    "        time_start = time.time()\n",
    "        y_pred = selected_model(images.to(device))\n",
    "        time_spent = time.time()-time_start\n",
    "        auc_roc_score = roc_auc_score(labels.cpu().numpy(), F.softmax(y_pred, dim=1).cpu().numpy(), multi_class='ovr')\n",
    "        print(\"AUC-ROC Score:\", auc_roc_score)\n",
    "        print(\"Time spent in seconds: \", time_spent)"
   ]
  },
  {
   "cell_type": "code",
   "execution_count": 29,
   "id": "E3UAnrZhkK1N",
   "metadata": {
    "colab": {
     "base_uri": "https://localhost:8080/"
    },
    "execution": {
     "iopub.execute_input": "2024-05-01T05:37:57.630291Z",
     "iopub.status.busy": "2024-05-01T05:37:57.629383Z",
     "iopub.status.idle": "2024-05-01T05:37:57.749752Z",
     "shell.execute_reply": "2024-05-01T05:37:57.748624Z",
     "shell.execute_reply.started": "2024-05-01T05:37:57.630249Z"
    },
    "id": "E3UAnrZhkK1N",
    "outputId": "3a9a4551-168f-426b-b1a2-456afa21f16f",
    "tags": []
   },
   "outputs": [
    {
     "name": "stdout",
     "output_type": "stream",
     "text": [
      "AUC-ROC Score: 0.9496791442659868\n",
      "Time spent in seconds:  0.017938852310180664\n"
     ]
    }
   ],
   "source": [
    "print_AUC_ROC_score(model, task_2_images, task2_labels)"
   ]
  },
  {
   "cell_type": "code",
   "execution_count": 30,
   "id": "Tiw7ajPcz-1S",
   "metadata": {
    "colab": {
     "base_uri": "https://localhost:8080/"
    },
    "execution": {
     "iopub.execute_input": "2024-05-01T05:37:58.981697Z",
     "iopub.status.busy": "2024-05-01T05:37:58.980644Z",
     "iopub.status.idle": "2024-05-01T05:37:59.802613Z",
     "shell.execute_reply": "2024-05-01T05:37:59.801299Z",
     "shell.execute_reply.started": "2024-05-01T05:37:58.981641Z"
    },
    "id": "Tiw7ajPcz-1S",
    "outputId": "25dc44f0-c74b-4856-ba24-24a156130053",
    "tags": []
   },
   "outputs": [
    {
     "name": "stdout",
     "output_type": "stream",
     "text": [
      "AUC-ROC Score: 0.9729164026933512\n",
      "Time spent in seconds:  0.02630472183227539\n"
     ]
    }
   ],
   "source": [
    "print_AUC_ROC_score(model_pretrained, task_2_images, task2_labels)"
   ]
  },
  {
   "cell_type": "markdown",
   "id": "a0be5177-221e-49bf-8a0e-db9aa7d20c44",
   "metadata": {
    "id": "a0be5177-221e-49bf-8a0e-db9aa7d20c44"
   },
   "source": [
    "Performance: The pretrained ResNet50 model outperforms the model trained from scratch, as evidenced by the higher AUC-ROC score.\n",
    "\n",
    "Model Size: While the pretrained ResNet50 model have a larger model size due to its architecture and pretrained weights, it offers superior performance.\n",
    "\n",
    "Inference Speed: The model trained from scratch shows faster inference speed, which could be advantageous in scenarios where real-time predictions are critical.\n",
    "\n",
    "These comparisons indicate that although the model trained from scratch may offer advantages in terms of being lightweight and faster during inference, the pretrained ResNet50 model demonstrates superior classification performance. The selection between these two models hinges on the specific needs of the application, weighing factors such as performance, model size, and inference speed."
   ]
  },
  {
   "cell_type": "code",
   "execution_count": null,
   "id": "fb779a60a093e5d0",
   "metadata": {
    "id": "fb779a60a093e5d0"
   },
   "outputs": [],
   "source": []
  }
 ],
 "metadata": {
  "accelerator": "GPU",
  "colab": {
   "gpuType": "T4",
   "provenance": []
  },
  "kernelspec": {
   "display_name": "DataSphere Kernel",
   "language": "python",
   "name": "python3"
  },
  "language_info": {
   "codemirror_mode": {
    "name": "ipython",
    "version": 3
   },
   "file_extension": ".py",
   "mimetype": "text/x-python",
   "name": "python",
   "nbconvert_exporter": "python",
   "pygments_lexer": "ipython3",
   "version": "3.10.12"
  }
 },
 "nbformat": 4,
 "nbformat_minor": 5
}
